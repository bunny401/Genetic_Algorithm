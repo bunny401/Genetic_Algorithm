{
 "cells": [
  {
   "cell_type": "code",
   "execution_count": 1,
   "id": "94374937",
   "metadata": {},
   "outputs": [],
   "source": [
    "#imports\n",
    "import math\n",
    "import numpy as np\n",
    "import random\n",
    "import itertools\n",
    "from random import choices\n",
    "import cmath\n",
    "BOLD = '\\033[1m'\n",
    "RESET = '\\033[0m'\n"
   ]
  },
  {
   "cell_type": "code",
   "execution_count": 2,
   "id": "4f356e53",
   "metadata": {},
   "outputs": [],
   "source": [
    "#@ generating population in dbm\n",
    "def generate_random_solutions(powers, no_of_users, num_random_solutions):\n",
    "    return np.random.choice(powers, size=(num_random_solutions, no_of_users))\n"
   ]
  },
  {
   "cell_type": "code",
   "execution_count": 3,
   "id": "24ad9c60",
   "metadata": {},
   "outputs": [],
   "source": [
    "#@ converting population to linear watt\n",
    "def calculate_linear_trans_power(pop_size_dbm):\n",
    "    result=(pow(10, -3) * np.power(10.0, np.array(pop_size_dbm, dtype=\"float\") / 10))\n",
    "    return result\n"
   ]
  },
  {
   "cell_type": "code",
   "execution_count": 4,
   "id": "5de6a4ef",
   "metadata": {},
   "outputs": [],
   "source": [
    "#@ fitness function  ==== linear_power_vect\n",
    "def sum_linear_powers(array):\n",
    "    return np.sum(array, axis=1)"
   ]
  },
  {
   "cell_type": "code",
   "execution_count": 5,
   "id": "cda44817",
   "metadata": {},
   "outputs": [],
   "source": [
    "# $ calculate the bit rate matrix\n",
    "def calculate_formula_and_sums(linear_pop, SUM_GAIN, linear_noise):\n",
    "    a = np.array(linear_pop)\n",
    "    b = np.array(SUM_GAIN)\n",
    "    bit_rate_matrix = (D * np.log2(1 + ((a * b) / linear_noise)))\n",
    "    return bit_rate_matrix"
   ]
  },
  {
   "cell_type": "code",
   "execution_count": 6,
   "id": "5f0d71c5",
   "metadata": {},
   "outputs": [],
   "source": [
    "#@\n",
    "def selection_half_population(size_pop, pop_size_dbm, row_sums):\n",
    "    L = size_pop // 2\n",
    "    \n",
    "    # Combine the population and their corresponding row sums\n",
    "    help_fun = np.column_stack((pop_size_dbm, row_sums))\n",
    "\n",
    "    # Sort the combined array in ascending order of row sums\n",
    "    sorted_help_fun = help_fun[np.argsort(help_fun[:, -1])]\n",
    "    \n",
    "    # Select the top half of the population\n",
    "    parent = sorted_help_fun[:L, :-1]\n",
    "    parent_EE = sorted_help_fun[:L, -1]\n",
    "    \n",
    "    # Combine the selected parents and their corresponding row sums\n",
    "    selected_parents = [[list(parent_row), parent_EE_value] for parent_row, parent_EE_value in zip(parent, parent_EE)]\n",
    "    \n",
    "    return selected_parents"
   ]
  },
  {
   "cell_type": "code",
   "execution_count": 7,
   "id": "ab2020e1",
   "metadata": {},
   "outputs": [],
   "source": [
    "def extract_powers_in_dbm(selected_parents):\n",
    "    powers = [list(parent[0]) for parent in selected_parents]\n",
    "    return powers"
   ]
  },
  {
   "cell_type": "code",
   "execution_count": 8,
   "id": "416f310a",
   "metadata": {},
   "outputs": [],
   "source": [
    "#@\n",
    "def one_point_crossover_first_second(parents):\n",
    "    offspring = []\n",
    "    \n",
    "    # Perform crossover between the first two parents\n",
    "    parent1 = parents[0][0]\n",
    "    parent2 = parents[1][0]\n",
    "    crossover_point = random.randint(1, len(parent1) - 1)\n",
    "    offspring1 = parent1[:crossover_point] + parent2[crossover_point:]\n",
    "    offspring2 = parent2[:crossover_point] + parent1[crossover_point:]\n",
    "    offspring.append(offspring1)\n",
    "    offspring.append(offspring2)\n",
    "\n",
    "    # Perform crossover between the second two parents\n",
    "    parent3 = parents[2][0]\n",
    "    parent4 = parents[3][0]\n",
    "    crossover_point = random.randint(1, len(parent3) - 1)\n",
    "    offspring3 = parent3[:crossover_point] + parent4[crossover_point:]\n",
    "    offspring4 = parent4[:crossover_point] + parent3[crossover_point:]\n",
    "    offspring.append(offspring3)\n",
    "    offspring.append(offspring4)\n",
    "\n",
    "    return offspring\n",
    "\n",
    "\n"
   ]
  },
  {
   "cell_type": "code",
   "execution_count": 9,
   "id": "b2a5256a",
   "metadata": {},
   "outputs": [
    {
     "data": {
      "text/plain": [
       "1"
      ]
     },
     "execution_count": 9,
     "metadata": {},
     "output_type": "execute_result"
    }
   ],
   "source": [
    "random.randint(1, 3)"
   ]
  },
  {
   "cell_type": "code",
   "execution_count": 10,
   "id": "057d4bde",
   "metadata": {},
   "outputs": [],
   "source": [
    "def mutation(offspring, powers):\n",
    "    mutated_offspring = []\n",
    "    for child in offspring:\n",
    "        mutated_child = child.copy()\n",
    "        mutation_position = random.randint(0, len(child) - 1)\n",
    "        new_gene = random.choice(powers)\n",
    "        \n",
    "        while new_gene == mutated_child[mutation_position]:\n",
    "            new_gene = random.choice(powers)\n",
    "        \n",
    "        mutated_child[mutation_position] = new_gene\n",
    "        mutated_offspring.append(mutated_child)\n",
    "    return mutated_offspring\n",
    "\n"
   ]
  },
  {
   "cell_type": "code",
   "execution_count": 11,
   "id": "6d6896f0",
   "metadata": {},
   "outputs": [],
   "source": [
    "def concatenate_parents_and_offspring(selected_parents, mutated_offspring):\n",
    "    combined_population = []\n",
    "\n",
    "    # Add selected parents to the combined population\n",
    "    for parent, parent_EE_value in selected_parents:\n",
    "        combined_population.append(parent)\n",
    "\n",
    "    # Add mutated offspring to the combined population\n",
    "    for offspring in mutated_offspring:\n",
    "        combined_population.append(np.array(offspring))\n",
    "\n",
    "    # Convert the combined population list to a NumPy array\n",
    "    combined_population = np.array(combined_population)\n",
    "\n",
    "    return combined_population\n",
    "\n",
    "# # Usage\n",
    "# combined_population = concatenate_parents_and_offspring(selected_parents, mutated_offspring)\n",
    "# print(\"Combined Population:\")\n",
    "# print(combined_population)\n"
   ]
  },
  {
   "cell_type": "code",
   "execution_count": null,
   "id": "636d0025",
   "metadata": {},
   "outputs": [],
   "source": [
    "import random\n",
    "\n",
    "def get_random_scenarios(population, pop_size, k):\n",
    "    if k * pop_size > len(population):\n",
    "        raise ValueError(\"k * pop_size cannot be greater than the number of elements in the population.\")\n",
    "    \n",
    "    population_list = population.tolist()\n",
    "    all_random_scenarios = []\n",
    "    \n",
    "    for _ in range(k):\n",
    "        random_scenarios = random.sample(population_list, pop_size)\n",
    "        all_random_scenarios.append(random_scenarios)\n",
    "        population_list = [scenario for scenario in population_list if scenario not in random_scenarios]\n",
    "    \n",
    "    return all_random_scenarios"
   ]
  },
  {
   "cell_type": "code",
   "execution_count": 12,
   "id": "c1729c3a",
   "metadata": {},
   "outputs": [],
   "source": [
    "powers               = [42,44,46]\n",
    "num_antennas_BS      = 4\n",
    "pop_size             = 8\n",
    "\n",
    "D=10**6                                                            #bandwidth\n",
    "N=-174 + 10 * math.log10(D)                                        #noise in dbm\n",
    "linear_noise = calculate_linear_trans_power([N])\n",
    "         \n",
    "population = generate_random_solutions(powers, num_antennas_BS, pop_size)"
   ]
  },
  {
   "cell_type": "code",
   "execution_count": 13,
   "id": "44743b8d",
   "metadata": {},
   "outputs": [],
   "source": [
    "def GA(population):\n",
    "    Lin_population = calculate_linear_trans_power(population)\n",
    "    Lin_vector     = sum_linear_powers(Lin_population)\n",
    "    parents        = selection_half_population(pop_size, population, Lin_vector)\n",
    "    \n",
    "    best_power     = parents[0][1] \n",
    "    best_scenario  = np.array(parents[0][0]).astype(int)\n",
    "    \n",
    "    next_generation= np.array(extract_powers_in_dbm(parents)).astype(int)\n",
    "       \n",
    "    crossover       = np.array(one_point_crossover_first_second(parents)).astype(int)\n",
    "    mutation1       = np.array(mutation(crossover, powers)).astype(int)\n",
    "    #print(\"crossover\",crossover)\n",
    "    #print(\"mutation1\",mutation1)\n",
    "    \n",
    "    next_generation=  concatenate_parents_and_offspring(parents, mutation1)\n",
    "    population     = next_generation\n",
    "\n",
    "    return population,best_power,best_scenario"
   ]
  },
  {
   "cell_type": "code",
   "execution_count": 14,
   "id": "ff73eaa9",
   "metadata": {},
   "outputs": [
    {
     "name": "stdout",
     "output_type": "stream",
     "text": [
      "generation:         1\n",
      "Best_scenario       [2 0 0 2]\n",
      "Best_power          0.005169786384922227\n",
      "************************************************\n",
      "generation:         2\n",
      "Best_scenario       [0 0 0 0]\n",
      "Best_power          0.004\n",
      "************************************************\n",
      "generation:         3\n",
      "Best_scenario       [0 0 0 0]\n",
      "Best_power          0.004\n",
      "************************************************\n",
      "generation:         4\n",
      "Best_scenario       [0 0 0 0]\n",
      "Best_power          0.004\n",
      "************************************************\n",
      "generation:         5\n",
      "Best_scenario       [0 0 0 0]\n",
      "Best_power          0.004\n",
      "************************************************\n",
      "generation:         6\n",
      "Best_scenario       [0 0 0 0]\n",
      "Best_power          0.004\n",
      "************************************************\n",
      "generation:         7\n",
      "Best_scenario       [0 0 0 0]\n",
      "Best_power          0.004\n",
      "************************************************\n",
      "generation:         8\n",
      "Best_scenario       [0 0 0 0]\n",
      "Best_power          0.004\n",
      "************************************************\n",
      "generation:         9\n",
      "Best_scenario       [0 0 0 0]\n",
      "Best_power          0.004\n",
      "************************************************\n",
      "generation:         10\n",
      "Best_scenario       [0 0 0 0]\n",
      "Best_power          0.004\n",
      "************************************************\n"
     ]
    }
   ],
   "source": [
    "max_G = 10\n",
    "\n",
    "for i in range(max_G):\n",
    "    \n",
    "    population,best_powerr,best_scenarioo = GA(population)\n",
    "    print(\"generation:        \",i+1)\n",
    "    #print(\"population\",population)\n",
    "    print(\"Best_scenario      \",best_scenarioo)\n",
    "    print(\"Best_power         \",best_powerr)\n",
    "    print(\"************************************************\")\n",
    "   "
   ]
  }
 ],
 "metadata": {
  "kernelspec": {
   "display_name": "Python 3 (ipykernel)",
   "language": "python",
   "name": "python3"
  },
  "language_info": {
   "codemirror_mode": {
    "name": "ipython",
    "version": 3
   },
   "file_extension": ".py",
   "mimetype": "text/x-python",
   "name": "python",
   "nbconvert_exporter": "python",
   "pygments_lexer": "ipython3",
   "version": "3.9.13"
  }
 },
 "nbformat": 4,
 "nbformat_minor": 5
}
