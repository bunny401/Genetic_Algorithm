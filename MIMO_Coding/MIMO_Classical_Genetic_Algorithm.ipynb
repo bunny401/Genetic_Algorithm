{
 "cells": [
  {
   "cell_type": "code",
   "execution_count": 142,
   "id": "94374937",
   "metadata": {},
   "outputs": [],
   "source": [
    "#imports\n",
    "import math\n",
    "import numpy as np\n",
    "import random\n",
    "import itertools\n",
    "from random import choices\n",
    "import cmath\n",
    "BOLD = '\\033[1m'\n",
    "RESET = '\\033[0m'\n"
   ]
  },
  {
   "cell_type": "code",
   "execution_count": 143,
   "id": "f1c5d357",
   "metadata": {},
   "outputs": [],
   "source": [
    "#constants\n",
    "GAIN_MATRIX = (\n",
    "    (3.95370716e-13, 1.40831353e-12, 1.30345221e-13, 1.58616128e-12),\n",
    "    (1.10454943e-11, 1.08797904e-13, 1.70626457e-11, 1.87910752e-13),\n",
    "    (5.35349571e-12, 1.75915771e-12, 1.10933550e-11, 2.15002508e-12),\n",
    "    (9.57092193e-12, 1.14512900e-11, 7.62246884e-13, 1.58625393e-11)\n",
    ")\n",
    "\n",
    "SUM_GAIN = (\n",
    "    2.63652827e-11, 1.47275591e-11, 2.90485928e-11, 1.97866364e-11\n",
    ")\n",
    "\n",
    "D=10**6  #bandwidth\n",
    "N=-174 + 10 * math.log10(D) #noise in dbm"
   ]
  },
  {
   "cell_type": "code",
   "execution_count": 144,
   "id": "4f356e53",
   "metadata": {},
   "outputs": [],
   "source": [
    "#generating population in dbm\n",
    "def generate_random_solutions(powers, no_of_users, num_random_solutions):\n",
    "    return np.random.choice(powers, size=(num_random_solutions, no_of_users))\n"
   ]
  },
  {
   "cell_type": "code",
   "execution_count": 145,
   "id": "6acb75cc",
   "metadata": {},
   "outputs": [
    {
     "name": "stdout",
     "output_type": "stream",
     "text": [
      "\u001b[1mPOWERS IN DBM\u001b[0m\n",
      "[[2 0 0 0]\n",
      " [0 0 2 0]\n",
      " [4 4 2 4]\n",
      " [2 4 0 0]\n",
      " [4 0 0 2]\n",
      " [0 0 2 4]\n",
      " [4 0 4 2]\n",
      " [4 4 4 4]]\n"
     ]
    }
   ],
   "source": [
    "#usage\n",
    "powers = [0,2,4]\n",
    "no_of_users = 4\n",
    "num_random_solutions = 8\n",
    "print(f\"{BOLD}POWERS IN DBM{RESET}\")\n",
    "pop_size_dbm = generate_random_solutions(powers, no_of_users, num_random_solutions)\n",
    "print(pop_size_dbm)"
   ]
  },
  {
   "cell_type": "code",
   "execution_count": 146,
   "id": "24ad9c60",
   "metadata": {},
   "outputs": [],
   "source": [
    "# converting population to linear watt\n",
    "def calculate_linear_trans_power(pop_size_dbm):\n",
    "    result=(pow(10, -3) * np.power(10.0, np.array(pop_size_dbm, dtype=\"float\") / 10))\n",
    "    return result\n"
   ]
  },
  {
   "cell_type": "code",
   "execution_count": 147,
   "id": "d4b13abc",
   "metadata": {},
   "outputs": [
    {
     "name": "stdout",
     "output_type": "stream",
     "text": [
      "\u001b[1mPOWERS IN LINEAR\u001b[0m\n",
      "[[0.00158489 0.001      0.001      0.001     ]\n",
      " [0.001      0.001      0.00158489 0.001     ]\n",
      " [0.00251189 0.00251189 0.00158489 0.00251189]\n",
      " [0.00158489 0.00251189 0.001      0.001     ]\n",
      " [0.00251189 0.001      0.001      0.00158489]\n",
      " [0.001      0.001      0.00158489 0.00251189]\n",
      " [0.00251189 0.001      0.00251189 0.00158489]\n",
      " [0.00251189 0.00251189 0.00251189 0.00251189]]\n"
     ]
    }
   ],
   "source": [
    "#usage\n",
    "print(f\"{BOLD}POWERS IN LINEAR{RESET}\")\n",
    "linear_pop=calculate_linear_trans_power(pop_size_dbm)\n",
    "print(linear_pop)"
   ]
  },
  {
   "cell_type": "code",
   "execution_count": 148,
   "id": "e8f45a42",
   "metadata": {},
   "outputs": [],
   "source": [
    "def sum_linear_powers(array):\n",
    "    return np.sum(array, axis=1)"
   ]
  },
  {
   "cell_type": "code",
   "execution_count": 149,
   "id": "a66644eb",
   "metadata": {},
   "outputs": [
    {
     "name": "stdout",
     "output_type": "stream",
     "text": [
      "\u001b[1mSUM OF LINEAR POWERS BY ROW\u001b[0m\n",
      "0.0045848931924611135\n",
      "0.0045848931924611135\n",
      "0.009120552486989855\n",
      "0.006096779623970694\n",
      "0.006096779623970694\n",
      "0.006096779623970694\n",
      "0.007608666055480274\n",
      "0.010047545726038321\n"
     ]
    }
   ],
   "source": [
    "# usage\n",
    "print(f\"{BOLD}SUM OF LINEAR POWERS BY ROW{RESET}\")\n",
    "row_sums = sum_linear_powers(linear_pop)\n",
    "print(*row_sums, sep='\\n')"
   ]
  },
  {
   "cell_type": "code",
   "execution_count": 150,
   "id": "6e610961",
   "metadata": {},
   "outputs": [
    {
     "name": "stdout",
     "output_type": "stream",
     "text": [
      "Linear noise: [3.98107171e-15]\n"
     ]
    }
   ],
   "source": [
    "#usage for converting the noise to linear\n",
    "linear_noise = calculate_linear_trans_power([N])\n",
    "print(\"Linear noise:\", linear_noise)"
   ]
  },
  {
   "cell_type": "code",
   "execution_count": 151,
   "id": "5e6d5acb",
   "metadata": {},
   "outputs": [],
   "source": [
    "def calculate_formula_and_sums(linear_pop, SUM_GAIN, linear_noise):\n",
    "    a = np.array(linear_pop)\n",
    "    b = np.array(SUM_GAIN)\n",
    "    bit_rate_matrix = (D * np.log2(1 + ((a * b) / linear_noise)))\n",
    "    return bit_rate_matrix"
   ]
  },
  {
   "cell_type": "code",
   "execution_count": 152,
   "id": "c85a54b7",
   "metadata": {},
   "outputs": [
    {
     "name": "stdout",
     "output_type": "stream",
     "text": [
      "\u001b[1mBITRATES(formula)\u001b[0m\n",
      "[[3523086.17671602 2232475.21650449 3052533.55366803 2577774.03041514]\n",
      " [2930294.44975843 2232475.21650449 3651275.96911754 2577774.03041514]\n",
      " [4140399.83799027 3363516.1582802  3651275.96911754 3753232.64345308]\n",
      " [3523086.17671602 3363516.1582802  3052533.55366803 2577774.03041514]\n",
      " [4140399.83799027 2232475.21650449 3052533.55366803 3150104.99872635]\n",
      " [2930294.44975843 2232475.21650449 3651275.96911754 3753232.64345308]\n",
      " [4140399.83799027 2232475.21650449 4272652.02625749 3150104.99872635]\n",
      " [4140399.83799027 3363516.1582802  4272652.02625749 3753232.64345308]]\n"
     ]
    }
   ],
   "source": [
    "#Usage for calculating the bitrates through big formula\n",
    "print(f\"{BOLD}BITRATES(formula){RESET}\")\n",
    "bitrate=calculate_formula_and_sums(linear_pop, SUM_GAIN, linear_noise)\n",
    "print(bitrate)"
   ]
  },
  {
   "cell_type": "code",
   "execution_count": 153,
   "id": "b57b1ae6",
   "metadata": {},
   "outputs": [],
   "source": [
    "def row_wise_sums(matrix):\n",
    "    return [sum(row) for row in matrix]"
   ]
  },
  {
   "cell_type": "code",
   "execution_count": 154,
   "id": "4dfc0488",
   "metadata": {},
   "outputs": [
    {
     "name": "stdout",
     "output_type": "stream",
     "text": [
      "\u001b[1mSUM OF BITRATES\u001b[0m\n",
      "11385868.97730368\n",
      "11391819.665795594\n",
      "14908424.608841093\n",
      "12516909.91907939\n",
      "12575513.606889138\n",
      "12567278.278833544\n",
      "13795632.079478601\n",
      "15529800.665981045\n"
     ]
    }
   ],
   "source": [
    "# USAGE\n",
    "print(f\"{BOLD}SUM OF BITRATES{RESET}\")\n",
    "row_sum_bitrate = row_wise_sums(bitrate)\n",
    "print(*row_sum_bitrate, sep='\\n')\n"
   ]
  },
  {
   "cell_type": "code",
   "execution_count": 155,
   "id": "719389bb",
   "metadata": {},
   "outputs": [
    {
     "name": "stdout",
     "output_type": "stream",
     "text": [
      "\u001b[1mROW SUMS (Linear)    vs     ROW SUM BITRATES\u001b[0m\n",
      "0.0045848931924611135          11385868.97730368\n",
      "0.0045848931924611135          11391819.665795594\n",
      "0.009120552486989855          14908424.608841093\n",
      "0.006096779623970694          12516909.91907939\n",
      "0.006096779623970694          12575513.606889138\n",
      "0.006096779623970694          12567278.278833544\n",
      "0.007608666055480274          13795632.079478601\n",
      "0.010047545726038321          15529800.665981045\n"
     ]
    }
   ],
   "source": [
    "# for my understanding\n",
    "\n",
    "# Printing row_sums and row_sum_bitrate side by side\n",
    "print(f\"{BOLD}ROW SUMS (Linear)    vs     ROW SUM BITRATES{RESET}\")\n",
    "for i in range(len(row_sums)):\n",
    "    print(f\"{row_sums[i]:<15}          {row_sum_bitrate[i]:<15}\")\n"
   ]
  },
  {
   "cell_type": "code",
   "execution_count": 156,
   "id": "fbb7fdc0",
   "metadata": {},
   "outputs": [],
   "source": [
    "def sort_row_sums(array):\n",
    "    return np.sort(array)"
   ]
  },
  {
   "cell_type": "code",
   "execution_count": 157,
   "id": "1baa847a",
   "metadata": {},
   "outputs": [
    {
     "name": "stdout",
     "output_type": "stream",
     "text": [
      "\u001b[1mSORTED ROW SUMS IN INCREASING ORDER OF LINEAR POWER\u001b[0m\n",
      "0.0045848931924611135\n",
      "0.0045848931924611135\n",
      "0.006096779623970694\n",
      "0.006096779623970694\n",
      "0.006096779623970694\n",
      "0.007608666055480274\n",
      "0.009120552486989855\n",
      "0.010047545726038321\n"
     ]
    }
   ],
   "source": [
    "print(f\"{BOLD}SORTED ROW SUMS IN INCREASING ORDER OF LINEAR POWER{RESET}\")\n",
    "sorted_array_linear_power = sort_row_sums(row_sums)\n",
    "print(*sorted_array_linear_power, sep='\\n')  # Output: [1 3 5 7 9]"
   ]
  },
  {
   "cell_type": "code",
   "execution_count": 158,
   "id": "20d51f29",
   "metadata": {},
   "outputs": [
    {
     "name": "stdout",
     "output_type": "stream",
     "text": [
      "\u001b[1mSORTED ROW SUMS IN INCREASING ORDER OF BITRATES\u001b[0m\n",
      "11385868.97730368\n",
      "11391819.665795594\n",
      "12516909.91907939\n",
      "12567278.278833544\n",
      "12575513.606889138\n",
      "13795632.079478601\n",
      "14908424.608841093\n",
      "15529800.665981045\n"
     ]
    }
   ],
   "source": [
    "print(f\"{BOLD}SORTED ROW SUMS IN INCREASING ORDER OF BITRATES{RESET}\")\n",
    "sorted_array_bitrates = sort_row_sums(row_sum_bitrate)\n",
    "print(*sorted_array_bitrates, sep='\\n')  # Output: [1 3 5 7 9]"
   ]
  },
  {
   "cell_type": "code",
   "execution_count": null,
   "id": "f423afe3",
   "metadata": {},
   "outputs": [],
   "source": []
  },
  {
   "cell_type": "code",
   "execution_count": 167,
   "id": "9a835285",
   "metadata": {},
   "outputs": [
    {
     "name": "stdout",
     "output_type": "stream",
     "text": [
      "\u001b[1mIncreasing order ROW SUMS Linear    vs        Increasing order ROW SUM BITRATES\u001b[0m\n",
      "0.0045848931924611135           11385868.97730368\n",
      "0.0045848931924611135           11391819.665795594\n",
      "0.006096779623970694           12516909.91907939\n",
      "0.006096779623970694           12567278.278833544\n",
      "0.006096779623970694           12575513.606889138\n",
      "0.007608666055480274           13795632.079478601\n",
      "0.009120552486989855           14908424.608841093\n",
      "0.010047545726038321           15529800.665981045\n"
     ]
    }
   ],
   "source": [
    "# for my understanding\n",
    "\n",
    "# Printing row_sums and row_sum_bitrate side by side\n",
    "print(f\"{BOLD}Increasing order ROW SUMS Linear    vs        Increasing order ROW SUM BITRATES{RESET}\")\n",
    "for i in range(len(row_sums)):\n",
    "    print(f\"{sorted_array_linear_power[i]:<15}           {sorted_array_bitrates[i]:<15}\")"
   ]
  },
  {
   "cell_type": "code",
   "execution_count": 168,
   "id": "f32a3770",
   "metadata": {},
   "outputs": [],
   "source": [
    "def select_first_half(array):\n",
    "    midpoint = len(array) // 2\n",
    "    return array[:midpoint]\n"
   ]
  },
  {
   "cell_type": "code",
   "execution_count": 170,
   "id": "26482fb3",
   "metadata": {},
   "outputs": [
    {
     "name": "stdout",
     "output_type": "stream",
     "text": [
      "\u001b[1mTOP HALF OF SORTED ROW SUMS OF LINEAR POWER\u001b[0m\n",
      "0.0045848931924611135\n",
      "0.0045848931924611135\n",
      "0.006096779623970694\n",
      "0.006096779623970694\n"
     ]
    }
   ],
   "source": [
    "first_half_linear_power_increasing = select_first_half(sorted_array_linear_power)\n",
    "print(f\"{BOLD}TOP HALF OF SORTED ROW SUMS OF LINEAR POWER{RESET}\")\n",
    "print(*first_half_linear_power_increasing, sep='\\n') \n",
    " "
   ]
  },
  {
   "cell_type": "code",
   "execution_count": 172,
   "id": "b04f5277",
   "metadata": {},
   "outputs": [
    {
     "name": "stdout",
     "output_type": "stream",
     "text": [
      "\u001b[1mTOP HALF OF SORTED ROW SUMS OF BITRATES\u001b[0m\n",
      "11385868.97730368\n",
      "11391819.665795594\n",
      "12516909.91907939\n",
      "12567278.278833544\n"
     ]
    }
   ],
   "source": [
    "first_half_bitrates_increasing = select_first_half(sorted_array_bitrates)\n",
    "print(f\"{BOLD}TOP HALF OF SORTED ROW SUMS OF BITRATES{RESET}\")\n",
    "print(*first_half_bitrates_increasing, sep='\\n') "
   ]
  },
  {
   "cell_type": "code",
   "execution_count": null,
   "id": "96090aa2",
   "metadata": {},
   "outputs": [],
   "source": []
  },
  {
   "cell_type": "code",
   "execution_count": null,
   "id": "c8ca5510",
   "metadata": {},
   "outputs": [],
   "source": []
  },
  {
   "cell_type": "code",
   "execution_count": null,
   "id": "6b342d13",
   "metadata": {},
   "outputs": [],
   "source": [
    "def get_initial_population(bitrate, pop_size_dbm, sorted_row_sums):\n",
    "    half_sorted_row_sums = select_half_of_sorted_sums(sorted_row_sums)\n",
    "\n",
    "    initial_population = []\n",
    "    for sorted_sum in half_sorted_row_sums:\n",
    "        index = row_wise_sums(bitrate).index(sorted_sum)\n",
    "        initial_population.append(pop_size_dbm[index])\n",
    "\n",
    "    return initial_population\n",
    "\n"
   ]
  },
  {
   "cell_type": "code",
   "execution_count": null,
   "id": "adc182c9",
   "metadata": {},
   "outputs": [],
   "source": [
    "# Call the function and get the initial population\n",
    "initial_population = get_initial_population(bitrate, pop_size_dbm, sorted_row_sums)\n",
    "\n",
    "# Print the initial population\n",
    "print(\"Initial population:\")\n",
    "for solution in initial_population:\n",
    "    print(solution)"
   ]
  },
  {
   "cell_type": "code",
   "execution_count": null,
   "id": "a71bbbb0",
   "metadata": {},
   "outputs": [],
   "source": [
    "def single_point_crossover(parent1, parent2):\n",
    "    # Perform single-point crossover\n",
    "    crossover_point = random.randint(1, len(parent1) - 1)\n",
    "    child1 = np.hstack((parent1[:crossover_point], parent2[crossover_point:]))\n",
    "    child2 = np.hstack((parent2[:crossover_point], parent1[crossover_point:]))\n",
    "    \n",
    "    return child1, child2\n",
    "\n"
   ]
  },
  {
   "cell_type": "code",
   "execution_count": null,
   "id": "1f4d4b08",
   "metadata": {},
   "outputs": [],
   "source": [
    "def perform_single_point_crossover(initial_population):\n",
    "    offspring = []\n",
    "    for i in range(0, len(initial_population), 2):\n",
    "        parent1 = initial_population[i]\n",
    "        parent2 = initial_population[i + 1]\n",
    "\n",
    "        child1, child2 = single_point_crossover(parent1, parent2)\n",
    "\n",
    "        offspring.append(child1)\n",
    "        offspring.append(child2)\n",
    "\n",
    "    return offspring"
   ]
  },
  {
   "cell_type": "code",
   "execution_count": null,
   "id": "5f032c3e",
   "metadata": {
    "scrolled": true
   },
   "outputs": [],
   "source": [
    "# usage\n",
    "# Call the perform_single_point_crossover function and print the offspring\n",
    "offspring = perform_single_point_crossover(initial_population)\n",
    "\n",
    "print(\"Offspring after single-point crossover:\")\n",
    "for child in offspring:\n",
    "    print(child)\n"
   ]
  },
  {
   "cell_type": "code",
   "execution_count": null,
   "id": "de22b287",
   "metadata": {},
   "outputs": [],
   "source": [
    "def mutate_one_gene_per_individual(population, powers):\n",
    "    mutated_population = np.copy(population)\n",
    "\n",
    "    for i, individual in enumerate(mutated_population):\n",
    "        # Choose a random gene within the individual\n",
    "        gene_index = random.randint(0, len(individual) - 1)\n",
    "\n",
    "        # Store the original power level of the chosen gene\n",
    "        original_power = individual[gene_index]\n",
    "\n",
    "        # Mutate the chosen gene with a random power level from the powers list\n",
    "        individual[gene_index] = random.choice(powers)\n",
    "\n",
    "        # Print the mutation information\n",
    "#         print(f\"Offspring {i + 1}: Gene {gene_index + 1} was mutated from {original_power} to {individual[gene_index]}\")\n",
    "\n",
    "    return mutated_population\n"
   ]
  },
  {
   "cell_type": "code",
   "execution_count": null,
   "id": "89530d51",
   "metadata": {},
   "outputs": [],
   "source": [
    "# usage\n",
    "mutated_offspring = mutate_one_gene_per_individual(offspring, powers)\n",
    "\n",
    "print(\"\\nMutated offspring:\")\n",
    "for child in mutated_offspring:\n",
    "    print(child)\n",
    "    \n",
    "print(type(mutated_offspring))\n"
   ]
  },
  {
   "cell_type": "code",
   "execution_count": null,
   "id": "42e96d7d",
   "metadata": {},
   "outputs": [],
   "source": [
    "def print_stacked_arrays(array_list1, array_list2):\n",
    "    stacked_array = np.vstack((array_list1, array_list2))\n",
    "    for row in stacked_array:\n",
    "        print(row)\n"
   ]
  },
  {
   "cell_type": "code",
   "execution_count": null,
   "id": "d458c272",
   "metadata": {},
   "outputs": [],
   "source": [
    "#usage\n",
    "print_stacked_arrays(initial_population, mutated_offspring)"
   ]
  },
  {
   "cell_type": "code",
   "execution_count": null,
   "id": "d998e93f",
   "metadata": {},
   "outputs": [],
   "source": []
  }
 ],
 "metadata": {
  "kernelspec": {
   "display_name": "Python 3 (ipykernel)",
   "language": "python",
   "name": "python3"
  },
  "language_info": {
   "codemirror_mode": {
    "name": "ipython",
    "version": 3
   },
   "file_extension": ".py",
   "mimetype": "text/x-python",
   "name": "python",
   "nbconvert_exporter": "python",
   "pygments_lexer": "ipython3",
   "version": "3.9.13"
  }
 },
 "nbformat": 4,
 "nbformat_minor": 5
}
