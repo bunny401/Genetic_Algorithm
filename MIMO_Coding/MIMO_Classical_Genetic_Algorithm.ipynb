{
 "cells": [
  {
   "cell_type": "code",
   "execution_count": 17,
   "id": "2b292f15",
   "metadata": {},
   "outputs": [],
   "source": [
    "#imports\n",
    "import math\n",
    "import numpy as np\n",
    "import random\n",
    "import itertools\n",
    "from random import choices\n",
    "import cmath"
   ]
  },
  {
   "cell_type": "code",
   "execution_count": 18,
   "id": "1c92ec82",
   "metadata": {},
   "outputs": [],
   "source": [
    "#constants\n",
    "GAIN_MATRIX = (\n",
    "    (3.95370716e-13, 1.40831353e-12, 1.30345221e-13, 1.58616128e-12),\n",
    "    (1.10454943e-11, 1.08797904e-13, 1.70626457e-11, 1.87910752e-13),\n",
    "    (5.35349571e-12, 1.75915771e-12, 1.10933550e-11, 2.15002508e-12),\n",
    "    (9.57092193e-12, 1.14512900e-11, 7.62246884e-13, 1.58625393e-11)\n",
    ")\n",
    "\n",
    "TARGET_BITRATE=13142071.76687619"
   ]
  },
  {
   "cell_type": "code",
   "execution_count": 19,
   "id": "a3fe51af",
   "metadata": {},
   "outputs": [],
   "source": [
    "def generate_random_solutions(powers, no_of_users, num_random_solutions):\n",
    "    return np.random.choice(powers, size=(num_random_solutions, no_of_users))\n"
   ]
  },
  {
   "cell_type": "code",
   "execution_count": 20,
   "id": "ebe82d4d",
   "metadata": {},
   "outputs": [
    {
     "name": "stdout",
     "output_type": "stream",
     "text": [
      "[[4 0 4 4]\n",
      " [0 4 0 2]\n",
      " [0 0 0 2]\n",
      " [0 0 0 2]\n",
      " [2 0 0 0]\n",
      " [2 0 2 4]\n",
      " [2 0 4 4]\n",
      " [4 2 2 4]]\n"
     ]
    }
   ],
   "source": [
    "powers = [0,2,4]\n",
    "no_of_users = 4\n",
    "num_random_solutions = 8\n",
    "pop_size = generate_random_solutions(powers, no_of_users, num_random_solutions)\n",
    "print(pop_size)"
   ]
  },
  {
   "cell_type": "code",
   "execution_count": null,
   "id": "729b3265",
   "metadata": {},
   "outputs": [],
   "source": []
  },
  {
   "cell_type": "code",
   "execution_count": null,
   "id": "f257fbb1",
   "metadata": {},
   "outputs": [],
   "source": []
  }
 ],
 "metadata": {
  "kernelspec": {
   "display_name": "Python 3 (ipykernel)",
   "language": "python",
   "name": "python3"
  },
  "language_info": {
   "codemirror_mode": {
    "name": "ipython",
    "version": 3
   },
   "file_extension": ".py",
   "mimetype": "text/x-python",
   "name": "python",
   "nbconvert_exporter": "python",
   "pygments_lexer": "ipython3",
   "version": "3.9.13"
  }
 },
 "nbformat": 4,
 "nbformat_minor": 5
}
