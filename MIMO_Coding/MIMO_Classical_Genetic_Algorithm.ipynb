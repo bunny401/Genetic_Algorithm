{
 "cells": [
  {
   "cell_type": "code",
   "execution_count": 23,
   "id": "94374937",
   "metadata": {},
   "outputs": [],
   "source": [
    "#imports\n",
    "import math\n",
    "import numpy as np\n",
    "import random\n",
    "import itertools\n",
    "from random import choices\n",
    "import cmath\n",
    "BOLD = '\\033[1m'\n",
    "RESET = '\\033[0m'\n",
    "\n",
    "\n",
    "\n"
   ]
  },
  {
   "cell_type": "code",
   "execution_count": 24,
   "id": "f1c5d357",
   "metadata": {},
   "outputs": [],
   "source": [
    "#constants\n",
    "GAIN_MATRIX = (\n",
    "    (3.95370716e-13, 1.40831353e-12, 1.30345221e-13, 1.58616128e-12),\n",
    "    (1.10454943e-11, 1.08797904e-13, 1.70626457e-11, 1.87910752e-13),\n",
    "    (5.35349571e-12, 1.75915771e-12, 1.10933550e-11, 2.15002508e-12),\n",
    "    (9.57092193e-12, 1.14512900e-11, 7.62246884e-13, 1.58625393e-11)\n",
    ")\n",
    "\n",
    "SUM_GAIN = (\n",
    "    2.63652827e-11, 1.47275591e-11, 2.90485928e-11, 1.97866364e-11\n",
    ")\n",
    "\n",
    "D=10**6  #bandwidth\n",
    "N=-174 + 10 * math.log10(D) #noise in dbm"
   ]
  },
  {
   "cell_type": "code",
   "execution_count": 25,
   "id": "4f356e53",
   "metadata": {},
   "outputs": [],
   "source": [
    "#generating population in dbm\n",
    "def generate_random_solutions(powers, no_of_users, num_random_solutions):\n",
    "    return np.random.choice(powers, size=(num_random_solutions, no_of_users))\n"
   ]
  },
  {
   "cell_type": "code",
   "execution_count": 26,
   "id": "6acb75cc",
   "metadata": {},
   "outputs": [
    {
     "name": "stdout",
     "output_type": "stream",
     "text": [
      "\u001b[1mPOWERS IN DBM\u001b[0m\n",
      "[[42 42 46 44]\n",
      " [46 42 42 44]\n",
      " [46 42 42 44]\n",
      " [42 44 44 44]\n",
      " [44 44 44 46]\n",
      " [42 46 42 44]\n",
      " [44 44 44 46]\n",
      " [46 44 46 42]\n",
      " [44 44 46 44]\n",
      " [44 46 42 42]\n",
      " [46 44 46 46]\n",
      " [42 44 46 46]\n",
      " [44 46 46 44]\n",
      " [46 44 44 46]\n",
      " [46 44 46 46]\n",
      " [42 44 46 42]\n",
      " [46 42 44 44]\n",
      " [44 46 46 46]\n",
      " [42 46 46 42]\n",
      " [44 46 42 46]]\n"
     ]
    }
   ],
   "source": [
    "#usage\n",
    "powers = [42,44,46]\n",
    "num_antennas_BS   = 4\n",
    "pop_size = 20\n",
    "print(f\"{BOLD}POWERS IN DBM{RESET}\")\n",
    "population = generate_random_solutions(powers, num_antennas_BS, pop_size)\n",
    "print(population)\n"
   ]
  },
  {
   "cell_type": "code",
   "execution_count": 27,
   "id": "24ad9c60",
   "metadata": {},
   "outputs": [],
   "source": [
    "# converting population to linear watt\n",
    "def calculate_linear_trans_power(pop_size_dbm):\n",
    "    result=(pow(10, -3) * np.power(10.0, np.array(pop_size_dbm, dtype=\"float\") / 10))\n",
    "    return result\n"
   ]
  },
  {
   "cell_type": "code",
   "execution_count": 28,
   "id": "d4b13abc",
   "metadata": {},
   "outputs": [
    {
     "name": "stdout",
     "output_type": "stream",
     "text": [
      "\u001b[1mPOWERS IN LINEAR\u001b[0m\n",
      "[[15.84893192 15.84893192 39.81071706 25.11886432]\n",
      " [39.81071706 15.84893192 15.84893192 25.11886432]\n",
      " [39.81071706 15.84893192 15.84893192 25.11886432]\n",
      " [15.84893192 25.11886432 25.11886432 25.11886432]\n",
      " [25.11886432 25.11886432 25.11886432 39.81071706]\n",
      " [15.84893192 39.81071706 15.84893192 25.11886432]\n",
      " [25.11886432 25.11886432 25.11886432 39.81071706]\n",
      " [39.81071706 25.11886432 39.81071706 15.84893192]\n",
      " [25.11886432 25.11886432 39.81071706 25.11886432]\n",
      " [25.11886432 39.81071706 15.84893192 15.84893192]\n",
      " [39.81071706 25.11886432 39.81071706 39.81071706]\n",
      " [15.84893192 25.11886432 39.81071706 39.81071706]\n",
      " [25.11886432 39.81071706 39.81071706 25.11886432]\n",
      " [39.81071706 25.11886432 25.11886432 39.81071706]\n",
      " [39.81071706 25.11886432 39.81071706 39.81071706]\n",
      " [15.84893192 25.11886432 39.81071706 15.84893192]\n",
      " [39.81071706 15.84893192 25.11886432 25.11886432]\n",
      " [25.11886432 39.81071706 39.81071706 39.81071706]\n",
      " [15.84893192 39.81071706 39.81071706 15.84893192]\n",
      " [25.11886432 39.81071706 15.84893192 39.81071706]]\n"
     ]
    }
   ],
   "source": [
    "#usage\n",
    "print(f\"{BOLD}POWERS IN LINEAR{RESET}\")\n",
    "linear_pop=calculate_linear_trans_power(population)\n",
    "print(linear_pop)"
   ]
  },
  {
   "cell_type": "code",
   "execution_count": 29,
   "id": "d895fc66",
   "metadata": {},
   "outputs": [],
   "source": [
    "# fitness function  ==== linear_power_vect\n",
    "def sum_linear_powers(array):\n",
    "    return np.sum(array, axis=1)"
   ]
  },
  {
   "cell_type": "code",
   "execution_count": 30,
   "id": "d690b4ff",
   "metadata": {},
   "outputs": [
    {
     "name": "stdout",
     "output_type": "stream",
     "text": [
      "\u001b[1mSUM OF LINEAR POWERS\u001b[0m\n",
      "96.62744521966779\n",
      "96.62744521966779\n",
      "96.62744521966779\n",
      "91.20552486989861\n",
      "115.16731000063717\n",
      "96.62744521966779\n",
      "115.16731000063717\n",
      "120.58923035040634\n",
      "115.16731000063716\n",
      "96.62744521966779\n",
      "144.5510154811449\n",
      "120.58923035040635\n",
      "129.85916274089104\n",
      "129.85916274089104\n",
      "144.5510154811449\n",
      "96.62744521966779\n",
      "105.89737761015247\n",
      "144.5510154811449\n",
      "111.31929795992166\n",
      "120.58923035040635\n"
     ]
    }
   ],
   "source": [
    "# usage\n",
    "print(f\"{BOLD}SUM OF LINEAR POWERS{RESET}\")\n",
    "Lin_vector = sum_linear_powers(linear_pop)\n",
    "print(*Lin_vector, sep='\\n')"
   ]
  },
  {
   "cell_type": "code",
   "execution_count": 31,
   "id": "97f8b478",
   "metadata": {},
   "outputs": [
    {
     "name": "stdout",
     "output_type": "stream",
     "text": [
      "Linear noise: [3.98107171e-15]\n"
     ]
    }
   ],
   "source": [
    "#usage for converting the noise to linear\n",
    "linear_noise = calculate_linear_trans_power([N])\n",
    "print(\"Linear noise:\", linear_noise)"
   ]
  },
  {
   "cell_type": "code",
   "execution_count": 32,
   "id": "cda44817",
   "metadata": {},
   "outputs": [],
   "source": [
    "#calculate the bit rate matrix\n",
    "def calculate_formula_and_sums(linear_pop, SUM_GAIN, linear_noise):\n",
    "    a = np.array(linear_pop)\n",
    "    b = np.array(SUM_GAIN)\n",
    "    bit_rate_matrix = (D * np.log2(1 + ((a * b) / linear_noise)))\n",
    "    return bit_rate_matrix"
   ]
  },
  {
   "cell_type": "code",
   "execution_count": 33,
   "id": "5fe262ed",
   "metadata": {},
   "outputs": [
    {
     "name": "stdout",
     "output_type": "stream",
     "text": [
      "\u001b[1mBITRATES(formula)\u001b[0m\n",
      "[[16679522.44733575 15839412.18480891 18148113.71781224 16929792.79569887]\n",
      " [18008285.4123791  15839412.18480891 16819349.98857859 16929792.79569887]\n",
      " [18008285.4123791  15839412.18480891 16819349.98857859 16929792.79569887]\n",
      " [16679522.44733575 16503788.7231917  17483731.0036872  16929792.79569887]\n",
      " [17343902.99389214 16503788.7231917  17483731.0036872  17594174.15009605]\n",
      " [16679522.44733575 17168168.61267186 16819349.98857859 16929792.79569887]\n",
      " [17343902.99389214 16503788.7231917  17483731.0036872  17594174.15009605]\n",
      " [18008285.4123791  16503788.7231917  18148113.71781224 16265413.93559985]\n",
      " [17343902.99389214 16503788.7231917  18148113.71781224 16929792.79569887]\n",
      " [17343902.99389214 17168168.61267186 16819349.98857859 16265413.93559985]\n",
      " [18008285.4123791  16503788.7231917  18148113.71781224 17594174.15009605]\n",
      " [16679522.44733575 16503788.7231917  18148113.71781224 17594174.15009605]\n",
      " [17343902.99389214 17168168.61267186 18148113.71781224 16929792.79569887]\n",
      " [18008285.4123791  16503788.7231917  17483731.0036872  17594174.15009605]\n",
      " [18008285.4123791  16503788.7231917  18148113.71781224 17594174.15009605]\n",
      " [16679522.44733575 16503788.7231917  18148113.71781224 16265413.93559985]\n",
      " [18008285.4123791  15839412.18480891 17483731.0036872  16929792.79569887]\n",
      " [17343902.99389214 17168168.61267186 18148113.71781224 17594174.15009605]\n",
      " [16679522.44733575 17168168.61267186 18148113.71781224 16265413.93559985]\n",
      " [17343902.99389214 17168168.61267186 16819349.98857859 17594174.15009605]]\n"
     ]
    }
   ],
   "source": [
    "#Usage \n",
    "print(f\"{BOLD}BITRATES(formula){RESET}\")\n",
    "bitrate=calculate_formula_and_sums(linear_pop, SUM_GAIN, linear_noise)\n",
    "print(bitrate)"
   ]
  },
  {
   "cell_type": "code",
   "execution_count": 34,
   "id": "c5d41861",
   "metadata": {},
   "outputs": [
    {
     "name": "stdout",
     "output_type": "stream",
     "text": [
      "\u001b[1mSUM OF BITRATES\u001b[0m\n"
     ]
    },
    {
     "ename": "NameError",
     "evalue": "name 'summing' is not defined",
     "output_type": "error",
     "traceback": [
      "\u001b[1;31m---------------------------------------------------------------------------\u001b[0m",
      "\u001b[1;31mNameError\u001b[0m                                 Traceback (most recent call last)",
      "\u001b[1;32m~\\AppData\\Local\\Temp\\ipykernel_21348\\1200521610.py\u001b[0m in \u001b[0;36m<module>\u001b[1;34m\u001b[0m\n\u001b[0;32m      1\u001b[0m \u001b[1;31m# USAGE\u001b[0m\u001b[1;33m\u001b[0m\u001b[1;33m\u001b[0m\u001b[0m\n\u001b[0;32m      2\u001b[0m \u001b[0mprint\u001b[0m\u001b[1;33m(\u001b[0m\u001b[1;34mf\"{BOLD}SUM OF BITRATES{RESET}\"\u001b[0m\u001b[1;33m)\u001b[0m\u001b[1;33m\u001b[0m\u001b[1;33m\u001b[0m\u001b[0m\n\u001b[1;32m----> 3\u001b[1;33m \u001b[0mrow_sum_bitrate\u001b[0m \u001b[1;33m=\u001b[0m \u001b[0msumming\u001b[0m\u001b[1;33m(\u001b[0m\u001b[0mbitrate\u001b[0m\u001b[1;33m)\u001b[0m\u001b[1;33m\u001b[0m\u001b[1;33m\u001b[0m\u001b[0m\n\u001b[0m\u001b[0;32m      4\u001b[0m \u001b[0mprint\u001b[0m\u001b[1;33m(\u001b[0m\u001b[1;33m*\u001b[0m\u001b[0mrow_sum_bitrate\u001b[0m\u001b[1;33m,\u001b[0m \u001b[0msep\u001b[0m\u001b[1;33m=\u001b[0m\u001b[1;34m'\\n'\u001b[0m\u001b[1;33m)\u001b[0m\u001b[1;33m\u001b[0m\u001b[1;33m\u001b[0m\u001b[0m\n",
      "\u001b[1;31mNameError\u001b[0m: name 'summing' is not defined"
     ]
    }
   ],
   "source": [
    "# USAGE\n",
    "print(f\"{BOLD}SUM OF BITRATES{RESET}\")\n",
    "row_sum_bitrate = summing(bitrate)\n",
    "print(*row_sum_bitrate, sep='\\n')\n"
   ]
  },
  {
   "cell_type": "code",
   "execution_count": 35,
   "id": "61c4206d",
   "metadata": {},
   "outputs": [],
   "source": [
    "def selection_half_population(size_pop, pop_size_dbm, row_sums):\n",
    "    L = size_pop // 2\n",
    "    \n",
    "    # Combine the population and their corresponding row sums\n",
    "    help_fun = np.column_stack((pop_size_dbm, row_sums))\n",
    "\n",
    "    # Sort the combined array in ascending order of row sums\n",
    "    sorted_help_fun = help_fun[np.argsort(help_fun[:, -1])]\n",
    "    \n",
    "    # Select the top half of the population\n",
    "    parent = sorted_help_fun[:L, :-1]\n",
    "    parent_EE = sorted_help_fun[:L, -1]\n",
    "    \n",
    "    # Combine the selected parents and their corresponding row sums\n",
    "    selected_parents = [[list(parent_row), parent_EE_value] for parent_row, parent_EE_value in zip(parent, parent_EE)]\n",
    "    \n",
    "    return selected_parents\n"
   ]
  },
  {
   "cell_type": "code",
   "execution_count": 37,
   "id": "cb9a7c67",
   "metadata": {},
   "outputs": [
    {
     "name": "stdout",
     "output_type": "stream",
     "text": [
      "Selected Parents:\n",
      "[[42.0, 44.0, 44.0, 44.0], 91.20552486989861]\n",
      "[[42.0, 42.0, 46.0, 44.0], 96.62744521966779]\n",
      "[[42.0, 44.0, 46.0, 42.0], 96.62744521966779]\n",
      "[[42.0, 46.0, 42.0, 44.0], 96.62744521966779]\n",
      "[[44.0, 46.0, 42.0, 42.0], 96.62744521966779]\n",
      "[[46.0, 42.0, 42.0, 44.0], 96.62744521966779]\n",
      "[[46.0, 42.0, 42.0, 44.0], 96.62744521966779]\n",
      "[[46.0, 42.0, 44.0, 44.0], 105.89737761015247]\n",
      "[[42.0, 46.0, 46.0, 42.0], 111.31929795992166]\n",
      "[[44.0, 44.0, 46.0, 44.0], 115.16731000063716]\n"
     ]
    }
   ],
   "source": [
    "# Use the selection_half_population function\n",
    "selected_parents = selection_half_population(pop_size, population, Lin_vector)\n",
    "\n",
    "# Print the output\n",
    "print(\"Selected Parents:\")\n",
    "print(*selected_parents, sep='\\n')\n"
   ]
  },
  {
   "cell_type": "code",
   "execution_count": 38,
   "id": "92990366",
   "metadata": {},
   "outputs": [],
   "source": [
    "def extract_powers_in_dbm(selected_parents):\n",
    "    powers = [list(parent[0]) for parent in selected_parents]\n",
    "    return powers"
   ]
  },
  {
   "cell_type": "code",
   "execution_count": 40,
   "id": "39c92999",
   "metadata": {},
   "outputs": [
    {
     "name": "stdout",
     "output_type": "stream",
     "text": [
      "[42.0, 44.0, 44.0, 44.0]\n",
      "[42.0, 42.0, 46.0, 44.0]\n",
      "[42.0, 44.0, 46.0, 42.0]\n",
      "[42.0, 46.0, 42.0, 44.0]\n",
      "[44.0, 46.0, 42.0, 42.0]\n",
      "[46.0, 42.0, 42.0, 44.0]\n",
      "[46.0, 42.0, 42.0, 44.0]\n",
      "[46.0, 42.0, 44.0, 44.0]\n",
      "[42.0, 46.0, 46.0, 42.0]\n",
      "[44.0, 44.0, 46.0, 44.0]\n"
     ]
    }
   ],
   "source": [
    "only_dbm=extract_powers_in_dbm(selected_parents)\n",
    "print(*only_dbm, sep='\\n')"
   ]
  },
  {
   "cell_type": "code",
   "execution_count": 1,
   "id": "f229e3cf",
   "metadata": {},
   "outputs": [],
   "source": [
    "# def corresponding_row_sum_bitrate_v2(selected_parents, pop_size_dbm, row_sum_bitrate):\n",
    "#     parent_indices = [pop_size_dbm.tolist().index(parent[0]) for parent in selected_parents]\n",
    "#     corresponding_row_sum_bitrate_values = [row_sum_bitrate[index] for index in parent_indices]\n",
    "    \n",
    "#     return corresponding_row_sum_bitrate_values\n",
    "\n",
    "# # Usage\n",
    "# corresponding_bitrate_values_v2 = corresponding_row_sum_bitrate_v2(selected_parents, population, row_sum_bitrate)\n",
    "# print(\"Corresponding  Bitrate (Exact Order):\")\n",
    "# print(*corresponding_bitrate_values_v2, sep='\\n')\n"
   ]
  },
  {
   "cell_type": "code",
   "execution_count": 42,
   "id": "5ec8c5cd",
   "metadata": {},
   "outputs": [
    {
     "name": "stdout",
     "output_type": "stream",
     "text": [
      "Crossover Offspring:\n",
      "[42.0, 42.0, 46.0, 44.0]\n",
      "[42.0, 44.0, 44.0, 44.0]\n",
      "[42.0, 46.0, 42.0, 44.0]\n",
      "[42.0, 44.0, 46.0, 42.0]\n",
      "[44.0, 46.0, 42.0, 44.0]\n",
      "[46.0, 42.0, 42.0, 42.0]\n",
      "[46.0, 42.0, 42.0, 44.0]\n",
      "[46.0, 42.0, 44.0, 44.0]\n",
      "[42.0, 46.0, 46.0, 44.0]\n",
      "[44.0, 44.0, 46.0, 42.0]\n",
      "<class 'list'>\n"
     ]
    }
   ],
   "source": [
    "def one_point_crossover_first_second(parents):\n",
    "    offspring = []\n",
    "    \n",
    "    # Perform crossover between the first two parents\n",
    "    parent1 = parents[0][0]\n",
    "    parent2 = parents[1][0]\n",
    "    crossover_point = random.randint(1, len(parent1) - 1)\n",
    "    offspring1 = parent1[:crossover_point] + parent2[crossover_point:]\n",
    "    offspring2 = parent2[:crossover_point] + parent1[crossover_point:]\n",
    "    offspring.append(offspring1)\n",
    "    offspring.append(offspring2)\n",
    "\n",
    "    # Perform crossover between the second two parents\n",
    "    parent3 = parents[2][0]\n",
    "    parent4 = parents[3][0]\n",
    "    crossover_point = random.randint(1, len(parent3) - 1)\n",
    "    offspring3 = parent3[:crossover_point] + parent4[crossover_point:]\n",
    "    offspring4 = parent4[:crossover_point] + parent3[crossover_point:]\n",
    "    offspring.append(offspring3)\n",
    "    offspring.append(offspring4)\n",
    "    \n",
    "    \n",
    "    parent5 = parents[4][0]\n",
    "    parent6 = parents[5][0]\n",
    "    crossover_point = random.randint(1, len(parent5) - 1)\n",
    "    offspring5 = parent5[:crossover_point] + parent6[crossover_point:]\n",
    "    offspring6 = parent6[:crossover_point] + parent5[crossover_point:]\n",
    "    offspring.append(offspring5)\n",
    "    offspring.append(offspring6)\n",
    "    \n",
    "    parent7 = parents[6][0]\n",
    "    parent8 = parents[7][0]\n",
    "    crossover_point = random.randint(1, len(parent7) - 1)\n",
    "    offspring7 = parent7[:crossover_point] + parent8[crossover_point:]\n",
    "    offspring8 = parent8[:crossover_point] + parent7[crossover_point:]\n",
    "    offspring.append(offspring7)\n",
    "    offspring.append(offspring8)\n",
    "    \n",
    "    parent9 = parents[8][0]\n",
    "    parent10 = parents[9][0]\n",
    "    crossover_point = random.randint(1, len(parent9) - 1)\n",
    "    offspring9 = parent9[:crossover_point] + parent10[crossover_point:]\n",
    "    offspring10 = parent10[:crossover_point] + parent9[crossover_point:]\n",
    "    offspring.append(offspring9)\n",
    "    offspring.append(offspring10)\n",
    "    \n",
    "    \n",
    "\n",
    "    return offspring\n",
    "\n",
    "# Usage\n",
    "crossover_offspring = one_point_crossover_first_second(selected_parents)\n",
    "print(\"Crossover Offspring:\")\n",
    "print(*crossover_offspring, sep='\\n')\n",
    "print(type(crossover_offspring))\n"
   ]
  },
  {
   "cell_type": "code",
   "execution_count": 43,
   "id": "70cf0a5b",
   "metadata": {},
   "outputs": [
    {
     "name": "stdout",
     "output_type": "stream",
     "text": [
      "Mutated Offspring:\n",
      "[42.0, 42.0, 46.0, 42]\n",
      "[42.0, 46, 44.0, 44.0]\n",
      "[46, 46.0, 42.0, 44.0]\n",
      "[44, 44.0, 46.0, 42.0]\n",
      "[44.0, 44, 42.0, 44.0]\n",
      "[46.0, 42.0, 44, 42.0]\n",
      "[46.0, 42.0, 42.0, 46]\n",
      "[46.0, 44, 44.0, 44.0]\n",
      "[42.0, 46.0, 42, 44.0]\n",
      "[44.0, 44.0, 42, 42.0]\n"
     ]
    }
   ],
   "source": [
    "def mutation(offspring, powers):\n",
    "    mutated_offspring = []\n",
    "    for child in offspring:\n",
    "        mutated_child = child.copy()\n",
    "        mutation_position = random.randint(0, len(child) - 1)\n",
    "        new_gene = random.choice(powers)\n",
    "        \n",
    "        while new_gene == mutated_child[mutation_position]:\n",
    "            new_gene = random.choice(powers)\n",
    "        \n",
    "        mutated_child[mutation_position] = new_gene\n",
    "        mutated_offspring.append(mutated_child)\n",
    "    return mutated_offspring\n",
    "\n",
    "# Usage\n",
    "mutated_offspring = mutation(crossover_offspring, powers)\n",
    "print(\"Mutated Offspring:\")\n",
    "print(*mutated_offspring, sep='\\n')\n"
   ]
  },
  {
   "cell_type": "code",
   "execution_count": 44,
   "id": "6aa0b753",
   "metadata": {},
   "outputs": [
    {
     "name": "stdout",
     "output_type": "stream",
     "text": [
      "Combined Population:\n",
      "[[42. 44. 44. 44.]\n",
      " [42. 42. 46. 44.]\n",
      " [42. 44. 46. 42.]\n",
      " [42. 46. 42. 44.]\n",
      " [44. 46. 42. 42.]\n",
      " [46. 42. 42. 44.]\n",
      " [46. 42. 42. 44.]\n",
      " [46. 42. 44. 44.]\n",
      " [42. 46. 46. 42.]\n",
      " [44. 44. 46. 44.]\n",
      " [42. 42. 46. 42.]\n",
      " [42. 46. 44. 44.]\n",
      " [46. 46. 42. 44.]\n",
      " [44. 44. 46. 42.]\n",
      " [44. 44. 42. 44.]\n",
      " [46. 42. 44. 42.]\n",
      " [46. 42. 42. 46.]\n",
      " [46. 44. 44. 44.]\n",
      " [42. 46. 42. 44.]\n",
      " [44. 44. 42. 42.]]\n"
     ]
    }
   ],
   "source": [
    "def concatenate_parents_and_offspring(selected_parents, mutated_offspring):\n",
    "    combined_population = []\n",
    "\n",
    "    # Add selected parents to the combined population\n",
    "    for parent, parent_EE_value in selected_parents:\n",
    "        combined_population.append(parent)\n",
    "\n",
    "    # Add mutated offspring to the combined population\n",
    "    for offspring in mutated_offspring:\n",
    "        combined_population.append(np.array(offspring))\n",
    "\n",
    "    # Convert the combined population list to a NumPy array\n",
    "    combined_population = np.array(combined_population)\n",
    "\n",
    "    return combined_population\n",
    "\n",
    "# Usage\n",
    "combined_population = concatenate_parents_and_offspring(selected_parents, mutated_offspring)\n",
    "print(\"Combined Population:\")\n",
    "print(combined_population)\n"
   ]
  },
  {
   "cell_type": "code",
   "execution_count": null,
   "id": "5a2bec6b",
   "metadata": {},
   "outputs": [],
   "source": []
  },
  {
   "cell_type": "code",
   "execution_count": null,
   "id": "f935ee5e",
   "metadata": {},
   "outputs": [],
   "source": []
  }
 ],
 "metadata": {
  "kernelspec": {
   "display_name": "Python 3 (ipykernel)",
   "language": "python",
   "name": "python3"
  },
  "language_info": {
   "codemirror_mode": {
    "name": "ipython",
    "version": 3
   },
   "file_extension": ".py",
   "mimetype": "text/x-python",
   "name": "python",
   "nbconvert_exporter": "python",
   "pygments_lexer": "ipython3",
   "version": "3.9.13"
  }
 },
 "nbformat": 4,
 "nbformat_minor": 5
}
