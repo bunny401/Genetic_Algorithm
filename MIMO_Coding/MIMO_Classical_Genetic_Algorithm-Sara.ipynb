{
 "cells": [
  {
   "cell_type": "code",
   "execution_count": 1,
   "id": "94374937",
   "metadata": {},
   "outputs": [],
   "source": [
    "#imports\n",
    "import math\n",
    "import numpy as np\n",
    "import random\n",
    "import itertools\n",
    "from random import choices\n",
    "import cmath\n",
    "BOLD = '\\033[1m'\n",
    "RESET = '\\033[0m'\n"
   ]
  },
  {
   "cell_type": "code",
   "execution_count": 2,
   "id": "4f356e53",
   "metadata": {},
   "outputs": [],
   "source": [
    "#generating population in dbm\n",
    "def generate_random_solutions(powers, no_of_users, num_random_solutions):\n",
    "    return np.random.choice(powers, size=(num_random_solutions, no_of_users))\n"
   ]
  },
  {
   "cell_type": "code",
   "execution_count": 4,
   "id": "24ad9c60",
   "metadata": {},
   "outputs": [],
   "source": [
    "# converting population to linear watt\n",
    "def calculate_linear_trans_power(pop_size_dbm):\n",
    "    result=(pow(10, -3) * np.power(10.0, np.array(pop_size_dbm, dtype=\"float\") / 10))\n",
    "    return result\n"
   ]
  },
  {
   "cell_type": "code",
   "execution_count": 8,
   "id": "5de6a4ef",
   "metadata": {},
   "outputs": [],
   "source": [
    "# fitness function  ==== linear_power_vect\n",
    "def sum_linear_powers(array):\n",
    "    return np.sum(array, axis=1)"
   ]
  },
  {
   "cell_type": "code",
   "execution_count": 11,
   "id": "97f8b478",
   "metadata": {},
   "outputs": [],
   "source": [
    "#usage for converting the noise to linear\n",
    "D=10**6  #bandwidth\n",
    "N=-174 + 10 * math.log10(D) #noise in dbm\n",
    "linear_noise = calculate_linear_trans_power([N])"
   ]
  },
  {
   "cell_type": "code",
   "execution_count": 12,
   "id": "cda44817",
   "metadata": {},
   "outputs": [],
   "source": [
    "#calculate the bit rate matrix\n",
    "def calculate_formula_and_sums(linear_pop, SUM_GAIN, linear_noise):\n",
    "    a = np.array(linear_pop)\n",
    "    b = np.array(SUM_GAIN)\n",
    "    bit_rate_matrix = (D * np.log2(1 + ((a * b) / linear_noise)))\n",
    "    return bit_rate_matrix"
   ]
  },
  {
   "cell_type": "code",
   "execution_count": 19,
   "id": "c7fa1448",
   "metadata": {},
   "outputs": [
    {
     "ename": "SyntaxError",
     "evalue": "invalid non-printable character U+00A0 (3694592784.py, line 3)",
     "output_type": "error",
     "traceback": [
      "\u001b[1;36m  File \u001b[1;32m\"C:\\Users\\M. Shoaib\\AppData\\Local\\Temp\\ipykernel_14044\\3694592784.py\"\u001b[1;36m, line \u001b[1;32m3\u001b[0m\n\u001b[1;33m    help_fun = np.array(list(zip(Lin_Trans_powers_pop,linear_power_vect)), dtype = object)\u001b[0m\n\u001b[1;37m    ^\u001b[0m\n\u001b[1;31mSyntaxError\u001b[0m\u001b[1;31m:\u001b[0m invalid non-printable character U+00A0\n"
     ]
    }
   ],
   "source": [
    "def selection_half_population(size_pop,DBM_pop,linear_power_vect):\n",
    "\n",
    " \n",
    "    sorted_help_fun=sorted(help_fun, key=lambda help_fun: help_fun[1],reverse=False)\n",
    "    \n",
    "    \n",
    "    parent    = sorted_help_fun[:L,0]\n",
    "    parent_EE = sorted_help_fun[:L,1]\n",
    "\n",
    " \n",
    "\n",
    "    return  parent_DMB,parent_power_LIN"
   ]
  },
  {
   "cell_type": "code",
   "execution_count": 20,
   "id": "c3e24c60",
   "metadata": {},
   "outputs": [
    {
     "data": {
      "text/plain": [
       "[[[0, 8, 2], 2], [[0, 0, 2], 5], [[6, 0, 2], 56]]"
      ]
     },
     "execution_count": 20,
     "metadata": {},
     "output_type": "execute_result"
    }
   ],
   "source": [
    "help_fun = [[[0,0,2],5],[[6,0,2],56],[[0,8,2],2]]\n",
    "\n",
    "sorted_help_fun=sorted(help_fun, key=lambda help_fun: help_fun[1],reverse=False)\n",
    "\n",
    "sorted_help_fun"
   ]
  },
  {
   "cell_type": "code",
   "execution_count": 12,
   "id": "3f8e7895",
   "metadata": {},
   "outputs": [],
   "source": [
    "# bit rate vector\n",
    "def row_wise_sums(matrix):\n",
    "    return [sum(row) for row in matrix]"
   ]
  },
  {
   "cell_type": "code",
   "execution_count": 13,
   "id": "ffdb01b8",
   "metadata": {},
   "outputs": [],
   "source": [
    "#sorting linear power\n",
    "def sort_row_sums(array):\n",
    "    return np.sort(array)\n"
   ]
  },
  {
   "cell_type": "code",
   "execution_count": 15,
   "id": "e1802840",
   "metadata": {},
   "outputs": [],
   "source": [
    "# selecting the half of population\n",
    "def select_first_half(array):\n",
    "    midpoint = len(array) // 2\n",
    "    return array[:midpoint]\n"
   ]
  },
  {
   "cell_type": "code",
   "execution_count": 17,
   "id": "c8ca5510",
   "metadata": {},
   "outputs": [],
   "source": [
    "def get_top_half_dbm(pop_size_dbm, row_sums, first_half_linear_power_increasing):\n",
    "    # Get the indices of the top half of the sorted row sums of linear power\n",
    "    top_half_linear_power_indices = [np.where(row_sums == value)[0][0] for value in first_half_linear_power_increasing]\n",
    "\n",
    "    # Get the power allocations in dBm corresponding to the top half of the sorted row sums of linear power\n",
    "    top_half_linear_power_dbm = pop_size_dbm[top_half_linear_power_indices]\n",
    "\n",
    "    return top_half_linear_power_dbm\n"
   ]
  },
  {
   "cell_type": "code",
   "execution_count": null,
   "id": "24eead38",
   "metadata": {},
   "outputs": [],
   "source": [
    "pop_size_dbm = 4\n",
    "row_sums     = \n",
    "\n",
    "get_top_half_dbm(pop_size_dbm, row_sums, first_half_linear_power_increasing)"
   ]
  },
  {
   "cell_type": "code",
   "execution_count": null,
   "id": "4881727f",
   "metadata": {},
   "outputs": [],
   "source": [
    "# Usage\n",
    "top_half_dbm = get_top_half_dbm(pop_size_dbm, row_sums, first_half_linear_power_increasing)\n",
    "print(f\"{BOLD}TOP HALF OF POWER ALLOCATIONS IN DBM CORRESPONDING TO SORTED ROW SUMS OF LINEAR POWER(INITIAL POPULATION){RESET}\")\n",
    "print(top_half_dbm)\n"
   ]
  },
  {
   "cell_type": "code",
   "execution_count": null,
   "id": "862b5377",
   "metadata": {},
   "outputs": [],
   "source": [
    "def simple_single_point_crossover(population):\n",
    "    num_offspring = len(population)\n",
    "    offspring = []\n",
    "\n",
    "    for i in range(0, num_offspring, 2):\n",
    "        # Select two parent solutions sequentially\n",
    "        parent1, parent2 = population[i], population[i + 1]\n",
    "\n",
    "        # Randomly choose a crossover point\n",
    "        crossover_point = random.randint(1, len(parent1) - 1)\n",
    "\n",
    "        # Create new offspring by swapping the genes of the parents at the crossover point\n",
    "        offspring1 = np.concatenate((parent1[:crossover_point], parent2[crossover_point:]))\n",
    "        offspring2 = np.concatenate((parent2[:crossover_point], parent1[crossover_point:]))\n",
    "\n",
    "        offspring.extend([offspring1, offspring2])\n",
    "\n",
    "    return np.array(offspring)\n",
    "\n",
    "# Usage\n",
    "offspring = simple_single_point_crossover(top_half_dbm)\n",
    "\n",
    "print(f\"{BOLD}OFFSPRING AFTER SINGLE-POINT CROSSOVER{RESET}\")\n",
    "print(offspring)\n"
   ]
  },
  {
   "cell_type": "code",
   "execution_count": null,
   "id": "f38d0d21",
   "metadata": {},
   "outputs": [],
   "source": [
    "def mutation(offspring, powers, mutation_rate=1.0):\n",
    "    mutated_offspring = offspring.copy()\n",
    "\n",
    "    for i in range(len(offspring)):\n",
    "        if random.random() < mutation_rate:\n",
    "            # Randomly select a gene index for mutation\n",
    "            gene_index = random.randint(0, len(offspring[i]) - 1)\n",
    "\n",
    "            # Choose a new power value randomly, different from the current gene value\n",
    "            new_power = random.choice([p for p in powers if p != offspring[i][gene_index]])\n",
    "\n",
    "            # Replace the gene with the new power value\n",
    "            mutated_offspring[i][gene_index] = new_power\n",
    "\n",
    "    return mutated_offspring\n",
    "\n"
   ]
  },
  {
   "cell_type": "code",
   "execution_count": null,
   "id": "3b75e0e6",
   "metadata": {},
   "outputs": [],
   "source": [
    "# Usage\n",
    "mutated_offspring = mutation(offspring, powers)\n",
    "print(f\"{BOLD}MUTATED OFFSPRING{RESET}\")\n",
    "print(mutated_offspring)"
   ]
  },
  {
   "cell_type": "code",
   "execution_count": null,
   "id": "234002d5",
   "metadata": {},
   "outputs": [],
   "source": [
    "def combine_initial_and_mutated(initial_population, mutated_offspring):\n",
    "    return np.concatenate((initial_population, mutated_offspring), axis=0)\n",
    "\n",
    "# Usage\n",
    "combined_population = combine_initial_and_mutated(top_half_dbm, mutated_offspring)\n",
    "print(f\"{BOLD}COMBINED POPULATION{RESET}\")\n",
    "print(combined_population)\n"
   ]
  },
  {
   "cell_type": "code",
   "execution_count": null,
   "id": "d998e93f",
   "metadata": {},
   "outputs": [],
   "source": []
  }
 ],
 "metadata": {
  "kernelspec": {
   "display_name": "Python 3 (ipykernel)",
   "language": "python",
   "name": "python3"
  },
  "language_info": {
   "codemirror_mode": {
    "name": "ipython",
    "version": 3
   },
   "file_extension": ".py",
   "mimetype": "text/x-python",
   "name": "python",
   "nbconvert_exporter": "python",
   "pygments_lexer": "ipython3",
   "version": "3.9.13"
  }
 },
 "nbformat": 4,
 "nbformat_minor": 5
}
