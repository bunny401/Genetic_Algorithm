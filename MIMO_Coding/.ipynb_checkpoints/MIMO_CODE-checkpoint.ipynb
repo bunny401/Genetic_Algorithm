{
 "cells": [
  {
   "cell_type": "code",
   "execution_count": 78,
   "id": "33a120d5",
   "metadata": {},
   "outputs": [],
   "source": [
    "#imports\n",
    "import math\n",
    "import numpy as np\n",
    "import random"
   ]
  },
  {
   "cell_type": "code",
   "execution_count": 79,
   "id": "eab6c46f",
   "metadata": {},
   "outputs": [],
   "source": [
    "#constants\n",
    "D=10**6  #Bandwodth\n",
    "N= -174+10*(math.log10(D))  #Noise in DBM\n",
    "N_linear=(N)*(10**(-3))*(10**(N/10))    #Noise in miliwatt\n"
   ]
  },
  {
   "cell_type": "code",
   "execution_count": 80,
   "id": "b0edde7c",
   "metadata": {},
   "outputs": [],
   "source": [
    "#variables\n",
    "T=4  #Transimitting antenna  M\n",
    "R=4  #Receiving antennas  N"
   ]
  },
  {
   "cell_type": "code",
   "execution_count": 93,
   "id": "c4909d7f",
   "metadata": {},
   "outputs": [
    {
     "name": "stdout",
     "output_type": "stream",
     "text": [
      "[0.001, 0.0016, 0.0025]\n"
     ]
    }
   ],
   "source": [
    "#converting Powers {0,2,4}dbm to watt  rounded to 4 decimal palce\n",
    "watt1 =round(10 ** (0 / 10) * 0.001, 4) \n",
    "watt2 = round(10 ** (2 / 10) * 0.001, 4)\n",
    "watt3 = round(10 ** (4 / 10) * 0.001,4)\n",
    "mylist=[watt1,watt2,watt3]\n",
    "print(mylist)\n"
   ]
  },
  {
   "cell_type": "code",
   "execution_count": 95,
   "id": "838d3f83",
   "metadata": {
    "scrolled": true
   },
   "outputs": [
    {
     "name": "stdout",
     "output_type": "stream",
     "text": [
      "[[0.0025 0.0016 0.0016 0.001 ]\n",
      " [0.0016 0.0025 0.0025 0.0025]\n",
      " [0.001  0.0025 0.001  0.001 ]\n",
      " [0.0025 0.0016 0.0016 0.001 ]\n",
      " [0.0025 0.001  0.001  0.0025]\n",
      " [0.001  0.0016 0.0025 0.0016]\n",
      " [0.0025 0.0025 0.001  0.0016]\n",
      " [0.001  0.001  0.0016 0.0025]\n",
      " [0.0025 0.0025 0.0025 0.0016]\n",
      " [0.001  0.0016 0.0025 0.0025]\n",
      " [0.001  0.001  0.001  0.001 ]\n",
      " [0.0025 0.0016 0.0016 0.0025]\n",
      " [0.001  0.0016 0.001  0.0025]\n",
      " [0.001  0.001  0.0025 0.001 ]\n",
      " [0.0025 0.0025 0.001  0.001 ]\n",
      " [0.001  0.0016 0.0025 0.0025]\n",
      " [0.001  0.0016 0.0025 0.0016]\n",
      " [0.0025 0.0025 0.0016 0.001 ]\n",
      " [0.0016 0.0016 0.0016 0.001 ]\n",
      " [0.0025 0.001  0.0016 0.0025]\n",
      " [0.0025 0.0016 0.001  0.001 ]\n",
      " [0.0016 0.0025 0.0016 0.001 ]\n",
      " [0.0016 0.0016 0.001  0.0016]\n",
      " [0.0025 0.001  0.0016 0.001 ]\n",
      " [0.0025 0.0016 0.0025 0.0016]\n",
      " [0.001  0.0016 0.001  0.0025]\n",
      " [0.0016 0.001  0.0025 0.0016]\n",
      " [0.001  0.001  0.0025 0.001 ]\n",
      " [0.0016 0.0016 0.0025 0.0016]\n",
      " [0.001  0.0025 0.001  0.0016]\n",
      " [0.0025 0.001  0.0025 0.0025]\n",
      " [0.0016 0.001  0.0016 0.001 ]\n",
      " [0.001  0.0016 0.0016 0.0025]\n",
      " [0.0025 0.0016 0.0016 0.0025]\n",
      " [0.001  0.0016 0.0016 0.0016]\n",
      " [0.0016 0.0025 0.0025 0.0016]\n",
      " [0.001  0.0016 0.0016 0.0016]\n",
      " [0.001  0.001  0.0025 0.0016]\n",
      " [0.0025 0.0016 0.0016 0.001 ]\n",
      " [0.0016 0.0016 0.0016 0.0025]\n",
      " [0.0016 0.0025 0.0016 0.0025]\n",
      " [0.0025 0.0025 0.0016 0.0016]\n",
      " [0.0025 0.0016 0.0025 0.0025]\n",
      " [0.0025 0.001  0.001  0.0016]\n",
      " [0.0016 0.0025 0.0016 0.001 ]\n",
      " [0.001  0.0025 0.0016 0.0016]\n",
      " [0.0025 0.0025 0.0016 0.0025]\n",
      " [0.001  0.0025 0.0025 0.0025]\n",
      " [0.0025 0.0016 0.0025 0.001 ]\n",
      " [0.0025 0.001  0.0025 0.0025]\n",
      " [0.001  0.0025 0.0016 0.001 ]\n",
      " [0.0025 0.0025 0.0016 0.0025]\n",
      " [0.0016 0.0016 0.0016 0.0025]\n",
      " [0.001  0.001  0.0025 0.001 ]\n",
      " [0.0016 0.001  0.0016 0.001 ]\n",
      " [0.001  0.0025 0.001  0.0025]\n",
      " [0.0016 0.001  0.0016 0.0025]\n",
      " [0.001  0.0025 0.0016 0.0025]\n",
      " [0.001  0.001  0.001  0.001 ]\n",
      " [0.0025 0.0025 0.001  0.0016]\n",
      " [0.001  0.0016 0.0025 0.001 ]\n",
      " [0.0025 0.0025 0.001  0.0025]\n",
      " [0.0025 0.001  0.0025 0.0016]\n",
      " [0.0016 0.001  0.0016 0.001 ]\n",
      " [0.001  0.0016 0.001  0.0025]\n",
      " [0.001  0.0025 0.001  0.0016]\n",
      " [0.001  0.001  0.0016 0.0025]\n",
      " [0.0016 0.0025 0.001  0.0025]\n",
      " [0.0025 0.0025 0.0025 0.0025]\n",
      " [0.0016 0.0025 0.0025 0.001 ]\n",
      " [0.0025 0.0025 0.0025 0.0025]\n",
      " [0.0025 0.0016 0.0016 0.0016]\n",
      " [0.0016 0.001  0.001  0.001 ]\n",
      " [0.0025 0.0025 0.0016 0.0025]\n",
      " [0.001  0.001  0.0025 0.0025]\n",
      " [0.0025 0.0016 0.001  0.001 ]\n",
      " [0.0016 0.001  0.0016 0.001 ]\n",
      " [0.0016 0.0016 0.0016 0.0025]\n",
      " [0.001  0.0025 0.001  0.001 ]\n",
      " [0.0016 0.0016 0.0016 0.0016]\n",
      " [0.001  0.0025 0.001  0.0016]]\n"
     ]
    }
   ],
   "source": [
    "#creating scenarios in watt\n",
    "n=1\n",
    "def create_random_matrix(rows, columns):\n",
    "    matrix = [[random.choice(mylist) for _ in range(columns)] for _ in range(rows)]\n",
    "    return matrix\n",
    "rows = 81\n",
    "columns = 4\n",
    "random_matrix = create_random_matrix(rows, columns)  #the matrix\n",
    "\n",
    "random_matrix_array=np.array(random_matrix)  #converting the matrix to array\n",
    "print(random_matrix_array)\n",
    "\n",
    "\n",
    "\n"
   ]
  },
  {
   "cell_type": "code",
   "execution_count": 96,
   "id": "71f5e95b",
   "metadata": {},
   "outputs": [
    {
     "name": "stdout",
     "output_type": "stream",
     "text": [
      "Channel matrix:\n",
      " [[ 2.06457536e-12+5.84584151e-13j  1.33017154e-12-7.53754914e-13j\n",
      "  -9.16240328e-13-1.86154106e-13j  1.28660493e-13-1.69024214e-13j]\n",
      " [ 3.42893589e-12-2.90461021e-12j  4.12690587e-13+4.66709954e-13j\n",
      "  -1.33550083e-12-2.13232214e-12j  2.74154610e-12+1.09157977e-12j]\n",
      " [-2.91604498e-12+1.85820446e-12j  9.59878445e-13-4.30585001e-12j\n",
      "   2.24821026e-12-6.10939628e-13j -2.22110155e-12-1.22086403e-12j]\n",
      " [-3.98190141e-13+3.66973983e-12j -3.50815315e-13+1.90876209e-13j\n",
      "  -2.25355354e-12-1.75448052e-12j  2.42084904e-12+9.02568416e-13j]]\n",
      "Gain matrix:\n",
      " [[4.60421005e-24 2.33750280e-24 8.74149690e-25 4.51227075e-26]\n",
      " [2.01943618e-23 3.88131702e-25 6.33036017e-24 8.70762143e-24]\n",
      " [1.19562422e-23 1.94617109e-23 5.42769660e-24 6.42380106e-24]\n",
      " [1.36255458e-23 1.59505113e-25 8.15670545e-24 6.67513984e-24]]\n"
     ]
    }
   ],
   "source": [
    "def channel_matrix(min_distance, max_distance, loss, num_BS_antenna, num_users):\n",
    "    channel_matrix = np.zeros((num_users, num_BS_antenna), dtype=complex)\n",
    "    \n",
    "    for i in range(num_users):\n",
    "        d = random.randint(min_distance, max_distance)  # random distance\n",
    "        path_loss_factor = d ** (-loss)\n",
    "        \n",
    "        for j in range(num_BS_antenna):\n",
    "            channel_coefficient = path_loss_factor * (np.random.randn() + 1j * np.random.randn()) / np.sqrt(2)\n",
    "            channel_matrix[i][j] = channel_coefficient\n",
    "            \n",
    "    gain_matrix = np.abs(channel_matrix) ** 2\n",
    "    return channel_matrix, gain_matrix\n",
    "\n",
    "# Example usage\n",
    "min_distance = 500\n",
    "max_distance = 1000\n",
    "loss = 4\n",
    "num_BS_antenna = 4\n",
    "num_users = 4\n",
    "\n",
    "channel_mat, gain_matrix = channel_matrix(min_distance, max_distance, loss, num_BS_antenna, num_users)\n",
    "\n",
    "channel_mat_array=np.array(channel_mat)  #matrix\n",
    "print(\"Channel matrix:\\n\", channel_mat_array)   #converting the matrix to array\n",
    "\n",
    "gain_matrix_array=np.array(gain_matrix)   #matrix\n",
    "print(\"Gain matrix:\\n\", gain_matrix_array)     #converting the matrix to array\n",
    "\n",
    "\n",
    "\n"
   ]
  },
  {
   "cell_type": "code",
   "execution_count": 97,
   "id": "87223842",
   "metadata": {},
   "outputs": [
    {
     "name": "stdout",
     "output_type": "stream",
     "text": [
      "[0.0025 0.0016 0.0016 0.001 ]\n"
     ]
    }
   ],
   "source": [
    "first_row_random_matrix_array = random_matrix_array[0]\n",
    "print (first_row_random_matrix_array)\n"
   ]
  },
  {
   "cell_type": "code",
   "execution_count": 98,
   "id": "3246c819",
   "metadata": {},
   "outputs": [
    {
     "name": "stdout",
     "output_type": "stream",
     "text": [
      "[[1.15105251e-26 3.74000448e-27 1.39863950e-27 4.51227075e-29]\n",
      " [5.04859046e-26 6.21010723e-28 1.01285763e-26 8.70762143e-27]\n",
      " [2.98906054e-26 3.11387375e-26 8.68431456e-27 6.42380106e-27]\n",
      " [3.40638645e-26 2.55208180e-28 1.30507287e-26 6.67513984e-27]]\n"
     ]
    }
   ],
   "source": [
    "result_matrix = gain_matrix_array * first_row_random_matrix_array\n",
    "print (result_matrix)"
   ]
  },
  {
   "cell_type": "code",
   "execution_count": null,
   "id": "9026ae03",
   "metadata": {},
   "outputs": [],
   "source": []
  },
  {
   "cell_type": "code",
   "execution_count": null,
   "id": "f66db825",
   "metadata": {},
   "outputs": [],
   "source": []
  },
  {
   "cell_type": "code",
   "execution_count": null,
   "id": "de842545",
   "metadata": {},
   "outputs": [],
   "source": []
  },
  {
   "cell_type": "code",
   "execution_count": null,
   "id": "a8016b14",
   "metadata": {},
   "outputs": [],
   "source": []
  },
  {
   "cell_type": "code",
   "execution_count": null,
   "id": "4b6b285b",
   "metadata": {},
   "outputs": [],
   "source": []
  }
 ],
 "metadata": {
  "kernelspec": {
   "display_name": "Python 3 (ipykernel)",
   "language": "python",
   "name": "python3"
  },
  "language_info": {
   "codemirror_mode": {
    "name": "ipython",
    "version": 3
   },
   "file_extension": ".py",
   "mimetype": "text/x-python",
   "name": "python",
   "nbconvert_exporter": "python",
   "pygments_lexer": "ipython3",
   "version": "3.9.13"
  }
 },
 "nbformat": 4,
 "nbformat_minor": 5
}
