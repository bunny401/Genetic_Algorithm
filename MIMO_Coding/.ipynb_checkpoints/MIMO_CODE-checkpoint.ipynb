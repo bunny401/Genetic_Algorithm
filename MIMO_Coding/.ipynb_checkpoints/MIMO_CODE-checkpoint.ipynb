{
 "cells": [
  {
   "cell_type": "code",
   "execution_count": 202,
   "id": "33a120d5",
   "metadata": {},
   "outputs": [],
   "source": [
    "#imports\n",
    "import math\n",
    "import numpy as np\n",
    "import random"
   ]
  },
  {
   "cell_type": "code",
   "execution_count": 192,
   "id": "eab6c46f",
   "metadata": {},
   "outputs": [],
   "source": [
    "#constants\n",
    "D=10**6  #Bandwodth\n",
    "N= -174+10*(math.log10(D))  #Noise in DBM\n",
    "N_linear=(N)*(10**(-3))*(10**(N/10))    #Noise in miliwatt\n"
   ]
  },
  {
   "cell_type": "code",
   "execution_count": 193,
   "id": "b0edde7c",
   "metadata": {},
   "outputs": [],
   "source": [
    "#variables\n",
    "T=4  #Transimitting antenna  M\n",
    "R=4  #Receiving antennas  N"
   ]
  },
  {
   "cell_type": "code",
   "execution_count": 194,
   "id": "c4909d7f",
   "metadata": {},
   "outputs": [
    {
     "name": "stdout",
     "output_type": "stream",
     "text": [
      "[0.001, 0.0016, 0.0025]\n"
     ]
    }
   ],
   "source": [
    "#converting Powers {0,2,4}dbm to watt  rounded to 4 decimal palce\n",
    "watt1 =round(10 ** (0 / 10) * 0.001, 4) \n",
    "watt2 = round(10 ** (2 / 10) * 0.001, 4)\n",
    "watt3 = round(10 ** (4 / 10) * 0.001,4)\n",
    "mylist=[watt1,watt2,watt3]\n",
    "print(mylist)\n"
   ]
  },
  {
   "cell_type": "code",
   "execution_count": 195,
   "id": "838d3f83",
   "metadata": {
    "scrolled": true
   },
   "outputs": [
    {
     "name": "stdout",
     "output_type": "stream",
     "text": [
      "[[0.0016 0.0016 0.0025 0.0016]\n",
      " [0.0025 0.0025 0.001  0.0016]\n",
      " [0.0025 0.0025 0.001  0.0016]\n",
      " [0.001  0.001  0.0016 0.0016]\n",
      " [0.001  0.001  0.0016 0.001 ]\n",
      " [0.0025 0.001  0.001  0.001 ]\n",
      " [0.001  0.001  0.001  0.001 ]\n",
      " [0.0025 0.0025 0.0025 0.0025]\n",
      " [0.0025 0.0016 0.001  0.0016]\n",
      " [0.0025 0.0025 0.0025 0.0025]\n",
      " [0.001  0.0025 0.001  0.001 ]\n",
      " [0.0016 0.001  0.001  0.0016]\n",
      " [0.0016 0.001  0.0025 0.0016]\n",
      " [0.0025 0.0016 0.001  0.0016]\n",
      " [0.001  0.0025 0.0025 0.0016]\n",
      " [0.0016 0.0016 0.0025 0.001 ]\n",
      " [0.0025 0.0016 0.0016 0.001 ]\n",
      " [0.0016 0.001  0.0025 0.001 ]\n",
      " [0.0016 0.0025 0.001  0.001 ]\n",
      " [0.0016 0.0016 0.001  0.0016]\n",
      " [0.0016 0.001  0.0016 0.0025]\n",
      " [0.001  0.0016 0.0025 0.0016]\n",
      " [0.0025 0.001  0.0025 0.0025]\n",
      " [0.0016 0.0016 0.0016 0.001 ]\n",
      " [0.0016 0.001  0.0016 0.001 ]\n",
      " [0.0025 0.0016 0.0025 0.0025]\n",
      " [0.001  0.0016 0.0016 0.001 ]\n",
      " [0.0016 0.0016 0.001  0.0025]\n",
      " [0.0016 0.0025 0.0016 0.0025]\n",
      " [0.001  0.0025 0.0016 0.0016]\n",
      " [0.0025 0.0016 0.001  0.0025]\n",
      " [0.001  0.001  0.0025 0.0016]\n",
      " [0.0025 0.001  0.001  0.0016]\n",
      " [0.0025 0.0016 0.0016 0.0025]\n",
      " [0.001  0.001  0.0025 0.0025]\n",
      " [0.0025 0.001  0.0025 0.001 ]\n",
      " [0.0016 0.0016 0.001  0.0016]\n",
      " [0.001  0.001  0.0025 0.0025]\n",
      " [0.0016 0.001  0.0016 0.0025]\n",
      " [0.0016 0.001  0.0016 0.0025]\n",
      " [0.0016 0.0025 0.0025 0.0025]\n",
      " [0.0025 0.0025 0.001  0.001 ]\n",
      " [0.0025 0.001  0.001  0.0016]\n",
      " [0.0016 0.001  0.0025 0.0025]\n",
      " [0.001  0.0025 0.0016 0.0016]\n",
      " [0.001  0.0025 0.001  0.0025]\n",
      " [0.001  0.001  0.0025 0.0016]\n",
      " [0.0016 0.0025 0.0016 0.0016]\n",
      " [0.0025 0.001  0.001  0.001 ]\n",
      " [0.0025 0.0025 0.001  0.0016]\n",
      " [0.001  0.0016 0.0025 0.0025]\n",
      " [0.001  0.0016 0.001  0.001 ]\n",
      " [0.001  0.001  0.0025 0.0025]\n",
      " [0.001  0.0016 0.0016 0.001 ]\n",
      " [0.0016 0.0016 0.001  0.001 ]\n",
      " [0.0016 0.0016 0.0025 0.0025]\n",
      " [0.0016 0.0016 0.001  0.0025]\n",
      " [0.001  0.0016 0.0016 0.0025]\n",
      " [0.001  0.0016 0.0025 0.0025]\n",
      " [0.0025 0.0016 0.0025 0.001 ]\n",
      " [0.0025 0.0016 0.0016 0.0025]\n",
      " [0.001  0.0025 0.0025 0.0025]\n",
      " [0.0016 0.0025 0.001  0.0016]\n",
      " [0.0025 0.0025 0.0025 0.0016]\n",
      " [0.001  0.001  0.001  0.0025]\n",
      " [0.0016 0.0016 0.0025 0.001 ]\n",
      " [0.001  0.0025 0.0025 0.0025]\n",
      " [0.0016 0.0025 0.0025 0.001 ]\n",
      " [0.001  0.0025 0.0025 0.001 ]\n",
      " [0.0016 0.001  0.0016 0.0016]\n",
      " [0.001  0.0016 0.0016 0.001 ]\n",
      " [0.0025 0.0025 0.0025 0.001 ]\n",
      " [0.0025 0.0025 0.0025 0.001 ]\n",
      " [0.0016 0.001  0.001  0.001 ]\n",
      " [0.0025 0.001  0.001  0.0025]\n",
      " [0.001  0.001  0.001  0.0016]\n",
      " [0.0016 0.0016 0.0025 0.001 ]\n",
      " [0.0016 0.0025 0.001  0.0025]\n",
      " [0.0016 0.0016 0.0016 0.0025]\n",
      " [0.001  0.001  0.0025 0.0025]\n",
      " [0.0016 0.0016 0.0016 0.0025]]\n"
     ]
    }
   ],
   "source": [
    "#creating scenarios in watt\n",
    "n=1\n",
    "def create_random_matrix(rows, columns):\n",
    "    matrix = [[random.choice(mylist) for _ in range(columns)] for _ in range(rows)]\n",
    "    return matrix\n",
    "rows = 81\n",
    "columns = 4\n",
    "random_matrix = create_random_matrix(rows, columns)  #the matrix\n",
    "\n",
    "random_matrix_array=np.array(random_matrix)  #converting the matrix to array\n",
    "print(random_matrix_array)\n",
    "\n",
    "\n",
    "\n"
   ]
  },
  {
   "cell_type": "code",
   "execution_count": 196,
   "id": "71f5e95b",
   "metadata": {},
   "outputs": [
    {
     "name": "stdout",
     "output_type": "stream",
     "text": [
      "Channel matrix:\n",
      " [[ 9.44958438e-13-1.22323791e-12j -2.97565023e-12+8.73968870e-13j\n",
      "  -5.82131132e-12-2.78884164e-12j -1.21574968e-13+4.71490452e-12j]\n",
      " [ 2.04421805e-12+2.74950897e-12j  1.38375696e-12+2.02474404e-12j\n",
      "   5.81007335e-12-3.37371062e-12j  4.43596996e-12-6.90166372e-12j]\n",
      " [-2.46982917e-12-2.05079868e-12j  1.10269965e-13-3.72477730e-13j\n",
      "  -2.73843155e-12-1.43145550e-12j  1.89708610e-12-6.56721185e-13j]\n",
      " [ 1.59500603e-12+4.89378226e-13j -8.62407058e-13+8.83385486e-13j\n",
      "   1.60368158e-13+4.83203196e-13j  1.12611106e-13-1.38001383e-13j]]\n",
      "Gain matrix:\n",
      " [[2.38925742e-24 9.61831586e-24 4.16653032e-23 2.22451051e-23]\n",
      " [1.17386270e-23 6.01437175e-24 4.51388756e-23 6.73107916e-23]\n",
      " [1.03058314e-23 1.50899125e-25 9.54807222e-24 4.03021837e-24]\n",
      " [2.78353530e-24 1.52411585e-24 2.59203274e-25 3.17256429e-26]]\n"
     ]
    }
   ],
   "source": [
    "def channel_matrix(min_distance, max_distance, loss, num_BS_antenna, num_users):\n",
    "    channel_matrix = np.zeros((num_users, num_BS_antenna), dtype=complex)\n",
    "    \n",
    "    for i in range(num_users):\n",
    "        d = random.randint(min_distance, max_distance)  # random distance\n",
    "        path_loss_factor = d ** (-loss)\n",
    "        \n",
    "        for j in range(num_BS_antenna):\n",
    "            channel_coefficient = path_loss_factor * (np.random.randn() + 1j * np.random.randn()) / np.sqrt(2)\n",
    "            channel_matrix[i][j] = channel_coefficient\n",
    "            \n",
    "    gain_matrix = np.abs(channel_matrix) ** 2\n",
    "    return channel_matrix, gain_matrix\n",
    "\n",
    "# Example usage\n",
    "min_distance = 500\n",
    "max_distance = 1000\n",
    "loss = 4\n",
    "num_BS_antenna = 4\n",
    "num_users = 4\n",
    "\n",
    "channel_mat, gain_matrix = channel_matrix(min_distance, max_distance, loss, num_BS_antenna, num_users)\n",
    "\n",
    "channel_mat_array=np.array(channel_mat)  #matrix\n",
    "print(\"Channel matrix:\\n\", channel_mat_array)   #converting the matrix to array\n",
    "\n",
    "gain_matrix_array=np.array(gain_matrix)   #matrix\n",
    "print(\"Gain matrix:\\n\", gain_matrix_array)     #converting the matrix to array\n",
    "\n",
    "\n",
    "\n"
   ]
  },
  {
   "cell_type": "code",
   "execution_count": 197,
   "id": "87223842",
   "metadata": {},
   "outputs": [
    {
     "name": "stdout",
     "output_type": "stream",
     "text": [
      "0.0016\n"
     ]
    }
   ],
   "source": [
    "first_row_random_matrix_array = random_matrix_array[0][0]\n",
    "print (first_row_random_matrix_array)\n"
   ]
  },
  {
   "cell_type": "code",
   "execution_count": 201,
   "id": "3246c819",
   "metadata": {},
   "outputs": [
    {
     "name": "stdout",
     "output_type": "stream",
     "text": [
      "[2.38925742e-24 1.17386270e-23 1.03058314e-23 2.78353530e-24]\n",
      "[9.61831586e-24 6.01437175e-24 1.50899125e-25 1.52411585e-24]\n",
      "[4.16653032e-23 4.51388756e-23 9.54807222e-24 2.59203274e-25]\n",
      "[2.22451051e-23 6.73107916e-23 4.03021837e-24 3.17256429e-26]\n"
     ]
    }
   ],
   "source": [
    "for j in range(gain_matrix_array.shape[1]):\n",
    "    column = gain_matrix_array[:,j]\n",
    "    print(column)\n",
    "\n",
    "\n",
    "#first_column=gain_matrix_array[:, 0]\n",
    "#print (first_column)"
   ]
  },
  {
   "cell_type": "code",
   "execution_count": 203,
   "id": "9026ae03",
   "metadata": {
    "scrolled": true
   },
   "outputs": [
    {
     "name": "stdout",
     "output_type": "stream",
     "text": [
      "[7.36673608e-27 3.23109789e-26 1.91299875e-26 2.18008733e-26]\n"
     ]
    }
   ],
   "source": [
    "Result=first_row_random_matrix_array*first_column\n",
    "print(Result)\n"
   ]
  },
  {
   "cell_type": "code",
   "execution_count": 180,
   "id": "a1bdada1",
   "metadata": {},
   "outputs": [
    {
     "name": "stdout",
     "output_type": "stream",
     "text": [
      "[1. 1. 1. 1.]\n"
     ]
    }
   ],
   "source": [
    "final = 1+((1 / N_linear)*Result)\n",
    "print(final)\n"
   ]
  },
  {
   "cell_type": "code",
   "execution_count": 184,
   "id": "bcc52b57",
   "metadata": {},
   "outputs": [
    {
     "name": "stdout",
     "output_type": "stream",
     "text": [
      "[-3.65190621e-08 -1.60491668e-07 -9.49815958e-08 -1.08275816e-07]\n"
     ]
    }
   ],
   "source": [
    "Final_ = np.log2(final)\n",
    "print(D*Final_)"
   ]
  },
  {
   "cell_type": "code",
   "execution_count": null,
   "id": "162ac781",
   "metadata": {},
   "outputs": [],
   "source": []
  },
  {
   "cell_type": "code",
   "execution_count": null,
   "id": "d1c016e6",
   "metadata": {},
   "outputs": [],
   "source": []
  },
  {
   "cell_type": "code",
   "execution_count": null,
   "id": "df82851e",
   "metadata": {},
   "outputs": [],
   "source": []
  },
  {
   "cell_type": "code",
   "execution_count": null,
   "id": "18378e58",
   "metadata": {},
   "outputs": [],
   "source": []
  }
 ],
 "metadata": {
  "kernelspec": {
   "display_name": "Python 3 (ipykernel)",
   "language": "python",
   "name": "python3"
  },
  "language_info": {
   "codemirror_mode": {
    "name": "ipython",
    "version": 3
   },
   "file_extension": ".py",
   "mimetype": "text/x-python",
   "name": "python",
   "nbconvert_exporter": "python",
   "pygments_lexer": "ipython3",
   "version": "3.9.13"
  }
 },
 "nbformat": 4,
 "nbformat_minor": 5
}
