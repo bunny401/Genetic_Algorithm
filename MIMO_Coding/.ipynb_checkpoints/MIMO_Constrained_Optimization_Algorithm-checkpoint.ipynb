{
 "cells": [
  {
   "cell_type": "code",
   "execution_count": null,
   "id": "33a120d5",
   "metadata": {},
   "outputs": [],
   "source": [
    "#imports\n",
    "import math\n",
    "import numpy as np\n",
    "import random\n",
    "import itertools\n",
    "from random import choices\n",
    "import cmath\n"
   ]
  },
  {
   "cell_type": "code",
   "execution_count": null,
   "id": "8da48209",
   "metadata": {},
   "outputs": [],
   "source": [
    "#Generating all scenarios in dbm\n",
    "def generate_all_scenarios(powers, no_of_users):\n",
    "    combinations = list(itertools.product(powers, repeat=no_of_users))\n",
    "    return np.array(combinations)\n"
   ]
  },
  {
   "cell_type": "code",
   "execution_count": null,
   "id": "74d84011",
   "metadata": {
    "scrolled": true
   },
   "outputs": [],
   "source": [
    "# #Usage\n",
    "# powers=[0,2,4]\n",
    "# no_of_users= 4\n",
    "\n",
    "# result_scenarions_dbm=generate_all_scenarios(powers, no_of_users)\n",
    "# print(type(result_scenarions_dbm))\n",
    "# print(result_scenarions_dbm)"
   ]
  },
  {
   "cell_type": "code",
   "execution_count": null,
   "id": "a348683e",
   "metadata": {},
   "outputs": [],
   "source": [
    "def calculate_linear_trans_power(result_scenarions_dbm):\n",
    "    result=(pow(10, -3) * np.power(10.0, np.array(result_scenarions_dbm, dtype=\"float\") / 10))\n",
    "    return result\n"
   ]
  },
  {
   "cell_type": "code",
   "execution_count": null,
   "id": "e576a6fa",
   "metadata": {
    "scrolled": true
   },
   "outputs": [],
   "source": [
    "# #Usage\n",
    "# result_scenarios_linear=calculate_linear_trans_power(result_scenarions_dbm)\n",
    "# print(type(result_scenarios_linear))\n",
    "# print(result_scenarios_linear)\n"
   ]
  },
  {
   "cell_type": "code",
   "execution_count": null,
   "id": "7b559eb5",
   "metadata": {},
   "outputs": [],
   "source": [
    "#Creating Gain Matrix\n",
    "import numpy as geek\n",
    "def channel_matrix(min_distance, max_distance, loss, num_BS_antenna, num_users):\n",
    "    channel_matrix = np.zeros((num_users, num_BS_antenna), dtype=complex)\n",
    "    for i in range(len(channel_matrix)):\n",
    "        d = random.randint(min_distance, max_distance)  # random distance\n",
    "        for j in range(len(channel_matrix[0])):\n",
    "            channel_matrix[i][j] = math.sqrt(pow(d, -loss)) * complex(geek.random.normal(0.0, 1.0), geek.random.normal(0.0, 1.0)) / math.sqrt(2)\n",
    "\n",
    "    gain_matrix = geek.random.normal(0.0, 0.0, (num_users, num_BS_antenna))\n",
    "\n",
    "    for m in range(len(gain_matrix)):\n",
    "        for n in range(len(gain_matrix[0])):\n",
    "            gain_matrix[m][n] = pow(abs(channel_matrix[m][n]), 2)\n",
    "    return gain_matrix\n",
    "\n"
   ]
  },
  {
   "cell_type": "code",
   "execution_count": null,
   "id": "45325126",
   "metadata": {},
   "outputs": [],
   "source": [
    "# # Example usage\n",
    "# min_distance = 1\n",
    "# max_distance = 100\n",
    "# loss = 3\n",
    "# num_BS_antenna = 4\n",
    "# num_users = 5\n",
    "\n",
    "# Gain_matrix=channel_matrix(min_distance, max_distance, loss, num_BS_antenna, num_users)\n",
    "# print(Gain_matrix)"
   ]
  },
  {
   "cell_type": "code",
   "execution_count": null,
   "id": "b9de36aa",
   "metadata": {},
   "outputs": [],
   "source": [
    "#summing columns of gain matrix\n",
    "def column_sums(Gain_matrix):\n",
    "    summation_matrix = np.sum(Gain_matrix, axis=0)\n",
    "    return summation_matrix"
   ]
  },
  {
   "cell_type": "code",
   "execution_count": null,
   "id": "69648287",
   "metadata": {},
   "outputs": [],
   "source": [
    "# #example usage\n",
    "# sum_gain = column_sums(Gain_matrix)\n",
    "# # Printing the result\n",
    "# print(\"Column sums of the gain matrix:\\n\", sum_gain)"
   ]
  },
  {
   "cell_type": "code",
   "execution_count": null,
   "id": "fe9fde2e",
   "metadata": {},
   "outputs": [],
   "source": [
    "# #Converting noise to linear\n",
    "# D=10**6\n",
    "# N = -174 + 10 * math.log10(D) #noise in dbm\n",
    "# linear_noise = calculate_linear_trans_power([N])\n",
    "# print(\"Linear noise:\", linear_noise)"
   ]
  },
  {
   "cell_type": "code",
   "execution_count": null,
   "id": "c7e9ab2e",
   "metadata": {
    "scrolled": true
   },
   "outputs": [],
   "source": [
    "def calculate_formula_and_sums(result_scenarios_linear, sum_gain, linear_noise):\n",
    "    a = np.array(result_scenarios_linear)\n",
    "    b = np.array(sum_gain)\n",
    "    bit_rate_matrix = (D * np.log2(1 + ((a * b) / linear_noise)))\n",
    "#     row_sums = np.sum(bit_rate_matrix, axis=1)\n",
    "    return bit_rate_matrix\n",
    "\n"
   ]
  },
  {
   "cell_type": "code",
   "execution_count": null,
   "id": "3404f6e3",
   "metadata": {
    "scrolled": true
   },
   "outputs": [],
   "source": [
    "#Usage\n",
    "# bitrate=calculate_formula_and_sums(result_scenarios_linear, sum_gain, linear_noise)\n",
    "# print(bitrate)\n",
    "\n",
    "# print(\"Sum of each row:\")\n",
    "# for i, row_sum in enumerate(row_sums_bitrate):\n",
    "#     print(f\"{row_sum}\")\n",
    "    \n",
    "# print(row_sums_bitrate)"
   ]
  },
  {
   "cell_type": "code",
   "execution_count": null,
   "id": "be26fc91",
   "metadata": {},
   "outputs": [],
   "source": [
    "def row_wise_sums(matrix):\n",
    "    return [sum(row) for row in matrix]"
   ]
  },
  {
   "cell_type": "code",
   "execution_count": null,
   "id": "dccd3d06",
   "metadata": {
    "scrolled": true
   },
   "outputs": [],
   "source": [
    "# # USAGE\n",
    "# row_sum_bitrate = row_wise_sums(bitrate)\n",
    "# print(row_sum_bitrate)\n",
    "# # print(*row_sum_bitrate, sep='\\n')"
   ]
  },
  {
   "cell_type": "code",
   "execution_count": null,
   "id": "4d9ee723",
   "metadata": {},
   "outputs": [],
   "source": [
    "def calculate_average(row_sums_bitrate):\n",
    "    return np.mean(row_sums_bitrate)\n"
   ]
  },
  {
   "cell_type": "code",
   "execution_count": null,
   "id": "af3833c9",
   "metadata": {},
   "outputs": [],
   "source": [
    "# #usage\n",
    "# average = calculate_average(row_sum_bitrate)\n",
    "# print(\"Average of  Bitrate:\", average)"
   ]
  },
  {
   "cell_type": "code",
   "execution_count": null,
   "id": "dd226dd5",
   "metadata": {
    "scrolled": true
   },
   "outputs": [],
   "source": [
    "# row_sum_linear_power_scenario = row_wise_sums(result_scenarios_linear)\n",
    "# print(row_sum_linear_power_scenario)\n",
    "# # print(*row_sum_linear_scenario, sep='\\n')"
   ]
  },
  {
   "cell_type": "code",
   "execution_count": null,
   "id": "a1bdada1",
   "metadata": {},
   "outputs": [],
   "source": [
    "def find_best_scenario(average, result_scenarions_dbm, result_scenarios_linear, row_sum_bitrate, row_sum_linear_power_scenario):\n",
    "    best_scenario = None\n",
    "    best_scenario_index = -1\n",
    "    min_linear_power = float(\"inf\")\n",
    "\n",
    "    for i, bitrate in enumerate(row_sum_bitrate):\n",
    "        if bitrate >= average:\n",
    "            if row_sum_linear_power_scenario[i] < min_linear_power:\n",
    "                best_scenario = (result_scenarions_dbm[i], result_scenarios_linear[i], bitrate, row_sum_linear_power_scenario[i])\n",
    "                best_scenario_index = i\n",
    "                min_linear_power = row_sum_linear_power_scenario[i]\n",
    "\n",
    "    return best_scenario_index, best_scenario\n",
    "\n",
    "# You can change the values here\n",
    "# average = 20\n",
    "\n",
    "# result_scenarions_dbm = [\n",
    "#     [0, 0, 0, 0],\n",
    "#     [0, 0, 0, 2],\n",
    "#     [0, 0, 0, 4],\n",
    "#     [0, 0, 2, 0],\n",
    "#     [0, 0, 2, 2]\n",
    "# ]\n",
    "\n",
    "# result_scenarios_linear = [\n",
    "#     [0.001     , 0.001     , 0.001     , 0.001     ],\n",
    "#     [0.001     , 0.001     , 0.001     , 0.00158489],\n",
    "#     [0.001     , 0.001     , 0.001     , 0.00251189],\n",
    "#     [0.001     , 0.001     , 0.00158489, 0.001     ],\n",
    "#     [0.001     , 0.001     , 0.00158489, 0.00158489]\n",
    "# ]\n",
    "\n",
    "# row_sum_bitrate = [25, 20, 25, 25, 25]\n",
    "# row_sum_linear_power_scenario = [10, 2, 3, 1, 20]\n",
    "\n",
    "# best_scenario_index, best_scenario = find_best_scenario(average, result_scenarions_dbm, result_scenarios_linear, row_sum_bitrate, row_sum_linear_power_scenario)\n",
    "\n",
    "# print(f\"Best scenario index: {best_scenario_index + 1}\")\n",
    "# print(f\"dBm matrix row: {best_scenario[0]}\")\n",
    "# print(f\"Wattage matrix row: {best_scenario[1]}\")\n",
    "# print(f\"row_sum_bitrate: {best_scenario[2]}\")\n",
    "# print(f\"row_sum_linear_power_scenario: {best_scenario[3]}\")\n"
   ]
  },
  {
   "cell_type": "code",
   "execution_count": null,
   "id": "bcc52b57",
   "metadata": {},
   "outputs": [],
   "source": [
    "if __name__ == \"__main__\":\n",
    "    \n",
    "    \n",
    "    powers=[0,2,4]\n",
    "    \n",
    "    \n",
    "    no_of_users= 4\n",
    "    num_users = 4\n",
    "    \n",
    "    \n",
    "    min_distance = 500\n",
    "    max_distance = 1000\n",
    "    \n",
    "    loss = 4\n",
    "    num_BS_antenna = 4\n",
    "    \n",
    "    D=10**6  #bandwidth\n",
    "    N = -174 + 10 * math.log10(D) #noise in dbm\n",
    "\n",
    "    #usage for generatig scenarios in dbm\n",
    "    result_scenarions_dbm=generate_all_scenarios(powers, no_of_users)\n",
    "    print(\"scenarios in dbm\")\n",
    "    print(result_scenarions_dbm)\n",
    "#     print(type(result_scenarions_dbm))\n",
    "    \n",
    "    \n",
    "    #Usage for generating scenarios in watt(linear)\n",
    "    result_scenarios_linear=calculate_linear_trans_power(result_scenarions_dbm)\n",
    "    print(\"Scenarios in watt(linear)\")\n",
    "    print(result_scenarios_linear)\n",
    "#     print(type(result_scenarios_linear))\n",
    "    \n",
    "    \n",
    "    #usage for creating gain matrix\n",
    "    print(\"Gain Matrix\")\n",
    "    Gain_matrix=channel_matrix(min_distance, max_distance, loss, num_BS_antenna, num_users)\n",
    "    print(Gain_matrix)\n",
    "    \n",
    "    \n",
    "    #usage for creating column sum of gain matrix\n",
    "    sum_gain = column_sums(Gain_matrix)\n",
    "    print(\"Column sums of the gain matrix:\\n\", sum_gain)\n",
    "    \n",
    "    \n",
    "    #usage for converting the noise to linear\n",
    "    linear_noise = calculate_linear_trans_power([N])\n",
    "    print(\"Linear noise:\", linear_noise)\n",
    "    \n",
    "    \n",
    "    #Usage for calculating the big fromula\n",
    "    print(\"Bitrates\")\n",
    "    bitrate=calculate_formula_and_sums(result_scenarios_linear, sum_gain, linear_noise)\n",
    "    print(bitrate)\n",
    "    \n",
    "    #usage for calucalting the sum of  the rows of bitrates\n",
    "    print(\"Sum of the rows of bitrate\")\n",
    "    row_sum_bitrate = row_wise_sums(bitrate)\n",
    "    print(row_sum_bitrate)\n",
    "    \n",
    "    \n",
    "    #usage for calculating the average\n",
    "    average = calculate_average(row_sum_bitrate)\n",
    "    print(\"Average of  Bitrate:\", average)\n",
    "    \n",
    "    \n",
    "    #usage for calculating the sum of rows of linear scenarios\n",
    "    print(\"sum of the rows of linear scenarios\")\n",
    "    row_sum_linear_power_scenario = row_wise_sums(result_scenarios_linear)\n",
    "    print(row_sum_linear_power_scenario)\n",
    "    \n",
    "    \n",
    "    #usage for calucalting the best scenarios that satisifies the user requirement\n",
    "    best_scenario_index, best_scenario = find_best_scenario(average, result_scenarions_dbm, result_scenarios_linear, row_sum_bitrate, row_sum_linear_power_scenario)\n",
    "    print(f\"Best scenario index: {best_scenario_index + 1}\")\n",
    "    print(f\"dBm matrix row: {best_scenario[0]}\")\n",
    "    print(f\"Wattage matrix row: {best_scenario[1]}\")\n",
    "    print(f\"row_sum_bitrate: {best_scenario[2]}\")\n",
    "    print(f\"row_sum_linear_power_scenario: {best_scenario[3]}\")\n",
    "    \n",
    "    \n",
    "    \n",
    "    \n",
    "    "
   ]
  },
  {
   "cell_type": "code",
   "execution_count": null,
   "id": "02a3c004",
   "metadata": {},
   "outputs": [],
   "source": [
    "for x, y,z,a in zip(row_sum_linear_power_scenario, row_sum_bitrate,result_scenarions_dbm,result_scenarios_linear  ):\n",
    "    print(x, y,z,a, sep='      ')"
   ]
  },
  {
   "cell_type": "code",
   "execution_count": null,
   "id": "77ffb8b8",
   "metadata": {},
   "outputs": [],
   "source": []
  },
  {
   "cell_type": "code",
   "execution_count": null,
   "id": "df82851e",
   "metadata": {},
   "outputs": [],
   "source": []
  },
  {
   "cell_type": "code",
   "execution_count": null,
   "id": "18378e58",
   "metadata": {},
   "outputs": [],
   "source": []
  },
  {
   "cell_type": "code",
   "execution_count": null,
   "id": "81b30a22",
   "metadata": {},
   "outputs": [],
   "source": []
  }
 ],
 "metadata": {
  "kernelspec": {
   "display_name": "Python 3 (ipykernel)",
   "language": "python",
   "name": "python3"
  },
  "language_info": {
   "codemirror_mode": {
    "name": "ipython",
    "version": 3
   },
   "file_extension": ".py",
   "mimetype": "text/x-python",
   "name": "python",
   "nbconvert_exporter": "python",
   "pygments_lexer": "ipython3",
   "version": "3.9.13"
  }
 },
 "nbformat": 4,
 "nbformat_minor": 5
}
