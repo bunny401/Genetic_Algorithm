{
 "cells": [
  {
   "cell_type": "code",
   "execution_count": 1,
   "id": "94374937",
   "metadata": {},
   "outputs": [],
   "source": [
    "#imports\n",
    "import math\n",
    "import numpy as np\n",
    "import random\n",
    "import itertools\n",
    "from random import choices\n",
    "import cmath\n",
    "BOLD = '\\033[1m'\n",
    "RESET = '\\033[0m'\n"
   ]
  },
  {
   "cell_type": "code",
   "execution_count": 2,
   "id": "f1c5d357",
   "metadata": {},
   "outputs": [],
   "source": [
    "#constants\n",
    "GAIN_MATRIX = (\n",
    "    (3.95370716e-13, 1.40831353e-12, 1.30345221e-13, 1.58616128e-12),\n",
    "    (1.10454943e-11, 1.08797904e-13, 1.70626457e-11, 1.87910752e-13),\n",
    "    (5.35349571e-12, 1.75915771e-12, 1.10933550e-11, 2.15002508e-12),\n",
    "    (9.57092193e-12, 1.14512900e-11, 7.62246884e-13, 1.58625393e-11)\n",
    ")\n",
    "\n",
    "SUM_GAIN = (\n",
    "    2.63652827e-11, 1.47275591e-11, 2.90485928e-11, 1.97866364e-11\n",
    ")\n",
    "\n",
    "D=10**6  #bandwidth\n",
    "N=-174 + 10 * math.log10(D) #noise in dbm"
   ]
  },
  {
   "cell_type": "code",
   "execution_count": 3,
   "id": "4f356e53",
   "metadata": {},
   "outputs": [],
   "source": [
    "#generating population in dbm\n",
    "def generate_random_solutions(powers, no_of_users, num_random_solutions):\n",
    "    return np.random.choice(powers, size=(num_random_solutions, no_of_users))\n"
   ]
  },
  {
   "cell_type": "code",
   "execution_count": 4,
   "id": "6acb75cc",
   "metadata": {},
   "outputs": [
    {
     "name": "stdout",
     "output_type": "stream",
     "text": [
      "\u001b[1mPOWERS IN DBM\u001b[0m\n",
      "[[0 0 4 4]\n",
      " [2 2 4 2]\n",
      " [2 0 0 4]\n",
      " [2 2 4 4]\n",
      " [0 2 2 2]\n",
      " [2 4 0 4]\n",
      " [2 2 0 0]\n",
      " [0 4 0 2]]\n"
     ]
    }
   ],
   "source": [
    "#usage\n",
    "powers = [0,2,4]\n",
    "no_of_users = 4\n",
    "num_random_solutions = 8\n",
    "print(f\"{BOLD}POWERS IN DBM{RESET}\")\n",
    "pop_size_dbm = generate_random_solutions(powers, no_of_users, num_random_solutions)\n",
    "print(pop_size_dbm)"
   ]
  },
  {
   "cell_type": "code",
   "execution_count": null,
   "id": "33d35373",
   "metadata": {},
   "outputs": [],
   "source": []
  },
  {
   "cell_type": "code",
   "execution_count": null,
   "id": "ce2362f5",
   "metadata": {},
   "outputs": [],
   "source": []
  },
  {
   "cell_type": "code",
   "execution_count": 5,
   "id": "24ad9c60",
   "metadata": {},
   "outputs": [],
   "source": [
    "# converting population to linear watt\n",
    "def calculate_linear_trans_power(pop_size_dbm):\n",
    "    result=(pow(10, -3) * np.power(10.0, np.array(pop_size_dbm, dtype=\"float\") / 10))\n",
    "    return result\n"
   ]
  },
  {
   "cell_type": "code",
   "execution_count": 6,
   "id": "d4b13abc",
   "metadata": {},
   "outputs": [
    {
     "name": "stdout",
     "output_type": "stream",
     "text": [
      "\u001b[1mPOWERS IN LINEAR\u001b[0m\n",
      "[[0.001      0.001      0.00251189 0.00251189]\n",
      " [0.00158489 0.00158489 0.00251189 0.00158489]\n",
      " [0.00158489 0.001      0.001      0.00251189]\n",
      " [0.00158489 0.00158489 0.00251189 0.00251189]\n",
      " [0.001      0.00158489 0.00158489 0.00158489]\n",
      " [0.00158489 0.00251189 0.001      0.00251189]\n",
      " [0.00158489 0.00158489 0.001      0.001     ]\n",
      " [0.001      0.00251189 0.001      0.00158489]]\n"
     ]
    }
   ],
   "source": [
    "#usage\n",
    "print(f\"{BOLD}POWERS IN LINEAR{RESET}\")\n",
    "linear_pop=calculate_linear_trans_power(pop_size_dbm)\n",
    "print(linear_pop)"
   ]
  },
  {
   "cell_type": "code",
   "execution_count": 7,
   "id": "5de6a4ef",
   "metadata": {},
   "outputs": [],
   "source": [
    "def sum_linear_powers(array):\n",
    "    return np.sum(array, axis=1)"
   ]
  },
  {
   "cell_type": "code",
   "execution_count": 8,
   "id": "c327047a",
   "metadata": {},
   "outputs": [
    {
     "name": "stdout",
     "output_type": "stream",
     "text": [
      "\u001b[1mSUM OF LINEAR POWERS BY ROW\u001b[0m\n",
      "0.007023772863019161\n",
      "0.0072665660088929215\n",
      "0.006096779623970694\n",
      "0.00819355924794139\n",
      "0.00575467957738334\n",
      "0.007608666055480274\n",
      "0.005169786384922228\n",
      "0.006096779623970694\n"
     ]
    }
   ],
   "source": [
    "# usage\n",
    "print(f\"{BOLD}SUM OF LINEAR POWERS BY ROW{RESET}\")\n",
    "row_sums = sum_linear_powers(linear_pop)\n",
    "print(*row_sums, sep='\\n')"
   ]
  },
  {
   "cell_type": "code",
   "execution_count": 9,
   "id": "97f8b478",
   "metadata": {},
   "outputs": [
    {
     "name": "stdout",
     "output_type": "stream",
     "text": [
      "Linear noise: [3.98107171e-15]\n"
     ]
    }
   ],
   "source": [
    "#usage for converting the noise to linear\n",
    "linear_noise = calculate_linear_trans_power([N])\n",
    "print(\"Linear noise:\", linear_noise)"
   ]
  },
  {
   "cell_type": "code",
   "execution_count": 10,
   "id": "cda44817",
   "metadata": {},
   "outputs": [],
   "source": [
    "def calculate_formula_and_sums(linear_pop, SUM_GAIN, linear_noise):\n",
    "    a = np.array(linear_pop)\n",
    "    b = np.array(SUM_GAIN)\n",
    "    bit_rate_matrix = (D * np.log2(1 + ((a * b) / linear_noise)))\n",
    "    return bit_rate_matrix"
   ]
  },
  {
   "cell_type": "code",
   "execution_count": 11,
   "id": "5fe262ed",
   "metadata": {},
   "outputs": [
    {
     "name": "stdout",
     "output_type": "stream",
     "text": [
      "\u001b[1mBITRATES(formula)\u001b[0m\n",
      "[[2930294.44975843 2232475.21650449 4272652.02625749 3753232.64345308]\n",
      " [3523086.17671602 2778870.2310227  4272652.02625749 3150104.99872635]\n",
      " [3523086.17671602 2232475.21650449 3052533.55366803 3753232.64345308]\n",
      " [3523086.17671602 2778870.2310227  4272652.02625749 3753232.64345308]\n",
      " [2930294.44975843 2778870.2310227  3651275.96911754 3150104.99872635]\n",
      " [3523086.17671602 3363516.1582802  3052533.55366803 3753232.64345308]\n",
      " [3523086.17671602 2778870.2310227  3052533.55366803 2577774.03041514]\n",
      " [2930294.44975843 3363516.1582802  3052533.55366803 3150104.99872635]]\n"
     ]
    }
   ],
   "source": [
    "#Usage \n",
    "print(f\"{BOLD}BITRATES(formula){RESET}\")\n",
    "bitrate=calculate_formula_and_sums(linear_pop, SUM_GAIN, linear_noise)\n",
    "print(bitrate)"
   ]
  },
  {
   "cell_type": "code",
   "execution_count": 12,
   "id": "3f8e7895",
   "metadata": {},
   "outputs": [],
   "source": [
    "def row_wise_sums(matrix):\n",
    "    return [sum(row) for row in matrix]"
   ]
  },
  {
   "cell_type": "code",
   "execution_count": 13,
   "id": "6dbaf3f6",
   "metadata": {},
   "outputs": [
    {
     "name": "stdout",
     "output_type": "stream",
     "text": [
      "\u001b[1mSUM OF BITRATES\u001b[0m\n",
      "13188654.335973494\n",
      "13724713.43272256\n",
      "12561327.590341628\n",
      "14327841.077449292\n",
      "12510545.648625012\n",
      "13692368.532117337\n",
      "11932263.991821881\n",
      "12496449.160433007\n"
     ]
    }
   ],
   "source": [
    "# USAGE\n",
    "print(f\"{BOLD}SUM OF BITRATES{RESET}\")\n",
    "row_sum_bitrate = row_wise_sums(bitrate)\n",
    "print(*row_sum_bitrate, sep='\\n')\n"
   ]
  },
  {
   "cell_type": "code",
   "execution_count": 14,
   "id": "ffdb01b8",
   "metadata": {},
   "outputs": [],
   "source": [
    "def sort_row_sums(array):\n",
    "    return np.sort(array)\n"
   ]
  },
  {
   "cell_type": "code",
   "execution_count": 15,
   "id": "18ffe068",
   "metadata": {},
   "outputs": [
    {
     "name": "stdout",
     "output_type": "stream",
     "text": [
      "\u001b[1mSORTED LINEAR POWER IN INCREASING ORDER\u001b[0m\n",
      "0.005169786384922228\n",
      "0.00575467957738334\n",
      "0.006096779623970694\n",
      "0.006096779623970694\n",
      "0.007023772863019161\n",
      "0.0072665660088929215\n",
      "0.007608666055480274\n",
      "0.00819355924794139\n"
     ]
    }
   ],
   "source": [
    "print(f\"{BOLD}SORTED LINEAR POWER IN INCREASING ORDER{RESET}\")\n",
    "sorted_array_linear_power = sort_row_sums(row_sums)\n",
    "print(*sorted_array_linear_power, sep='\\n')  # Output: [1 3 5 7 9]"
   ]
  },
  {
   "cell_type": "code",
   "execution_count": null,
   "id": "3ceebed2",
   "metadata": {},
   "outputs": [],
   "source": []
  },
  {
   "cell_type": "code",
   "execution_count": 16,
   "id": "112aa1e1",
   "metadata": {},
   "outputs": [],
   "source": [
    "def sort_row_sums(array):\n",
    "    return np.sort(array)"
   ]
  },
  {
   "cell_type": "code",
   "execution_count": 17,
   "id": "ec42e9a4",
   "metadata": {},
   "outputs": [
    {
     "name": "stdout",
     "output_type": "stream",
     "text": [
      "\u001b[1mCORRESPONDING BITRATES\u001b[0m\n"
     ]
    },
    {
     "ename": "NameError",
     "evalue": "name 'sorted_bitrates_by_linear_power' is not defined",
     "output_type": "error",
     "traceback": [
      "\u001b[1;31m---------------------------------------------------------------------------\u001b[0m",
      "\u001b[1;31mNameError\u001b[0m                                 Traceback (most recent call last)",
      "\u001b[1;32m~\\AppData\\Local\\Temp\\ipykernel_14200\\3615023845.py\u001b[0m in \u001b[0;36m<module>\u001b[1;34m\u001b[0m\n\u001b[0;32m      1\u001b[0m \u001b[0mprint\u001b[0m\u001b[1;33m(\u001b[0m\u001b[1;34mf\"{BOLD}CORRESPONDING BITRATES{RESET}\"\u001b[0m\u001b[1;33m)\u001b[0m\u001b[1;33m\u001b[0m\u001b[1;33m\u001b[0m\u001b[0m\n\u001b[1;32m----> 2\u001b[1;33m \u001b[0msorted_bitrates\u001b[0m \u001b[1;33m=\u001b[0m \u001b[0msorted_bitrates_by_linear_power\u001b[0m\u001b[1;33m(\u001b[0m\u001b[0mlinear_pop\u001b[0m\u001b[1;33m,\u001b[0m \u001b[0mSUM_GAIN\u001b[0m\u001b[1;33m,\u001b[0m \u001b[0mlinear_noise\u001b[0m\u001b[1;33m)\u001b[0m\u001b[1;33m\u001b[0m\u001b[1;33m\u001b[0m\u001b[0m\n\u001b[0m\u001b[0;32m      3\u001b[0m \u001b[0mprint\u001b[0m\u001b[1;33m(\u001b[0m\u001b[1;33m*\u001b[0m\u001b[0msorted_bitrates\u001b[0m\u001b[1;33m,\u001b[0m \u001b[0msep\u001b[0m\u001b[1;33m=\u001b[0m\u001b[1;34m'\\n'\u001b[0m\u001b[1;33m)\u001b[0m\u001b[1;33m\u001b[0m\u001b[1;33m\u001b[0m\u001b[0m\n",
      "\u001b[1;31mNameError\u001b[0m: name 'sorted_bitrates_by_linear_power' is not defined"
     ]
    }
   ],
   "source": [
    "print(f\"{BOLD}CORRESPONDING BITRATES{RESET}\")\n",
    "sorted_bitrates = sorted_bitrates_by_linear_power(linear_pop, SUM_GAIN, linear_noise)\n",
    "print(*sorted_bitrates, sep='\\n')\n"
   ]
  },
  {
   "cell_type": "code",
   "execution_count": null,
   "id": "af3188fe",
   "metadata": {},
   "outputs": [],
   "source": [
    "def get_sorted_dbm(sorted_linear_power, dbm_population):\n",
    "    linear_pop = calculate_linear_trans_power(dbm_population)\n",
    "    row_sums = sum_linear_powers(linear_pop)\n",
    "    \n",
    "    sorted_dbm = []\n",
    "    for linear_power in sorted_linear_power:\n",
    "        index = np.where(np.isclose(row_sums, linear_power))[0][0]\n",
    "        sorted_dbm.append(dbm_population[index])\n",
    "    return np.array(sorted_dbm)\n",
    "\n",
    "# Usage\n",
    "sorted_dbm = get_sorted_dbm(sorted_array_linear_power, pop_size_dbm)\n",
    "\n",
    "print(f\"{BOLD}CORRESPONDING POWERS IN DB TO LINEAR POWER{RESET}\")\n",
    "print(sorted_dbm)\n"
   ]
  },
  {
   "cell_type": "code",
   "execution_count": null,
   "id": "e1802840",
   "metadata": {},
   "outputs": [],
   "source": [
    "def select_first_half(array):\n",
    "    midpoint = len(array) // 2\n",
    "    return array[:midpoint]\n"
   ]
  },
  {
   "cell_type": "code",
   "execution_count": null,
   "id": "39975946",
   "metadata": {},
   "outputs": [],
   "source": [
    "#usage1\n",
    "first_half_linear_power_increasing = select_first_half(sorted_array_linear_power)\n",
    "print(f\"{BOLD}TOP HALF OF SORTED ROW SUMS OF LINEAR POWER{RESET}\")\n",
    "print(*first_half_linear_power_increasing, sep='\\n') \n",
    " "
   ]
  },
  {
   "cell_type": "code",
   "execution_count": null,
   "id": "5499d94f",
   "metadata": {},
   "outputs": [],
   "source": []
  },
  {
   "cell_type": "code",
   "execution_count": null,
   "id": "379914a3",
   "metadata": {},
   "outputs": [],
   "source": [
    "\n"
   ]
  },
  {
   "cell_type": "code",
   "execution_count": null,
   "id": "b110d19d",
   "metadata": {},
   "outputs": [],
   "source": [
    "def upper_half_bitrates(sorted_bitrates):\n",
    "    # Calculate the index where to split the list\n",
    "    split_index = len(sorted_bitrates) // 2\n",
    "\n",
    "    # Get the upper half of the sorted bitrates\n",
    "    upper_half_bitrates = sorted_bitrates[:split_index]\n",
    "\n",
    "    return upper_half_bitrates\n"
   ]
  },
  {
   "cell_type": "code",
   "execution_count": null,
   "id": "aa25d2e5",
   "metadata": {},
   "outputs": [],
   "source": [
    "# sorted_bitrates = sorted_bitrates_by_linear_power(linear_pop, SUM_GAIN, linear_noise)\n",
    "print(f\"{BOLD}UPPER HALF OF BITRATES CORRESPONDING TO TOP HALF OF LINEAR POWER{RESET}\")\n",
    "upper_half_bitrates = upper_half_bitrates(sorted_bitrates)\n",
    "print(*upper_half_bitrates, sep='\\n')\n"
   ]
  },
  {
   "cell_type": "code",
   "execution_count": null,
   "id": "e4d6e70e",
   "metadata": {},
   "outputs": [],
   "source": [
    "\n"
   ]
  },
  {
   "cell_type": "code",
   "execution_count": null,
   "id": "b201b840",
   "metadata": {},
   "outputs": [],
   "source": []
  },
  {
   "cell_type": "code",
   "execution_count": null,
   "id": "c8ca5510",
   "metadata": {},
   "outputs": [],
   "source": [
    "def get_top_half_dbm(pop_size_dbm, row_sums, first_half_linear_power_increasing):\n",
    "    # Get the indices of the top half of the sorted row sums of linear power\n",
    "    top_half_linear_power_indices = [np.where(row_sums == value)[0][0] for value in first_half_linear_power_increasing]\n",
    "\n",
    "    # Get the power allocations in dBm corresponding to the top half of the sorted row sums of linear power\n",
    "    top_half_linear_power_dbm = pop_size_dbm[top_half_linear_power_indices]\n",
    "\n",
    "    return top_half_linear_power_dbm\n"
   ]
  },
  {
   "cell_type": "code",
   "execution_count": null,
   "id": "4881727f",
   "metadata": {},
   "outputs": [],
   "source": [
    "# Usage\n",
    "top_half_dbm = get_top_half_dbm(pop_size_dbm, row_sums, first_half_linear_power_increasing)\n",
    "print(f\"{BOLD}TOP HALF OF POWER ALLOCATIONS IN DBM CORRESPONDING TO SORTED ROW SUMS OF LINEAR POWER(INITIAL POPULATION){RESET}\")\n",
    "print(top_half_dbm)\n"
   ]
  },
  {
   "cell_type": "code",
   "execution_count": null,
   "id": "862b5377",
   "metadata": {},
   "outputs": [],
   "source": [
    "def simple_single_point_crossover(population):\n",
    "    num_offspring = len(population)\n",
    "    offspring = []\n",
    "\n",
    "    for i in range(0, num_offspring, 2):\n",
    "        # Select two parent solutions sequentially\n",
    "        parent1, parent2 = population[i], population[i + 1]\n",
    "\n",
    "        # Randomly choose a crossover point\n",
    "        crossover_point = random.randint(1, len(parent1) - 1)\n",
    "\n",
    "        # Create new offspring by swapping the genes of the parents at the crossover point\n",
    "        offspring1 = np.concatenate((parent1[:crossover_point], parent2[crossover_point:]))\n",
    "        offspring2 = np.concatenate((parent2[:crossover_point], parent1[crossover_point:]))\n",
    "\n",
    "        offspring.extend([offspring1, offspring2])\n",
    "\n",
    "    return np.array(offspring)\n",
    "\n",
    "# Usage\n",
    "offspring = simple_single_point_crossover(top_half_dbm)\n",
    "\n",
    "print(f\"{BOLD}OFFSPRING AFTER SINGLE-POINT CROSSOVER{RESET}\")\n",
    "print(offspring)\n"
   ]
  },
  {
   "cell_type": "code",
   "execution_count": null,
   "id": "f38d0d21",
   "metadata": {},
   "outputs": [],
   "source": [
    "def mutation(offspring, powers, mutation_rate=1.0):\n",
    "    mutated_offspring = offspring.copy()\n",
    "\n",
    "    for i in range(len(offspring)):\n",
    "        if random.random() < mutation_rate:\n",
    "            # Randomly select a gene index for mutation\n",
    "            gene_index = random.randint(0, len(offspring[i]) - 1)\n",
    "\n",
    "            # Choose a new power value randomly, different from the current gene value\n",
    "            new_power = random.choice([p for p in powers if p != offspring[i][gene_index]])\n",
    "\n",
    "            # Replace the gene with the new power value\n",
    "            mutated_offspring[i][gene_index] = new_power\n",
    "\n",
    "    return mutated_offspring\n",
    "\n"
   ]
  },
  {
   "cell_type": "code",
   "execution_count": null,
   "id": "3b75e0e6",
   "metadata": {},
   "outputs": [],
   "source": [
    "# Usage\n",
    "mutated_offspring = mutation(offspring, powers)\n",
    "print(f\"{BOLD}MUTATED OFFSPRING{RESET}\")\n",
    "print(mutated_offspring)"
   ]
  },
  {
   "cell_type": "code",
   "execution_count": null,
   "id": "234002d5",
   "metadata": {},
   "outputs": [],
   "source": [
    "def combine_initial_and_mutated(initial_population, mutated_offspring):\n",
    "    return np.concatenate((initial_population, mutated_offspring), axis=0)\n",
    "\n",
    "# Usage\n",
    "combined_population = combine_initial_and_mutated(top_half_dbm, mutated_offspring)\n",
    "print(f\"{BOLD}COMBINED POPULATION{RESET}\")\n",
    "print(combined_population)\n"
   ]
  },
  {
   "cell_type": "code",
   "execution_count": null,
   "id": "d998e93f",
   "metadata": {},
   "outputs": [],
   "source": []
  }
 ],
 "metadata": {
  "kernelspec": {
   "display_name": "Python 3 (ipykernel)",
   "language": "python",
   "name": "python3"
  },
  "language_info": {
   "codemirror_mode": {
    "name": "ipython",
    "version": 3
   },
   "file_extension": ".py",
   "mimetype": "text/x-python",
   "name": "python",
   "nbconvert_exporter": "python",
   "pygments_lexer": "ipython3",
   "version": "3.9.13"
  }
 },
 "nbformat": 4,
 "nbformat_minor": 5
}
