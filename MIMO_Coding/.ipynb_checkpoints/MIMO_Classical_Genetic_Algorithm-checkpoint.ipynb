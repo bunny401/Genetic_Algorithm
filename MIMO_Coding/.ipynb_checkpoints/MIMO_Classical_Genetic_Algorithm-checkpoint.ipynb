{
 "cells": [
  {
   "cell_type": "code",
   "execution_count": 1,
   "id": "94374937",
   "metadata": {},
   "outputs": [],
   "source": [
    "#imports\n",
    "import math\n",
    "import numpy as np\n",
    "import random\n",
    "import itertools\n",
    "from random import choices\n",
    "import cmath\n"
   ]
  },
  {
   "cell_type": "code",
   "execution_count": 2,
   "id": "f1c5d357",
   "metadata": {},
   "outputs": [],
   "source": [
    "#constants\n",
    "GAIN_MATRIX = (\n",
    "    (3.95370716e-13, 1.40831353e-12, 1.30345221e-13, 1.58616128e-12),\n",
    "    (1.10454943e-11, 1.08797904e-13, 1.70626457e-11, 1.87910752e-13),\n",
    "    (5.35349571e-12, 1.75915771e-12, 1.10933550e-11, 2.15002508e-12),\n",
    "    (9.57092193e-12, 1.14512900e-11, 7.62246884e-13, 1.58625393e-11)\n",
    ")\n",
    "\n",
    "SUM_GAIN = (\n",
    "    2.63652827e-11, 1.47275591e-11, 2.90485928e-11, 1.97866364e-11\n",
    ")\n",
    "\n",
    "D=10**6  #bandwidth\n",
    "N=-174 + 10 * math.log10(D) #noise in dbm"
   ]
  },
  {
   "cell_type": "code",
   "execution_count": 3,
   "id": "4f356e53",
   "metadata": {},
   "outputs": [],
   "source": [
    "#generating population in dbm\n",
    "def generate_random_solutions(powers, no_of_users, num_random_solutions):\n",
    "    return np.random.choice(powers, size=(num_random_solutions, no_of_users))\n"
   ]
  },
  {
   "cell_type": "code",
   "execution_count": 4,
   "id": "6acb75cc",
   "metadata": {},
   "outputs": [
    {
     "name": "stdout",
     "output_type": "stream",
     "text": [
      "[[2 4 4 4]\n",
      " [0 0 2 0]\n",
      " [0 2 0 2]\n",
      " [0 2 2 0]\n",
      " [4 0 2 4]\n",
      " [2 2 4 2]\n",
      " [2 0 4 4]\n",
      " [2 2 2 4]]\n"
     ]
    }
   ],
   "source": [
    "#usage\n",
    "powers = [0,2,4]\n",
    "no_of_users = 4\n",
    "num_random_solutions = 8\n",
    "pop_size_dbm = generate_random_solutions(powers, no_of_users, num_random_solutions)\n",
    "print(pop_size_dbm)"
   ]
  },
  {
   "cell_type": "code",
   "execution_count": 5,
   "id": "24ad9c60",
   "metadata": {},
   "outputs": [],
   "source": [
    "# converting population to linear watt\n",
    "def calculate_linear_trans_power(pop_size_dbm):\n",
    "    result=(pow(10, -3) * np.power(10.0, np.array(pop_size_dbm, dtype=\"float\") / 10))\n",
    "    return result\n"
   ]
  },
  {
   "cell_type": "code",
   "execution_count": 6,
   "id": "d4b13abc",
   "metadata": {},
   "outputs": [
    {
     "name": "stdout",
     "output_type": "stream",
     "text": [
      "[[0.00158489 0.00251189 0.00251189 0.00251189]\n",
      " [0.001      0.001      0.00158489 0.001     ]\n",
      " [0.001      0.00158489 0.001      0.00158489]\n",
      " [0.001      0.00158489 0.00158489 0.001     ]\n",
      " [0.00251189 0.001      0.00158489 0.00251189]\n",
      " [0.00158489 0.00158489 0.00251189 0.00158489]\n",
      " [0.00158489 0.001      0.00251189 0.00251189]\n",
      " [0.00158489 0.00158489 0.00158489 0.00251189]]\n"
     ]
    }
   ],
   "source": [
    "#usage\n",
    "linear_pop=calculate_linear_trans_power(pop_size_dbm)\n",
    "print(linear_pop)"
   ]
  },
  {
   "cell_type": "code",
   "execution_count": 7,
   "id": "bf304146",
   "metadata": {},
   "outputs": [
    {
     "name": "stdout",
     "output_type": "stream",
     "text": [
      "Linear noise: [3.98107171e-15]\n"
     ]
    }
   ],
   "source": [
    "#usage for converting the noise to linear\n",
    "linear_noise = calculate_linear_trans_power([N])\n",
    "print(\"Linear noise:\", linear_noise)"
   ]
  },
  {
   "cell_type": "code",
   "execution_count": 8,
   "id": "2bfb6b29",
   "metadata": {},
   "outputs": [],
   "source": [
    "def calculate_formula_and_sums(linear_pop, SUM_GAIN, linear_noise):\n",
    "    a = np.array(linear_pop)\n",
    "    b = np.array(SUM_GAIN)\n",
    "    bit_rate_matrix = (D * np.log2(1 + ((a * b) / linear_noise)))\n",
    "    return bit_rate_matrix"
   ]
  },
  {
   "cell_type": "code",
   "execution_count": 9,
   "id": "64151a4d",
   "metadata": {},
   "outputs": [
    {
     "name": "stdout",
     "output_type": "stream",
     "text": [
      "[[3523086.17671602 3363516.1582802  4272652.02625749 3753232.64345308]\n",
      " [2930294.44975843 2232475.21650449 3651275.96911754 2577774.03041514]\n",
      " [2930294.44975843 2778870.2310227  3052533.55366803 3150104.99872635]\n",
      " [2930294.44975843 2778870.2310227  3651275.96911754 2577774.03041514]\n",
      " [4140399.83799027 2232475.21650449 3651275.96911754 3753232.64345308]\n",
      " [3523086.17671602 2778870.2310227  4272652.02625749 3150104.99872635]\n",
      " [3523086.17671602 2232475.21650449 4272652.02625749 3753232.64345308]\n",
      " [3523086.17671602 2778870.2310227  3651275.96911754 3753232.64345308]]\n"
     ]
    }
   ],
   "source": [
    "#Usage for calculating the bitrates through big formula\n",
    "bitrate=calculate_formula_and_sums(linear_pop, SUM_GAIN, linear_noise)\n",
    "print(bitrate)"
   ]
  },
  {
   "cell_type": "code",
   "execution_count": 10,
   "id": "b272c85d",
   "metadata": {},
   "outputs": [],
   "source": [
    "def row_wise_sums(matrix):\n",
    "    return [sum(row) for row in matrix]"
   ]
  },
  {
   "cell_type": "code",
   "execution_count": 11,
   "id": "ed58a4bb",
   "metadata": {},
   "outputs": [
    {
     "name": "stdout",
     "output_type": "stream",
     "text": [
      "ROW SUMS oOF BITRATE:\n",
      "14912487.0047068\n",
      "11391819.665795594\n",
      "11911803.233175501\n",
      "11938214.680313796\n",
      "13777383.667065384\n",
      "13724713.43272256\n",
      "13781446.06293109\n",
      "13706465.02030934\n"
     ]
    }
   ],
   "source": [
    "# USAGE\n",
    "row_sum_bitrate = row_wise_sums(bitrate)\n",
    "print(\"ROW SUMS oOF BITRATE:\")\n",
    "print(*row_sum_bitrate, sep='\\n')\n"
   ]
  },
  {
   "cell_type": "code",
   "execution_count": 12,
   "id": "8803bfa5",
   "metadata": {},
   "outputs": [],
   "source": [
    "def get_sorted_row_sums(matrix):\n",
    "    # Calculate the sum of each row and store it as a tuple (row_sum, row)\n",
    "    row_sums = [(sum(row), row) for row in matrix]\n",
    "\n",
    "    # Sort the row sums in increasing order\n",
    "    sorted_row_sums = sorted(row_sums, key=lambda x: x[0])\n",
    "\n",
    "    # Return the sorted row sums\n",
    "    return [row_sum for row_sum, _ in sorted_row_sums]"
   ]
  },
  {
   "cell_type": "code",
   "execution_count": 13,
   "id": "28fe86f6",
   "metadata": {},
   "outputs": [
    {
     "name": "stdout",
     "output_type": "stream",
     "text": [
      "Row sums in increasing order:\n",
      "11391819.665795594\n",
      "11911803.233175501\n",
      "11938214.680313796\n",
      "13706465.02030934\n",
      "13724713.43272256\n",
      "13777383.667065384\n",
      "13781446.06293109\n",
      "14912487.0047068\n"
     ]
    }
   ],
   "source": [
    "sorted_row_sums = get_sorted_row_sums(bitrate)\n",
    "print(\"Row sums in increasing order:\")\n",
    "print(*sorted_row_sums, sep='\\n')"
   ]
  },
  {
   "cell_type": "code",
   "execution_count": 14,
   "id": "5aa6bdd9",
   "metadata": {},
   "outputs": [
    {
     "name": "stdout",
     "output_type": "stream",
     "text": [
      "11391819.665795594\n"
     ]
    }
   ],
   "source": [
    "target_bitrate = sorted_row_sums[0]\n",
    "print(target_bitrate)"
   ]
  },
  {
   "cell_type": "code",
   "execution_count": 15,
   "id": "d64ff6e7",
   "metadata": {},
   "outputs": [],
   "source": [
    "# def get_sorted_matrix(sorted_row_sums, matrix):\n",
    "#     # Create a dictionary with row sums as keys and corresponding rows as values\n",
    "#     row_sum_to_row = {sum(row): row for row in matrix}\n",
    "\n",
    "#     # Get the corresponding matrix rows based on the sorted row sums\n",
    "#     sorted_matrix = [row_sum_to_row[row_sum] for row_sum in sorted_row_sums]\n",
    "\n",
    "#     return sorted_matrix\n"
   ]
  },
  {
   "cell_type": "code",
   "execution_count": 16,
   "id": "618a80c3",
   "metadata": {},
   "outputs": [],
   "source": [
    "# usage\n",
    "# sorted_matrix = get_sorted_matrix(sorted_row_sums, bitrate)\n",
    "\n",
    "# print(\"Corresponding matrix rows:\")\n",
    "# for row in sorted_matrix:\n",
    "#     print(row)"
   ]
  },
  {
   "cell_type": "code",
   "execution_count": 17,
   "id": "96090aa2",
   "metadata": {},
   "outputs": [
    {
     "name": "stdout",
     "output_type": "stream",
     "text": [
      "Half of the sorted row sums:\n",
      "11391819.665795594\n",
      "11911803.233175501\n",
      "11938214.680313796\n",
      "13706465.02030934\n"
     ]
    }
   ],
   "source": [
    "def select_half_of_sorted_sums(sorted_row_sums):\n",
    "    half_length = len(sorted_row_sums) // 2\n",
    "    return sorted_row_sums[:half_length]\n",
    "\n",
    "half_sorted_row_sums = select_half_of_sorted_sums(sorted_row_sums)\n",
    "\n",
    "print(\"Half of the sorted row sums:\")\n",
    "for row_sum in half_sorted_row_sums:\n",
    "    print(row_sum)"
   ]
  },
  {
   "cell_type": "code",
   "execution_count": 18,
   "id": "b1f86f33",
   "metadata": {},
   "outputs": [
    {
     "name": "stdout",
     "output_type": "stream",
     "text": [
      "Initial population:\n",
      "[0 0 2 0]\n",
      "[0 2 0 2]\n",
      "[0 2 2 0]\n",
      "[2 2 2 4]\n"
     ]
    }
   ],
   "source": [
    "initial_population_indices = [i for i, _ in enumerate(pop_size_dbm) if row_wise_sums(bitrate)[i] in half_sorted_row_sums]\n",
    "initial_population = [pop_size_dbm[i] for i in initial_population_indices]\n",
    "print(\"Initial population:\")\n",
    "for solution in initial_population:\n",
    "    print(solution)\n"
   ]
  },
  {
   "cell_type": "code",
   "execution_count": 19,
   "id": "24622f0d",
   "metadata": {},
   "outputs": [
    {
     "name": "stdout",
     "output_type": "stream",
     "text": [
      "Initial population and their total bitrates:\n",
      "Solution: [0 0 2 0] Total bitrate: 11391819.665795594\n",
      "Solution: [0 2 0 2] Total bitrate: 11911803.233175501\n",
      "Solution: [0 2 2 0] Total bitrate: 11938214.680313796\n",
      "Solution: [2 2 2 4] Total bitrate: 13706465.02030934\n"
     ]
    }
   ],
   "source": [
    "initial_population_indices = [i for i, _ in enumerate(pop_size_dbm) if row_wise_sums(bitrate)[i] in half_sorted_row_sums]\n",
    "initial_population = [pop_size_dbm[i] for i in initial_population_indices]\n",
    "initial_population_bitrates = [row_wise_sums(bitrate)[i] for i in initial_population_indices]\n",
    "\n",
    "print(\"Initial population and their total bitrates:\")\n",
    "for solution, bitrate in zip(initial_population, initial_population_bitrates):\n",
    "    print(\"Solution:\", solution, \"Total bitrate:\", bitrate)\n",
    "\n"
   ]
  },
  {
   "cell_type": "code",
   "execution_count": 20,
   "id": "5f032c3e",
   "metadata": {},
   "outputs": [
    {
     "name": "stdout",
     "output_type": "stream",
     "text": [
      "Initial population:\n",
      "[0 0 2 0]\n",
      "[0 2 0 2]\n",
      "[0 2 2 0]\n",
      "[2 2 2 4]\n",
      "\n",
      "Offspring after single-point crossover:\n",
      "[0 2 0 2]\n",
      "[0 0 2 0]\n",
      "[0 2 2 4]\n",
      "[2 2 2 0]\n"
     ]
    }
   ],
   "source": [
    "def single_point_crossover(parent1, parent2):\n",
    "    # Perform single-point crossover\n",
    "    crossover_point = random.randint(1, len(parent1) - 1)\n",
    "    child1 = np.hstack((parent1[:crossover_point], parent2[crossover_point:]))\n",
    "    child2 = np.hstack((parent2[:crossover_point], parent1[crossover_point:]))\n",
    "    \n",
    "    return child1, child2\n",
    "\n",
    "\n",
    "offspring = []\n",
    "for i in range(0, len(initial_population), 2):\n",
    "    parent1 = initial_population[i]\n",
    "    parent2 = initial_population[i + 1]\n",
    "    \n",
    "    child1, child2 = single_point_crossover(parent1, parent2)\n",
    "    \n",
    "    offspring.append(child1)\n",
    "    offspring.append(child2)\n",
    "\n",
    "print(\"Initial population:\")\n",
    "for solution in initial_population:\n",
    "    print(solution)\n",
    "\n",
    "print(\"\\nOffspring after single-point crossover:\")\n",
    "for child in offspring:\n",
    "    print(child)\n"
   ]
  },
  {
   "cell_type": "code",
   "execution_count": 25,
   "id": "de22b287",
   "metadata": {},
   "outputs": [],
   "source": [
    "def mutate_one_gene_per_individual(population, powers):\n",
    "    mutated_population = np.copy(population)\n",
    "\n",
    "    for i, individual in enumerate(mutated_population):\n",
    "        # Choose a random gene within the individual\n",
    "        gene_index = random.randint(0, len(individual) - 1)\n",
    "\n",
    "        # Store the original power level of the chosen gene\n",
    "        original_power = individual[gene_index]\n",
    "\n",
    "        # Mutate the chosen gene with a random power level from the powers list\n",
    "        individual[gene_index] = random.choice(powers)\n",
    "\n",
    "        # Print the mutation information\n",
    "        print(f\"Offspring {i + 1}: Gene {gene_index + 1} was mutated from {original_power} to {individual[gene_index]}\")\n",
    "\n",
    "    return mutated_population\n"
   ]
  },
  {
   "cell_type": "code",
   "execution_count": 26,
   "id": "89530d51",
   "metadata": {},
   "outputs": [
    {
     "name": "stdout",
     "output_type": "stream",
     "text": [
      "Offspring 1: Gene 4 was mutated from 2 to 4\n",
      "Offspring 2: Gene 4 was mutated from 0 to 0\n",
      "Offspring 3: Gene 3 was mutated from 2 to 0\n",
      "Offspring 4: Gene 4 was mutated from 0 to 0\n",
      "\n",
      "Mutated offspring:\n",
      "[0 2 0 4]\n",
      "[0 0 2 0]\n",
      "[0 2 0 4]\n",
      "[2 2 2 0]\n"
     ]
    }
   ],
   "source": [
    "mutated_offspring = mutate_one_gene_per_individual(offspring, powers)\n",
    "\n",
    "print(\"\\nMutated offspring:\")\n",
    "for child in mutated_offspring:\n",
    "    print(child)\n"
   ]
  },
  {
   "cell_type": "code",
   "execution_count": null,
   "id": "1654d55b",
   "metadata": {},
   "outputs": [],
   "source": []
  },
  {
   "cell_type": "code",
   "execution_count": 113,
   "id": "d7cd8094",
   "metadata": {},
   "outputs": [],
   "source": [
    "\n"
   ]
  },
  {
   "cell_type": "code",
   "execution_count": null,
   "id": "3d2aece9",
   "metadata": {},
   "outputs": [],
   "source": [
    "\n"
   ]
  },
  {
   "cell_type": "code",
   "execution_count": null,
   "id": "fc94061c",
   "metadata": {},
   "outputs": [],
   "source": []
  }
 ],
 "metadata": {
  "kernelspec": {
   "display_name": "Python 3 (ipykernel)",
   "language": "python",
   "name": "python3"
  },
  "language_info": {
   "codemirror_mode": {
    "name": "ipython",
    "version": 3
   },
   "file_extension": ".py",
   "mimetype": "text/x-python",
   "name": "python",
   "nbconvert_exporter": "python",
   "pygments_lexer": "ipython3",
   "version": "3.9.13"
  }
 },
 "nbformat": 4,
 "nbformat_minor": 5
}
