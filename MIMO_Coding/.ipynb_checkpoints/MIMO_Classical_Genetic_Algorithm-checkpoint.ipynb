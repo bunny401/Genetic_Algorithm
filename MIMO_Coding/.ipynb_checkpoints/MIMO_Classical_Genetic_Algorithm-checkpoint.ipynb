{
 "cells": [
  {
   "cell_type": "code",
   "execution_count": 83,
   "id": "94374937",
   "metadata": {},
   "outputs": [],
   "source": [
    "#imports\n",
    "import math\n",
    "import numpy as np\n",
    "import random\n",
    "import itertools\n",
    "from random import choices\n",
    "import cmath\n",
    "BOLD = '\\033[1m'\n",
    "RESET = '\\033[0m'\n",
    "\n",
    "\n",
    "\n"
   ]
  },
  {
   "cell_type": "code",
   "execution_count": 84,
   "id": "f1c5d357",
   "metadata": {},
   "outputs": [],
   "source": [
    "#constants\n",
    "GAIN_MATRIX = (\n",
    "    (3.95370716e-13, 1.40831353e-12, 1.30345221e-13, 1.58616128e-12),\n",
    "    (1.10454943e-11, 1.08797904e-13, 1.70626457e-11, 1.87910752e-13),\n",
    "    (5.35349571e-12, 1.75915771e-12, 1.10933550e-11, 2.15002508e-12),\n",
    "    (9.57092193e-12, 1.14512900e-11, 7.62246884e-13, 1.58625393e-11)\n",
    ")\n",
    "\n",
    "SUM_GAIN = (\n",
    "    2.63652827e-11, 1.47275591e-11, 2.90485928e-11, 1.97866364e-11\n",
    ")\n",
    "\n",
    "D=10**6  #bandwidth\n",
    "N=-174 + 10 * math.log10(D) #noise in dbm"
   ]
  },
  {
   "cell_type": "code",
   "execution_count": 85,
   "id": "4f356e53",
   "metadata": {},
   "outputs": [],
   "source": [
    "#generating population in dbm\n",
    "def generate_random_solutions(powers, no_of_users, num_random_solutions):\n",
    "    return np.random.choice(powers, size=(num_random_solutions, no_of_users))\n"
   ]
  },
  {
   "cell_type": "code",
   "execution_count": 86,
   "id": "6acb75cc",
   "metadata": {},
   "outputs": [
    {
     "name": "stdout",
     "output_type": "stream",
     "text": [
      "\u001b[1mPOWERS IN DBM\u001b[0m\n",
      "[[4 0 2 4]\n",
      " [4 4 2 2]\n",
      " [4 4 4 2]\n",
      " [0 2 0 0]\n",
      " [0 0 0 4]\n",
      " [2 4 0 2]\n",
      " [2 0 2 4]\n",
      " [2 2 0 2]]\n",
      "<class 'numpy.ndarray'>\n"
     ]
    }
   ],
   "source": [
    "#usage\n",
    "powers = [0,2,4]\n",
    "no_of_users = 4\n",
    "num_random_solutions = 8\n",
    "print(f\"{BOLD}POWERS IN DBM{RESET}\")\n",
    "pop_size_dbm = generate_random_solutions(powers, no_of_users, num_random_solutions)\n",
    "print(pop_size_dbm)\n",
    "print(type(pop_size_dbm))"
   ]
  },
  {
   "cell_type": "code",
   "execution_count": 87,
   "id": "24ad9c60",
   "metadata": {},
   "outputs": [],
   "source": [
    "# converting population to linear watt\n",
    "def calculate_linear_trans_power(pop_size_dbm):\n",
    "    result=(pow(10, -3) * np.power(10.0, np.array(pop_size_dbm, dtype=\"float\") / 10))\n",
    "    return result\n"
   ]
  },
  {
   "cell_type": "code",
   "execution_count": 88,
   "id": "d4b13abc",
   "metadata": {},
   "outputs": [
    {
     "name": "stdout",
     "output_type": "stream",
     "text": [
      "\u001b[1mPOWERS IN LINEAR\u001b[0m\n",
      "[[0.00251189 0.001      0.00158489 0.00251189]\n",
      " [0.00251189 0.00251189 0.00158489 0.00158489]\n",
      " [0.00251189 0.00251189 0.00251189 0.00158489]\n",
      " [0.001      0.00158489 0.001      0.001     ]\n",
      " [0.001      0.001      0.001      0.00251189]\n",
      " [0.00158489 0.00251189 0.001      0.00158489]\n",
      " [0.00158489 0.001      0.00158489 0.00251189]\n",
      " [0.00158489 0.00158489 0.001      0.00158489]]\n"
     ]
    }
   ],
   "source": [
    "#usage\n",
    "print(f\"{BOLD}POWERS IN LINEAR{RESET}\")\n",
    "linear_pop=calculate_linear_trans_power(pop_size_dbm)\n",
    "print(linear_pop)"
   ]
  },
  {
   "cell_type": "code",
   "execution_count": 89,
   "id": "d895fc66",
   "metadata": {},
   "outputs": [],
   "source": [
    "# fitness function  ==== linear_power_vect\n",
    "def summing(array):\n",
    "    return np.sum(array, axis=1)"
   ]
  },
  {
   "cell_type": "code",
   "execution_count": 90,
   "id": "d690b4ff",
   "metadata": {},
   "outputs": [
    {
     "name": "stdout",
     "output_type": "stream",
     "text": [
      "\u001b[1mSUM OF LINEAR POWERS\u001b[0m\n",
      "0.007608666055480274\n",
      "0.008193559247941387\n",
      "0.009120552486989855\n",
      "0.0045848931924611135\n",
      "0.00551188643150958\n",
      "0.006681672816431807\n",
      "0.006681672816431807\n",
      "0.005754679577383341\n"
     ]
    }
   ],
   "source": [
    "# usage\n",
    "print(f\"{BOLD}SUM OF LINEAR POWERS{RESET}\")\n",
    "row_sums = summing(linear_pop)\n",
    "print(*row_sums, sep='\\n')"
   ]
  },
  {
   "cell_type": "code",
   "execution_count": 91,
   "id": "97f8b478",
   "metadata": {},
   "outputs": [
    {
     "name": "stdout",
     "output_type": "stream",
     "text": [
      "Linear noise: [3.98107171e-15]\n"
     ]
    }
   ],
   "source": [
    "#usage for converting the noise to linear\n",
    "linear_noise = calculate_linear_trans_power([N])\n",
    "print(\"Linear noise:\", linear_noise)"
   ]
  },
  {
   "cell_type": "code",
   "execution_count": 92,
   "id": "cda44817",
   "metadata": {},
   "outputs": [],
   "source": [
    "#calculate the bit rate matrix\n",
    "def calculate_formula_and_sums(linear_pop, SUM_GAIN, linear_noise):\n",
    "    a = np.array(linear_pop)\n",
    "    b = np.array(SUM_GAIN)\n",
    "    bit_rate_matrix = (D * np.log2(1 + ((a * b) / linear_noise)))\n",
    "    return bit_rate_matrix"
   ]
  },
  {
   "cell_type": "code",
   "execution_count": 93,
   "id": "5fe262ed",
   "metadata": {},
   "outputs": [
    {
     "name": "stdout",
     "output_type": "stream",
     "text": [
      "\u001b[1mBITRATES(formula)\u001b[0m\n",
      "[[4140399.83799027 2232475.21650449 3651275.96911754 3753232.64345308]\n",
      " [4140399.83799027 3363516.1582802  3651275.96911754 3150104.99872635]\n",
      " [4140399.83799027 3363516.1582802  4272652.02625749 3150104.99872635]\n",
      " [2930294.44975843 2778870.2310227  3052533.55366803 2577774.03041514]\n",
      " [2930294.44975843 2232475.21650449 3052533.55366803 3753232.64345308]\n",
      " [3523086.17671602 3363516.1582802  3052533.55366803 3150104.99872635]\n",
      " [3523086.17671602 2232475.21650449 3651275.96911754 3753232.64345308]\n",
      " [3523086.17671602 2778870.2310227  3052533.55366803 3150104.99872635]]\n"
     ]
    }
   ],
   "source": [
    "#Usage \n",
    "print(f\"{BOLD}BITRATES(formula){RESET}\")\n",
    "bitrate=calculate_formula_and_sums(linear_pop, SUM_GAIN, linear_noise)\n",
    "print(bitrate)"
   ]
  },
  {
   "cell_type": "code",
   "execution_count": 94,
   "id": "c5d41861",
   "metadata": {},
   "outputs": [
    {
     "name": "stdout",
     "output_type": "stream",
     "text": [
      "\u001b[1mSUM OF BITRATES\u001b[0m\n",
      "13777383.667065384\n",
      "14305296.96411436\n",
      "14926673.021254312\n",
      "11339472.264864285\n",
      "11968535.86338403\n",
      "13089240.887390604\n",
      "13160070.005791139\n",
      "12504594.960133096\n"
     ]
    }
   ],
   "source": [
    "# USAGE\n",
    "print(f\"{BOLD}SUM OF BITRATES{RESET}\")\n",
    "row_sum_bitrate = summing(bitrate)\n",
    "print(*row_sum_bitrate, sep='\\n')\n"
   ]
  },
  {
   "cell_type": "code",
   "execution_count": 95,
   "id": "61c4206d",
   "metadata": {},
   "outputs": [],
   "source": [
    "def selection_half_population(size_pop, pop_size_dbm, row_sums):\n",
    "    L = size_pop // 2\n",
    "    \n",
    "    # Combine the population and their corresponding row sums\n",
    "    help_fun = np.column_stack((pop_size_dbm, row_sums))\n",
    "\n",
    "    # Sort the combined array in ascending order of row sums\n",
    "    sorted_help_fun = help_fun[np.argsort(help_fun[:, -1])]\n",
    "    \n",
    "    # Select the top half of the population\n",
    "    parent = sorted_help_fun[:L, :-1]\n",
    "    parent_EE = sorted_help_fun[:L, -1]\n",
    "    \n",
    "    # Combine the selected parents and their corresponding row sums\n",
    "    selected_parents = [[list(parent_row), parent_EE_value] for parent_row, parent_EE_value in zip(parent, parent_EE)]\n",
    "    \n",
    "    return selected_parents\n"
   ]
  },
  {
   "cell_type": "code",
   "execution_count": 99,
   "id": "cb9a7c67",
   "metadata": {},
   "outputs": [
    {
     "name": "stdout",
     "output_type": "stream",
     "text": [
      "Selected Parents:\n",
      "[[0.0, 2.0, 0.0, 0.0], 0.0045848931924611135]\n",
      "[[0.0, 0.0, 0.0, 4.0], 0.00551188643150958]\n",
      "[[2.0, 2.0, 0.0, 2.0], 0.005754679577383341]\n",
      "[[2.0, 4.0, 0.0, 2.0], 0.006681672816431807]\n"
     ]
    }
   ],
   "source": [
    "# Use the selection_half_population function\n",
    "selected_parents = selection_half_population(num_random_solutions, pop_size_dbm, row_sums)\n",
    "\n",
    "# Print the output\n",
    "print(\"Selected Parents:\")\n",
    "print(*selected_parents, sep='\\n')\n"
   ]
  },
  {
   "cell_type": "code",
   "execution_count": 100,
   "id": "6a110e53",
   "metadata": {},
   "outputs": [],
   "source": [
    "def extract_powers_in_dbm(selected_parents):\n",
    "    powers = [list(parent[0]) for parent in selected_parents]\n",
    "    return powers"
   ]
  },
  {
   "cell_type": "code",
   "execution_count": 101,
   "id": "00f761d5",
   "metadata": {},
   "outputs": [
    {
     "name": "stdout",
     "output_type": "stream",
     "text": [
      "[0.0, 2.0, 0.0, 0.0]\n",
      "[0.0, 0.0, 0.0, 4.0]\n",
      "[2.0, 2.0, 0.0, 2.0]\n",
      "[2.0, 4.0, 0.0, 2.0]\n"
     ]
    }
   ],
   "source": [
    "only_dbm=extract_powers_in_dbm(selected_parents)\n",
    "print(*only_dbm, sep='\\n')"
   ]
  },
  {
   "cell_type": "code",
   "execution_count": 102,
   "id": "f229e3cf",
   "metadata": {},
   "outputs": [
    {
     "name": "stdout",
     "output_type": "stream",
     "text": [
      "Corresponding  Bitrate (Exact Order):\n",
      "11339472.264864285\n",
      "11968535.86338403\n",
      "12504594.960133096\n",
      "13089240.887390604\n"
     ]
    }
   ],
   "source": [
    "def corresponding_row_sum_bitrate_v2(selected_parents, pop_size_dbm, row_sum_bitrate):\n",
    "    parent_indices = [pop_size_dbm.tolist().index(parent[0]) for parent in selected_parents]\n",
    "    corresponding_row_sum_bitrate_values = [row_sum_bitrate[index] for index in parent_indices]\n",
    "    \n",
    "    return corresponding_row_sum_bitrate_values\n",
    "\n",
    "# Usage\n",
    "corresponding_bitrate_values_v2 = corresponding_row_sum_bitrate_v2(selected_parents, pop_size_dbm, row_sum_bitrate)\n",
    "print(\"Corresponding  Bitrate (Exact Order):\")\n",
    "print(*corresponding_bitrate_values_v2, sep='\\n')\n"
   ]
  },
  {
   "cell_type": "code",
   "execution_count": null,
   "id": "5ec8c5cd",
   "metadata": {},
   "outputs": [],
   "source": [
    "def one_point_crossover_first_second(parents):\n",
    "    offspring = []\n",
    "    \n",
    "    # Perform crossover between the first two parents\n",
    "    parent1 = parents[0][0]\n",
    "    parent2 = parents[1][0]\n",
    "    crossover_point = random.randint(1, len(parent1) - 1)\n",
    "    offspring1 = parent1[:crossover_point] + parent2[crossover_point:]\n",
    "    offspring2 = parent2[:crossover_point] + parent1[crossover_point:]\n",
    "    offspring.append(offspring1)\n",
    "    offspring.append(offspring2)\n",
    "\n",
    "    # Perform crossover between the second two parents\n",
    "    parent3 = parents[2][0]\n",
    "    parent4 = parents[3][0]\n",
    "    crossover_point = random.randint(1, len(parent3) - 1)\n",
    "    offspring3 = parent3[:crossover_point] + parent4[crossover_point:]\n",
    "    offspring4 = parent4[:crossover_point] + parent3[crossover_point:]\n",
    "    offspring.append(offspring3)\n",
    "    offspring.append(offspring4)\n",
    "\n",
    "    return offspring\n",
    "\n",
    "# Usage\n",
    "crossover_offspring = one_point_crossover_first_second(selected_parents)\n",
    "print(\"Crossover Offspring:\")\n",
    "print(*crossover_offspring, sep='\\n')\n",
    "print(type(crossover_offspring))\n"
   ]
  },
  {
   "cell_type": "code",
   "execution_count": null,
   "id": "2d4d28ff",
   "metadata": {},
   "outputs": [],
   "source": []
  },
  {
   "cell_type": "code",
   "execution_count": null,
   "id": "70cf0a5b",
   "metadata": {},
   "outputs": [],
   "source": [
    "def mutation(offspring, powers):\n",
    "    mutated_offspring = []\n",
    "    for child in offspring:\n",
    "        mutated_child = child.copy()\n",
    "        mutation_position = random.randint(0, len(child) - 1)\n",
    "        new_gene = random.choice(powers)\n",
    "        \n",
    "        while new_gene == mutated_child[mutation_position]:\n",
    "            new_gene = random.choice(powers)\n",
    "        \n",
    "        mutated_child[mutation_position] = new_gene\n",
    "        mutated_offspring.append(mutated_child)\n",
    "    return mutated_offspring\n",
    "\n",
    "# Usage\n",
    "mutated_offspring = mutation(crossover_offspring, powers)\n",
    "print(\"Mutated Offspring:\")\n",
    "print(*mutated_offspring, sep='\\n')\n"
   ]
  },
  {
   "cell_type": "code",
   "execution_count": null,
   "id": "6aa0b753",
   "metadata": {},
   "outputs": [],
   "source": [
    "def concatenate_parents_and_offspring(selected_parents, mutated_offspring):\n",
    "    combined_population = []\n",
    "\n",
    "    # Add selected parents to the combined population\n",
    "    for parent, parent_EE_value in selected_parents:\n",
    "        combined_population.append(parent)\n",
    "\n",
    "    # Add mutated offspring to the combined population\n",
    "    for offspring in mutated_offspring:\n",
    "        combined_population.append(np.array(offspring))\n",
    "\n",
    "    # Convert the combined population list to a NumPy array\n",
    "    combined_population = np.array(combined_population)\n",
    "\n",
    "    return combined_population\n",
    "\n",
    "# Usage\n",
    "combined_population = concatenate_parents_and_offspring(selected_parents, mutated_offspring)\n",
    "print(\"Combined Population:\")\n",
    "print(combined_population)\n"
   ]
  },
  {
   "cell_type": "code",
   "execution_count": null,
   "id": "5a2bec6b",
   "metadata": {},
   "outputs": [],
   "source": []
  },
  {
   "cell_type": "code",
   "execution_count": null,
   "id": "f935ee5e",
   "metadata": {},
   "outputs": [],
   "source": []
  },
  {
   "cell_type": "code",
   "execution_count": null,
   "id": "5bf6f022",
   "metadata": {},
   "outputs": [],
   "source": []
  },
  {
   "cell_type": "code",
   "execution_count": null,
   "id": "1068cd5a",
   "metadata": {},
   "outputs": [],
   "source": []
  },
  {
   "cell_type": "code",
   "execution_count": null,
   "id": "1f40d1dd",
   "metadata": {},
   "outputs": [],
   "source": []
  },
  {
   "cell_type": "code",
   "execution_count": null,
   "id": "a931c990",
   "metadata": {},
   "outputs": [],
   "source": []
  },
  {
   "cell_type": "code",
   "execution_count": null,
   "id": "112f322f",
   "metadata": {},
   "outputs": [],
   "source": []
  },
  {
   "cell_type": "code",
   "execution_count": null,
   "id": "cd2957c8",
   "metadata": {},
   "outputs": [],
   "source": []
  },
  {
   "cell_type": "code",
   "execution_count": null,
   "id": "7bfe801d",
   "metadata": {},
   "outputs": [],
   "source": []
  },
  {
   "cell_type": "code",
   "execution_count": null,
   "id": "bf7c8263",
   "metadata": {},
   "outputs": [],
   "source": []
  },
  {
   "cell_type": "code",
   "execution_count": null,
   "id": "7cc7d9fa",
   "metadata": {},
   "outputs": [],
   "source": []
  },
  {
   "cell_type": "code",
   "execution_count": null,
   "id": "e10fa80e",
   "metadata": {},
   "outputs": [],
   "source": []
  },
  {
   "cell_type": "code",
   "execution_count": null,
   "id": "dddb73fd",
   "metadata": {},
   "outputs": [],
   "source": []
  },
  {
   "cell_type": "code",
   "execution_count": null,
   "id": "8969a609",
   "metadata": {},
   "outputs": [],
   "source": []
  },
  {
   "cell_type": "code",
   "execution_count": null,
   "id": "fe0b7c63",
   "metadata": {},
   "outputs": [],
   "source": []
  },
  {
   "cell_type": "code",
   "execution_count": null,
   "id": "b047cd1d",
   "metadata": {},
   "outputs": [],
   "source": []
  },
  {
   "cell_type": "code",
   "execution_count": null,
   "id": "1d3e2888",
   "metadata": {},
   "outputs": [],
   "source": []
  },
  {
   "cell_type": "code",
   "execution_count": null,
   "id": "3f8e7895",
   "metadata": {},
   "outputs": [],
   "source": [
    "# bit rate vector\n",
    "def row_wise_sums(matrix):\n",
    "    return [sum(row) for row in matrix]"
   ]
  },
  {
   "cell_type": "code",
   "execution_count": null,
   "id": "6dbaf3f6",
   "metadata": {},
   "outputs": [],
   "source": [
    "# USAGE\n",
    "print(f\"{BOLD}SUM OF BITRATES{RESET}\")\n",
    "row_sum_bitrate = row_wise_sums(bitrate)\n",
    "print(*row_sum_bitrate, sep='\\n')\n"
   ]
  },
  {
   "cell_type": "code",
   "execution_count": null,
   "id": "a9516e14",
   "metadata": {},
   "outputs": [],
   "source": [
    "#sorting linear power\n",
    "def sort_row_sums(array):\n",
    "    return np.sort(array)\n"
   ]
  },
  {
   "cell_type": "code",
   "execution_count": null,
   "id": "b974444c",
   "metadata": {},
   "outputs": [],
   "source": [
    "print(f\"{BOLD}SORTED LINEAR POWER IN INCREASING ORDER{RESET}\")\n",
    "sorted_array_linear_power = sort_row_sums(row_sums)\n",
    "print(*sorted_array_linear_power, sep='\\n')  # Output: [1 3 5 7 9]"
   ]
  },
  {
   "cell_type": "code",
   "execution_count": null,
   "id": "445b4af3",
   "metadata": {},
   "outputs": [],
   "source": [
    "# def sum_linear_powers(array):\n",
    "#     return np.sum(array, axis=1)\n"
   ]
  },
  {
   "cell_type": "code",
   "execution_count": null,
   "id": "d12b5db7",
   "metadata": {},
   "outputs": [],
   "source": [
    "# # usage\n",
    "# print(f\"{BOLD}SUM OF LINEAR POWERS BY ROW{RESET}\")\n",
    "# row_sums = sum_linear_powers(linear_pop)\n",
    "# print(*row_sums, sep='\\n')"
   ]
  },
  {
   "cell_type": "code",
   "execution_count": null,
   "id": "112aa1e1",
   "metadata": {},
   "outputs": [],
   "source": [
    "def sort_row_sums(array):\n",
    "    return np.sort(array)"
   ]
  },
  {
   "cell_type": "code",
   "execution_count": null,
   "id": "01b51217",
   "metadata": {},
   "outputs": [],
   "source": [
    "def sorted_bitrates_by_linear_power(linear_pop, SUM_GAIN, linear_noise):\n",
    "    # Calculate the bitrates\n",
    "    bitrate = calculate_formula_and_sums(linear_pop, SUM_GAIN, linear_noise)\n",
    "    \n",
    "    # Calculate the row-wise sum of the bitrates\n",
    "    row_sum_bitrate = row_wise_sums(bitrate)\n",
    "\n",
    "    # Calculate the row sums of the linear power\n",
    "    row_sums_linear_power = sum_linear_powers(linear_pop)\n",
    "\n",
    "    # Create a list of tuples (row_sum_bitrate, row_sums_linear_power)\n",
    "    combined_list = list(zip(row_sum_bitrate, row_sums_linear_power))\n",
    "\n",
    "    # Sort the list by the row_sums_linear_power\n",
    "    sorted_combined_list = sorted(combined_list, key=lambda x: x[1])\n",
    "\n",
    "    # Extract the sorted row_sum_bitrate from the sorted_combined_list\n",
    "    sorted_row_sum_bitrate = [item[0] for item in sorted_combined_list]\n",
    "\n",
    "    return sorted_row_sum_bitrate\n"
   ]
  },
  {
   "cell_type": "code",
   "execution_count": null,
   "id": "813d4822",
   "metadata": {},
   "outputs": [],
   "source": [
    "print(f\"{BOLD}CORRESPONDING BITRATES{RESET}\")\n",
    "sorted_bitrates = sorted_bitrates_by_linear_power(linear_pop, SUM_GAIN, linear_noise)\n",
    "print(*sorted_bitrates, sep='\\n')\n"
   ]
  },
  {
   "cell_type": "code",
   "execution_count": null,
   "id": "af3188fe",
   "metadata": {},
   "outputs": [],
   "source": [
    "def get_sorted_dbm(sorted_linear_power, dbm_population):\n",
    "    linear_pop = calculate_linear_trans_power(dbm_population)\n",
    "    row_sums = sum_linear_powers(linear_pop)\n",
    "    \n",
    "    sorted_dbm = []\n",
    "    for linear_power in sorted_linear_power:\n",
    "        index = np.where(np.isclose(row_sums, linear_power))[0][0]\n",
    "        sorted_dbm.append(dbm_population[index])\n",
    "    return np.array(sorted_dbm)\n",
    "\n",
    "# Usage\n",
    "sorted_dbm = get_sorted_dbm(sorted_array_linear_power, pop_size_dbm)\n",
    "\n",
    "print(f\"{BOLD}CORRESPONDING POWERS IN DB TO LINEAR POWER{RESET}\")\n",
    "print(sorted_dbm)"
   ]
  },
  {
   "cell_type": "code",
   "execution_count": null,
   "id": "e1802840",
   "metadata": {},
   "outputs": [],
   "source": [
    "# selecting the half of population\n",
    "def select_first_half(array):\n",
    "    midpoint = len(array) // 2\n",
    "    return array[:midpoint]\n"
   ]
  },
  {
   "cell_type": "code",
   "execution_count": null,
   "id": "39975946",
   "metadata": {},
   "outputs": [],
   "source": [
    "#usage1\n",
    "first_half_linear_power_increasing = select_first_half(sorted_array_linear_power)\n",
    "print(f\"{BOLD}TOP HALF OF SORTED ROW SUMS OF LINEAR POWER{RESET}\")\n",
    "print(*first_half_linear_power_increasing, sep='\\n') \n",
    " "
   ]
  },
  {
   "cell_type": "code",
   "execution_count": null,
   "id": "d08a46b4",
   "metadata": {},
   "outputs": [],
   "source": []
  },
  {
   "cell_type": "code",
   "execution_count": null,
   "id": "b7977c57",
   "metadata": {},
   "outputs": [],
   "source": [
    "\n"
   ]
  },
  {
   "cell_type": "code",
   "execution_count": null,
   "id": "c2fd33e4",
   "metadata": {},
   "outputs": [],
   "source": [
    "def upper_half_bitrates(sorted_bitrates):\n",
    "    # Calculate the index where to split the list\n",
    "    split_index = len(sorted_bitrates) // 2\n",
    "\n",
    "    # Get the upper half of the sorted bitrates\n",
    "    upper_half_bitrates = sorted_bitrates[:split_index]\n",
    "\n",
    "    return upper_half_bitrates\n"
   ]
  },
  {
   "cell_type": "code",
   "execution_count": null,
   "id": "361ba096",
   "metadata": {},
   "outputs": [],
   "source": [
    "# sorted_bitrates = sorted_bitrates_by_linear_power(linear_pop, SUM_GAIN, linear_noise)\n",
    "print(f\"{BOLD}UPPER HALF OF BITRATES CORRESPONDING TO TOP HALF OF LINEAR POWER{RESET}\")\n",
    "upper_half_bitrates = upper_half_bitrates(sorted_bitrates)\n",
    "print(*upper_half_bitrates, sep='\\n')\n"
   ]
  },
  {
   "cell_type": "code",
   "execution_count": null,
   "id": "f81b4efd",
   "metadata": {},
   "outputs": [],
   "source": [
    "\n"
   ]
  },
  {
   "cell_type": "code",
   "execution_count": null,
   "id": "b201b840",
   "metadata": {},
   "outputs": [],
   "source": []
  },
  {
   "cell_type": "code",
   "execution_count": null,
   "id": "c8ca5510",
   "metadata": {},
   "outputs": [],
   "source": [
    "def get_top_half_dbm(pop_size_dbm, row_sums, first_half_linear_power_increasing):\n",
    "    # Get the indices of the top half of the sorted row sums of linear power\n",
    "    top_half_linear_power_indices = [np.where(row_sums == value)[0][0] for value in first_half_linear_power_increasing]\n",
    "\n",
    "    # Get the power allocations in dBm corresponding to the top half of the sorted row sums of linear power\n",
    "    top_half_linear_power_dbm = pop_size_dbm[top_half_linear_power_indices]\n",
    "\n",
    "    return top_half_linear_power_dbm\n"
   ]
  },
  {
   "cell_type": "code",
   "execution_count": null,
   "id": "4881727f",
   "metadata": {},
   "outputs": [],
   "source": [
    "# Usage\n",
    "top_half_dbm = get_top_half_dbm(pop_size_dbm, row_sums, first_half_linear_power_increasing)\n",
    "print(f\"{BOLD}TOP HALF OF POWER ALLOCATIONS IN DBM CORRESPONDING TO SORTED ROW SUMS OF LINEAR POWER(INITIAL POPULATION){RESET}\")\n",
    "print(top_half_dbm)\n"
   ]
  },
  {
   "cell_type": "code",
   "execution_count": null,
   "id": "862b5377",
   "metadata": {},
   "outputs": [],
   "source": [
    "def simple_single_point_crossover(population):\n",
    "    num_offspring = len(population)\n",
    "    offspring = []\n",
    "\n",
    "    for i in range(0, num_offspring, 2):\n",
    "        # Select two parent solutions sequentially\n",
    "        parent1, parent2 = population[i], population[i + 1]\n",
    "\n",
    "        # Randomly choose a crossover point\n",
    "        crossover_point = random.randint(1, len(parent1) - 1)\n",
    "\n",
    "        # Create new offspring by swapping the genes of the parents at the crossover point\n",
    "        offspring1 = np.concatenate((parent1[:crossover_point], parent2[crossover_point:]))\n",
    "        offspring2 = np.concatenate((parent2[:crossover_point], parent1[crossover_point:]))\n",
    "\n",
    "        offspring.extend([offspring1, offspring2])\n",
    "\n",
    "    return np.array(offspring)\n",
    "\n",
    "# Usage\n",
    "offspring = simple_single_point_crossover(top_half_dbm)\n",
    "\n",
    "print(f\"{BOLD}OFFSPRING AFTER SINGLE-POINT CROSSOVER{RESET}\")\n",
    "print(offspring)\n"
   ]
  },
  {
   "cell_type": "code",
   "execution_count": null,
   "id": "f38d0d21",
   "metadata": {},
   "outputs": [],
   "source": [
    "def mutation(offspring, powers, mutation_rate=1.0):\n",
    "    mutated_offspring = offspring.copy()\n",
    "\n",
    "    for i in range(len(offspring)):\n",
    "        if random.random() < mutation_rate:\n",
    "            # Randomly select a gene index for mutation\n",
    "            gene_index = random.randint(0, len(offspring[i]) - 1)\n",
    "\n",
    "            # Choose a new power value randomly, different from the current gene value\n",
    "            new_power = random.choice([p for p in powers if p != offspring[i][gene_index]])\n",
    "\n",
    "            # Replace the gene with the new power value\n",
    "            mutated_offspring[i][gene_index] = new_power\n",
    "\n",
    "    return mutated_offspring\n",
    "\n"
   ]
  },
  {
   "cell_type": "code",
   "execution_count": null,
   "id": "3b75e0e6",
   "metadata": {},
   "outputs": [],
   "source": [
    "# Usage\n",
    "mutated_offspring = mutation(offspring, powers)\n",
    "print(f\"{BOLD}MUTATED OFFSPRING{RESET}\")\n",
    "print(mutated_offspring)"
   ]
  },
  {
   "cell_type": "code",
   "execution_count": null,
   "id": "234002d5",
   "metadata": {},
   "outputs": [],
   "source": [
    "def combine_initial_and_mutated(initial_population, mutated_offspring):\n",
    "    return np.concatenate((initial_population, mutated_offspring), axis=0)\n",
    "\n",
    "# Usage\n",
    "combined_population = combine_initial_and_mutated(top_half_dbm, mutated_offspring)\n",
    "print(f\"{BOLD}COMBINED POPULATION{RESET}\")\n",
    "print(combined_population)\n"
   ]
  },
  {
   "cell_type": "code",
   "execution_count": null,
   "id": "d998e93f",
   "metadata": {},
   "outputs": [],
   "source": []
  }
 ],
 "metadata": {
  "kernelspec": {
   "display_name": "Python 3 (ipykernel)",
   "language": "python",
   "name": "python3"
  },
  "language_info": {
   "codemirror_mode": {
    "name": "ipython",
    "version": 3
   },
   "file_extension": ".py",
   "mimetype": "text/x-python",
   "name": "python",
   "nbconvert_exporter": "python",
   "pygments_lexer": "ipython3",
   "version": "3.9.13"
  }
 },
 "nbformat": 4,
 "nbformat_minor": 5
}
