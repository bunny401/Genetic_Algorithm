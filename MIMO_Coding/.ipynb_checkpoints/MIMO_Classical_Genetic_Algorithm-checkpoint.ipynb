{
 "cells": [
  {
   "cell_type": "code",
   "execution_count": 61,
   "id": "94374937",
   "metadata": {},
   "outputs": [],
   "source": [
    "#imports\n",
    "import math\n",
    "import numpy as np\n",
    "import random\n",
    "import itertools\n",
    "from random import choices\n",
    "import cmath\n",
    "BOLD = '\\033[1m'\n",
    "RESET = '\\033[0m'\n"
   ]
  },
  {
   "cell_type": "code",
   "execution_count": 62,
   "id": "f1c5d357",
   "metadata": {},
   "outputs": [],
   "source": [
    "#constants\n",
    "GAIN_MATRIX = (\n",
    "    (3.95370716e-13, 1.40831353e-12, 1.30345221e-13, 1.58616128e-12),\n",
    "    (1.10454943e-11, 1.08797904e-13, 1.70626457e-11, 1.87910752e-13),\n",
    "    (5.35349571e-12, 1.75915771e-12, 1.10933550e-11, 2.15002508e-12),\n",
    "    (9.57092193e-12, 1.14512900e-11, 7.62246884e-13, 1.58625393e-11)\n",
    ")\n",
    "\n",
    "SUM_GAIN = (\n",
    "    2.63652827e-11, 1.47275591e-11, 2.90485928e-11, 1.97866364e-11\n",
    ")\n",
    "\n",
    "D=10**6  #bandwidth\n",
    "N=-174 + 10 * math.log10(D) #noise in dbm"
   ]
  },
  {
   "cell_type": "code",
   "execution_count": 63,
   "id": "4f356e53",
   "metadata": {},
   "outputs": [],
   "source": [
    "#generating population in dbm\n",
    "def generate_random_solutions(powers, no_of_users, num_random_solutions):\n",
    "    return np.random.choice(powers, size=(num_random_solutions, no_of_users))\n"
   ]
  },
  {
   "cell_type": "code",
   "execution_count": 64,
   "id": "6acb75cc",
   "metadata": {},
   "outputs": [
    {
     "name": "stdout",
     "output_type": "stream",
     "text": [
      "\u001b[1mPOWERS IN DBM\u001b[0m\n",
      "[[4 4 0 2]\n",
      " [2 2 0 2]\n",
      " [4 2 2 2]\n",
      " [2 4 4 0]\n",
      " [0 0 4 2]\n",
      " [0 0 4 2]\n",
      " [0 2 2 0]\n",
      " [4 2 0 0]]\n"
     ]
    }
   ],
   "source": [
    "#usage\n",
    "powers = [0,2,4]\n",
    "no_of_users = 4\n",
    "num_random_solutions = 8\n",
    "print(f\"{BOLD}POWERS IN DBM{RESET}\")\n",
    "pop_size_dbm = generate_random_solutions(powers, no_of_users, num_random_solutions)\n",
    "print(pop_size_dbm)"
   ]
  },
  {
   "cell_type": "code",
   "execution_count": 35,
   "id": "480c449d",
   "metadata": {},
   "outputs": [
    {
     "data": {
      "text/plain": [
       "64"
      ]
     },
     "execution_count": 35,
     "metadata": {},
     "output_type": "execute_result"
    }
   ],
   "source": [
    "4*4*4"
   ]
  },
  {
   "cell_type": "code",
   "execution_count": 36,
   "id": "24ad9c60",
   "metadata": {},
   "outputs": [],
   "source": [
    "# converting population to linear watt\n",
    "def calculate_linear_trans_power(pop_size_dbm):\n",
    "    result=(pow(10, -3) * np.power(10.0, np.array(pop_size_dbm, dtype=\"float\") / 10))\n",
    "    return result\n"
   ]
  },
  {
   "cell_type": "code",
   "execution_count": 65,
   "id": "d4b13abc",
   "metadata": {},
   "outputs": [
    {
     "name": "stdout",
     "output_type": "stream",
     "text": [
      "\u001b[1mPOWERS IN LINEAR\u001b[0m\n",
      "[[0.00251189 0.00251189 0.001      0.00158489]\n",
      " [0.00158489 0.00158489 0.001      0.00158489]\n",
      " [0.00251189 0.00158489 0.00158489 0.00158489]\n",
      " [0.00158489 0.00251189 0.00251189 0.001     ]\n",
      " [0.001      0.001      0.00251189 0.00158489]\n",
      " [0.001      0.001      0.00251189 0.00158489]\n",
      " [0.001      0.00158489 0.00158489 0.001     ]\n",
      " [0.00251189 0.00158489 0.001      0.001     ]]\n"
     ]
    }
   ],
   "source": [
    "#usage\n",
    "print(f\"{BOLD}POWERS IN LINEAR{RESET}\")\n",
    "linear_pop=calculate_linear_trans_power(pop_size_dbm)\n",
    "print(linear_pop)"
   ]
  },
  {
   "cell_type": "code",
   "execution_count": 51,
   "id": "682c0116",
   "metadata": {},
   "outputs": [
    {
     "data": {
      "text/plain": [
       "array([0.00912055, 0.00458489, 0.00633957, 0.00668167, 0.00702377,\n",
       "       0.00702377, 0.00516979, 0.01004755])"
      ]
     },
     "execution_count": 51,
     "metadata": {},
     "output_type": "execute_result"
    }
   ],
   "source": [
    "sum(linear_pop.transpose())"
   ]
  },
  {
   "cell_type": "code",
   "execution_count": 38,
   "id": "bf304146",
   "metadata": {},
   "outputs": [
    {
     "name": "stdout",
     "output_type": "stream",
     "text": [
      "Linear noise: [3.98107171e-15]\n"
     ]
    }
   ],
   "source": [
    "#usage for converting the noise to linear\n",
    "linear_noise = calculate_linear_trans_power([N])\n",
    "print(\"Linear noise:\", linear_noise)"
   ]
  },
  {
   "cell_type": "code",
   "execution_count": 39,
   "id": "2bfb6b29",
   "metadata": {},
   "outputs": [],
   "source": [
    "def calculate_formula_and_sums(linear_pop, SUM_GAIN, linear_noise):\n",
    "    a = np.array(linear_pop)\n",
    "    b = np.array(SUM_GAIN)\n",
    "    bit_rate_matrix = (D * np.log2(1 + ((a * b) / linear_noise)))\n",
    "    return bit_rate_matrix"
   ]
  },
  {
   "cell_type": "code",
   "execution_count": 66,
   "id": "64151a4d",
   "metadata": {},
   "outputs": [
    {
     "name": "stdout",
     "output_type": "stream",
     "text": [
      "\u001b[1mBITRATES\u001b[0m\n",
      "[[4140399.83799027 3363516.1582802  3052533.55366803 3150104.99872635]\n",
      " [3523086.17671602 2778870.2310227  3052533.55366803 3150104.99872635]\n",
      " [4140399.83799027 2778870.2310227  3651275.96911754 3150104.99872635]\n",
      " [3523086.17671602 3363516.1582802  4272652.02625749 2577774.03041514]\n",
      " [2930294.44975843 2232475.21650449 4272652.02625749 3150104.99872635]\n",
      " [2930294.44975843 2232475.21650449 4272652.02625749 3150104.99872635]\n",
      " [2930294.44975843 2778870.2310227  3651275.96911754 2577774.03041514]\n",
      " [4140399.83799027 2778870.2310227  3052533.55366803 2577774.03041514]]\n"
     ]
    }
   ],
   "source": [
    "#Usage for calculating the bitrates through big formula\n",
    "print(f\"{BOLD}BITRATES{RESET}\")\n",
    "bitrate=calculate_formula_and_sums(linear_pop, SUM_GAIN, linear_noise)\n",
    "print(bitrate)\n"
   ]
  },
  {
   "cell_type": "code",
   "execution_count": 41,
   "id": "b272c85d",
   "metadata": {},
   "outputs": [],
   "source": [
    "def row_wise_sums(matrix):\n",
    "    return [sum(row) for row in matrix]"
   ]
  },
  {
   "cell_type": "code",
   "execution_count": 67,
   "id": "ed58a4bb",
   "metadata": {},
   "outputs": [
    {
     "name": "stdout",
     "output_type": "stream",
     "text": [
      "\u001b[1mSUM OF BITRATES\u001b[0m\n",
      "ROW SUMS OF BITRATE:\n",
      "13706554.54866485\n",
      "12504594.960133096\n",
      "13720651.036856854\n",
      "13737028.391668852\n",
      "12585526.691246761\n",
      "12585526.691246761\n",
      "11938214.680313796\n",
      "12549577.653096128\n"
     ]
    }
   ],
   "source": [
    "# USAGE\n",
    "print(f\"{BOLD}SUM OF BITRATES{RESET}\")\n",
    "row_sum_bitrate = row_wise_sums(bitrate)\n",
    "print(*row_sum_bitrate, sep='\\n')\n"
   ]
  },
  {
   "cell_type": "code",
   "execution_count": 43,
   "id": "8803bfa5",
   "metadata": {},
   "outputs": [],
   "source": [
    "def get_sorted_row_sums(matrix):\n",
    "    # Calculate the sum of each row and store it as a tuple (row_sum, row)\n",
    "    row_sums = [(sum(row), row) for row in matrix]\n",
    "\n",
    "    # Sort the row sums in increasing order\n",
    "    sorted_row_sums = sorted(row_sums, key=lambda x: x[0])\n",
    "\n",
    "    # Return the sorted row sums\n",
    "    return [row_sum for row_sum, _ in sorted_row_sums]"
   ]
  },
  {
   "cell_type": "code",
   "execution_count": 44,
   "id": "28fe86f6",
   "metadata": {},
   "outputs": [
    {
     "name": "stdout",
     "output_type": "stream",
     "text": [
      "Row sums in increasing order:\n",
      "11339472.264864285\n",
      "11964150.634106811\n",
      "13089240.887390604\n",
      "13103337.375582607\n",
      "13178641.25161587\n",
      "13188654.335973494\n",
      "14926673.021254312\n",
      "15529800.665981045\n"
     ]
    }
   ],
   "source": [
    "# usage\n",
    "sorted_row_sums = get_sorted_row_sums(bitrate)\n",
    "print(\"Row sums in increasing order:\")\n",
    "print(*sorted_row_sums, sep='\\n')"
   ]
  },
  {
   "cell_type": "code",
   "execution_count": 45,
   "id": "5aa6bdd9",
   "metadata": {},
   "outputs": [
    {
     "name": "stdout",
     "output_type": "stream",
     "text": [
      "11339472.264864285\n"
     ]
    }
   ],
   "source": [
    "target_bitrate = sorted_row_sums[0]\n",
    "print(target_bitrate)\n"
   ]
  },
  {
   "cell_type": "code",
   "execution_count": 46,
   "id": "96090aa2",
   "metadata": {},
   "outputs": [],
   "source": [
    "def select_half_of_sorted_sums(sorted_row_sums):\n",
    "    half_length = len(sorted_row_sums) // 2\n",
    "    return sorted_row_sums[:half_length]\n",
    "\n"
   ]
  },
  {
   "cell_type": "code",
   "execution_count": 47,
   "id": "c8ca5510",
   "metadata": {},
   "outputs": [
    {
     "name": "stdout",
     "output_type": "stream",
     "text": [
      "Half of the sorted row sums:\n",
      "11339472.264864285\n",
      "11964150.634106811\n",
      "13089240.887390604\n",
      "13103337.375582607\n"
     ]
    }
   ],
   "source": [
    "# usage\n",
    "half_sorted_row_sums = select_half_of_sorted_sums(sorted_row_sums)\n",
    "\n",
    "print(\"Half of the sorted row sums:\")\n",
    "for row_sum in half_sorted_row_sums:\n",
    "    print(row_sum)"
   ]
  },
  {
   "cell_type": "code",
   "execution_count": 48,
   "id": "6b342d13",
   "metadata": {},
   "outputs": [],
   "source": [
    "def get_initial_population(bitrate, pop_size_dbm, sorted_row_sums):\n",
    "    half_sorted_row_sums = select_half_of_sorted_sums(sorted_row_sums)\n",
    "\n",
    "    initial_population = []\n",
    "    for sorted_sum in half_sorted_row_sums:\n",
    "        index = row_wise_sums(bitrate).index(sorted_sum)\n",
    "        initial_population.append(pop_size_dbm[index])\n",
    "\n",
    "    return initial_population\n",
    "\n"
   ]
  },
  {
   "cell_type": "code",
   "execution_count": 49,
   "id": "adc182c9",
   "metadata": {},
   "outputs": [
    {
     "name": "stdout",
     "output_type": "stream",
     "text": [
      "Initial population:\n",
      "[0 2 0 0]\n",
      "[0 0 2 2]\n",
      "[2 4 0 2]\n",
      "[2 2 2 2]\n"
     ]
    }
   ],
   "source": [
    "# Call the function and get the initial population\n",
    "initial_population = get_initial_population(bitrate, pop_size_dbm, sorted_row_sums)\n",
    "\n",
    "# Print the initial population\n",
    "print(\"Initial population:\")\n",
    "for solution in initial_population:\n",
    "    print(solution)"
   ]
  },
  {
   "cell_type": "code",
   "execution_count": 52,
   "id": "a71bbbb0",
   "metadata": {},
   "outputs": [],
   "source": [
    "def single_point_crossover(parent1, parent2):\n",
    "    # Perform single-point crossover\n",
    "    crossover_point = random.randint(1, len(parent1) - 1)\n",
    "    child1 = np.hstack((parent1[:crossover_point], parent2[crossover_point:]))\n",
    "    child2 = np.hstack((parent2[:crossover_point], parent1[crossover_point:]))\n",
    "    \n",
    "    return child1, child2\n",
    "\n"
   ]
  },
  {
   "cell_type": "code",
   "execution_count": 53,
   "id": "1f4d4b08",
   "metadata": {},
   "outputs": [],
   "source": [
    "def perform_single_point_crossover(initial_population):\n",
    "    offspring = []\n",
    "    for i in range(0, len(initial_population), 2):\n",
    "        parent1 = initial_population[i]\n",
    "        parent2 = initial_population[i + 1]\n",
    "\n",
    "        child1, child2 = single_point_crossover(parent1, parent2)\n",
    "\n",
    "        offspring.append(child1)\n",
    "        offspring.append(child2)\n",
    "\n",
    "    return offspring"
   ]
  },
  {
   "cell_type": "code",
   "execution_count": 54,
   "id": "5f032c3e",
   "metadata": {
    "scrolled": true
   },
   "outputs": [
    {
     "name": "stdout",
     "output_type": "stream",
     "text": [
      "Offspring after single-point crossover:\n",
      "[0 0 2 2]\n",
      "[0 2 0 0]\n",
      "[2 4 0 2]\n",
      "[2 2 2 2]\n"
     ]
    }
   ],
   "source": [
    "# usage\n",
    "# Call the perform_single_point_crossover function and print the offspring\n",
    "offspring = perform_single_point_crossover(initial_population)\n",
    "\n",
    "print(\"Offspring after single-point crossover:\")\n",
    "for child in offspring:\n",
    "    print(child)\n"
   ]
  },
  {
   "cell_type": "code",
   "execution_count": 55,
   "id": "de22b287",
   "metadata": {},
   "outputs": [],
   "source": [
    "def mutate_one_gene_per_individual(population, powers):\n",
    "    mutated_population = np.copy(population)\n",
    "\n",
    "    for i, individual in enumerate(mutated_population):\n",
    "        # Choose a random gene within the individual\n",
    "        gene_index = random.randint(0, len(individual) - 1)\n",
    "\n",
    "        # Store the original power level of the chosen gene\n",
    "        original_power = individual[gene_index]\n",
    "\n",
    "        # Mutate the chosen gene with a random power level from the powers list\n",
    "        individual[gene_index] = random.choice(powers)\n",
    "\n",
    "        # Print the mutation information\n",
    "#         print(f\"Offspring {i + 1}: Gene {gene_index + 1} was mutated from {original_power} to {individual[gene_index]}\")\n",
    "\n",
    "    return mutated_population\n"
   ]
  },
  {
   "cell_type": "code",
   "execution_count": 56,
   "id": "89530d51",
   "metadata": {},
   "outputs": [
    {
     "name": "stdout",
     "output_type": "stream",
     "text": [
      "\n",
      "Mutated offspring:\n",
      "[2 0 2 2]\n",
      "[0 2 2 0]\n",
      "[2 4 2 2]\n",
      "[2 2 2 4]\n",
      "<class 'numpy.ndarray'>\n"
     ]
    }
   ],
   "source": [
    "# usage\n",
    "mutated_offspring = mutate_one_gene_per_individual(offspring, powers)\n",
    "\n",
    "print(\"\\nMutated offspring:\")\n",
    "for child in mutated_offspring:\n",
    "    print(child)\n",
    "    \n",
    "print(type(mutated_offspring))\n"
   ]
  },
  {
   "cell_type": "code",
   "execution_count": 59,
   "id": "42e96d7d",
   "metadata": {},
   "outputs": [],
   "source": [
    "def print_stacked_arrays(array_list1, array_list2):\n",
    "    stacked_array = np.vstack((array_list1, array_list2))\n",
    "    for row in stacked_array:\n",
    "        print(row)\n"
   ]
  },
  {
   "cell_type": "code",
   "execution_count": 58,
   "id": "d458c272",
   "metadata": {},
   "outputs": [
    {
     "name": "stdout",
     "output_type": "stream",
     "text": [
      "[0 2 0 0]\n",
      "[0 0 2 2]\n",
      "[2 4 0 2]\n",
      "[2 2 2 2]\n",
      "[2 0 2 2]\n",
      "[0 2 2 0]\n",
      "[2 4 2 2]\n",
      "[2 2 2 4]\n"
     ]
    }
   ],
   "source": [
    "#usage\n",
    "print_stacked_arrays(initial_population, mutated_offspring)"
   ]
  },
  {
   "cell_type": "code",
   "execution_count": null,
   "id": "d998e93f",
   "metadata": {},
   "outputs": [],
   "source": []
  }
 ],
 "metadata": {
  "kernelspec": {
   "display_name": "Python 3 (ipykernel)",
   "language": "python",
   "name": "python3"
  },
  "language_info": {
   "codemirror_mode": {
    "name": "ipython",
    "version": 3
   },
   "file_extension": ".py",
   "mimetype": "text/x-python",
   "name": "python",
   "nbconvert_exporter": "python",
   "pygments_lexer": "ipython3",
   "version": "3.9.13"
  }
 },
 "nbformat": 4,
 "nbformat_minor": 5
}
