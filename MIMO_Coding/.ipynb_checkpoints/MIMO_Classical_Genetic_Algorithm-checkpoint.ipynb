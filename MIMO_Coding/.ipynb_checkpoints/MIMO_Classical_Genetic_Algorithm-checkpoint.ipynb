{
 "cells": [
  {
   "cell_type": "code",
   "execution_count": 356,
   "id": "94374937",
   "metadata": {},
   "outputs": [],
   "source": [
    "#imports\n",
    "import math\n",
    "import numpy as np\n",
    "import random\n",
    "import itertools\n",
    "from random import choices\n",
    "import cmath\n",
    "BOLD = '\\033[1m'\n",
    "RESET = '\\033[0m'\n",
    "\n",
    "\n",
    "\n"
   ]
  },
  {
   "cell_type": "code",
   "execution_count": 357,
   "id": "f1c5d357",
   "metadata": {},
   "outputs": [],
   "source": [
    "#constants\n",
    "GAIN_MATRIX = (\n",
    "    (3.95370716e-13, 1.40831353e-12, 1.30345221e-13, 1.58616128e-12),\n",
    "    (1.10454943e-11, 1.08797904e-13, 1.70626457e-11, 1.87910752e-13),\n",
    "    (5.35349571e-12, 1.75915771e-12, 1.10933550e-11, 2.15002508e-12),\n",
    "    (9.57092193e-12, 1.14512900e-11, 7.62246884e-13, 1.58625393e-11)\n",
    ")\n",
    "\n",
    "SUM_GAIN = (\n",
    "    2.63652827e-11, 1.47275591e-11, 2.90485928e-11, 1.97866364e-11\n",
    ")\n",
    "\n",
    "D=10**6  #bandwidth\n",
    "N=-174 + 10 * math.log10(D) #noise in dbm"
   ]
  },
  {
   "cell_type": "code",
   "execution_count": 358,
   "id": "4f356e53",
   "metadata": {},
   "outputs": [],
   "source": [
    "#generating population in dbm\n",
    "def generate_random_solutions(powers, no_of_users, num_random_solutions):\n",
    "    return np.random.choice(powers, size=(num_random_solutions, no_of_users))\n"
   ]
  },
  {
   "cell_type": "code",
   "execution_count": 359,
   "id": "6acb75cc",
   "metadata": {},
   "outputs": [
    {
     "name": "stdout",
     "output_type": "stream",
     "text": [
      "\u001b[1mPOWERS IN DBM\u001b[0m\n",
      "[[4 2 2 4]\n",
      " [0 4 2 4]\n",
      " [0 0 2 0]\n",
      " [4 4 2 2]\n",
      " [4 4 2 4]\n",
      " [4 2 0 0]\n",
      " [4 0 2 0]\n",
      " [2 4 2 2]\n",
      " [0 4 2 0]\n",
      " [0 0 0 2]\n",
      " [0 0 0 4]\n",
      " [4 4 0 4]\n",
      " [4 4 2 0]\n",
      " [2 0 4 0]\n",
      " [2 4 0 4]\n",
      " [4 4 2 4]\n",
      " [2 2 0 2]\n",
      " [0 4 4 4]\n",
      " [2 0 2 4]\n",
      " [0 4 4 4]]\n",
      "<class 'numpy.ndarray'>\n"
     ]
    }
   ],
   "source": [
    "#usage\n",
    "powers = [0,2,4]\n",
    "num_antennas_BS   = 4\n",
    "pop_size = 20\n",
    "print(f\"{BOLD}POWERS IN DBM{RESET}\")\n",
    "population = generate_random_solutions(powers, num_antennas_BS, pop_size)\n",
    "print(population)\n",
    "print(type(pop_size_dbm))"
   ]
  },
  {
   "cell_type": "code",
   "execution_count": 360,
   "id": "24ad9c60",
   "metadata": {},
   "outputs": [],
   "source": [
    "# converting population to linear watt\n",
    "def calculate_linear_trans_power(pop_size_dbm):\n",
    "    result=(pow(10, -3) * np.power(10.0, np.array(pop_size_dbm, dtype=\"float\") / 10))\n",
    "    return result\n"
   ]
  },
  {
   "cell_type": "code",
   "execution_count": 361,
   "id": "d4b13abc",
   "metadata": {},
   "outputs": [
    {
     "name": "stdout",
     "output_type": "stream",
     "text": [
      "\u001b[1mPOWERS IN LINEAR\u001b[0m\n",
      "[[0.00251189 0.00158489 0.00158489 0.00251189]\n",
      " [0.001      0.00251189 0.00158489 0.00251189]\n",
      " [0.001      0.001      0.00158489 0.001     ]\n",
      " [0.00251189 0.00251189 0.00158489 0.00158489]\n",
      " [0.00251189 0.00251189 0.00158489 0.00251189]\n",
      " [0.00251189 0.00158489 0.001      0.001     ]\n",
      " [0.00251189 0.001      0.00158489 0.001     ]\n",
      " [0.00158489 0.00251189 0.00158489 0.00158489]\n",
      " [0.001      0.00251189 0.00158489 0.001     ]\n",
      " [0.001      0.001      0.001      0.00158489]\n",
      " [0.001      0.001      0.001      0.00251189]\n",
      " [0.00251189 0.00251189 0.001      0.00251189]\n",
      " [0.00251189 0.00251189 0.00158489 0.001     ]\n",
      " [0.00158489 0.001      0.00251189 0.001     ]\n",
      " [0.00158489 0.00251189 0.001      0.00251189]\n",
      " [0.00251189 0.00251189 0.00158489 0.00251189]\n",
      " [0.00158489 0.00158489 0.001      0.00158489]\n",
      " [0.001      0.00251189 0.00251189 0.00251189]\n",
      " [0.00158489 0.001      0.00158489 0.00251189]\n",
      " [0.001      0.00251189 0.00251189 0.00251189]]\n"
     ]
    }
   ],
   "source": [
    "#usage\n",
    "print(f\"{BOLD}POWERS IN LINEAR{RESET}\")\n",
    "linear_pop=calculate_linear_trans_power(population)\n",
    "print(linear_pop)"
   ]
  },
  {
   "cell_type": "code",
   "execution_count": 362,
   "id": "d895fc66",
   "metadata": {},
   "outputs": [],
   "source": [
    "# fitness function  ==== linear_power_vect\n",
    "def sum_linear_powers(array):\n",
    "    return np.sum(array, axis=1)"
   ]
  },
  {
   "cell_type": "code",
   "execution_count": 363,
   "id": "d690b4ff",
   "metadata": {},
   "outputs": [
    {
     "name": "stdout",
     "output_type": "stream",
     "text": [
      "\u001b[1mSUM OF LINEAR POWERS\u001b[0m\n",
      "0.008193559247941387\n",
      "0.007608666055480274\n",
      "0.0045848931924611135\n",
      "0.008193559247941387\n",
      "0.009120552486989855\n",
      "0.006096779623970694\n",
      "0.006096779623970694\n",
      "0.007266566008892921\n",
      "0.006096779623970694\n",
      "0.0045848931924611135\n",
      "0.00551188643150958\n",
      "0.008535659294528741\n",
      "0.007608666055480274\n",
      "0.006096779623970694\n",
      "0.007608666055480274\n",
      "0.009120552486989855\n",
      "0.005754679577383341\n",
      "0.008535659294528741\n",
      "0.006681672816431807\n",
      "0.008535659294528741\n"
     ]
    }
   ],
   "source": [
    "# usage\n",
    "print(f\"{BOLD}SUM OF LINEAR POWERS{RESET}\")\n",
    "Lin_vector = sum_linear_powers(linear_pop)\n",
    "print(*Lin_vector, sep='\\n')"
   ]
  },
  {
   "cell_type": "code",
   "execution_count": 364,
   "id": "97f8b478",
   "metadata": {},
   "outputs": [
    {
     "name": "stdout",
     "output_type": "stream",
     "text": [
      "Linear noise: [3.98107171e-15]\n"
     ]
    }
   ],
   "source": [
    "#usage for converting the noise to linear\n",
    "linear_noise = calculate_linear_trans_power([N])\n",
    "print(\"Linear noise:\", linear_noise)"
   ]
  },
  {
   "cell_type": "code",
   "execution_count": 365,
   "id": "cda44817",
   "metadata": {},
   "outputs": [],
   "source": [
    "#calculate the bit rate matrix\n",
    "def calculate_formula_and_sums(linear_pop, SUM_GAIN, linear_noise):\n",
    "    a = np.array(linear_pop)\n",
    "    b = np.array(SUM_GAIN)\n",
    "    bit_rate_matrix = (D * np.log2(1 + ((a * b) / linear_noise)))\n",
    "    return bit_rate_matrix"
   ]
  },
  {
   "cell_type": "code",
   "execution_count": 366,
   "id": "5fe262ed",
   "metadata": {},
   "outputs": [
    {
     "name": "stdout",
     "output_type": "stream",
     "text": [
      "\u001b[1mBITRATES(formula)\u001b[0m\n",
      "[[4140399.83799027 2778870.2310227  3651275.96911754 3753232.64345308]\n",
      " [2930294.44975843 3363516.1582802  3651275.96911754 3753232.64345308]\n",
      " [2930294.44975843 2232475.21650449 3651275.96911754 2577774.03041514]\n",
      " [4140399.83799027 3363516.1582802  3651275.96911754 3150104.99872635]\n",
      " [4140399.83799027 3363516.1582802  3651275.96911754 3753232.64345308]\n",
      " [4140399.83799027 2778870.2310227  3052533.55366803 2577774.03041514]\n",
      " [4140399.83799027 2232475.21650449 3651275.96911754 2577774.03041514]\n",
      " [3523086.17671602 3363516.1582802  3651275.96911754 3150104.99872635]\n",
      " [2930294.44975843 3363516.1582802  3651275.96911754 2577774.03041514]\n",
      " [2930294.44975843 2232475.21650449 3052533.55366803 3150104.99872635]\n",
      " [2930294.44975843 2232475.21650449 3052533.55366803 3753232.64345308]\n",
      " [4140399.83799027 3363516.1582802  3052533.55366803 3753232.64345308]\n",
      " [4140399.83799027 3363516.1582802  3651275.96911754 2577774.03041514]\n",
      " [3523086.17671602 2232475.21650449 4272652.02625749 2577774.03041514]\n",
      " [3523086.17671602 3363516.1582802  3052533.55366803 3753232.64345308]\n",
      " [4140399.83799027 3363516.1582802  3651275.96911754 3753232.64345308]\n",
      " [3523086.17671602 2778870.2310227  3052533.55366803 3150104.99872635]\n",
      " [2930294.44975843 3363516.1582802  4272652.02625749 3753232.64345308]\n",
      " [3523086.17671602 2232475.21650449 3651275.96911754 3753232.64345308]\n",
      " [2930294.44975843 3363516.1582802  4272652.02625749 3753232.64345308]]\n"
     ]
    }
   ],
   "source": [
    "#Usage \n",
    "print(f\"{BOLD}BITRATES(formula){RESET}\")\n",
    "bitrate=calculate_formula_and_sums(linear_pop, SUM_GAIN, linear_noise)\n",
    "print(bitrate)"
   ]
  },
  {
   "cell_type": "code",
   "execution_count": 367,
   "id": "c5d41861",
   "metadata": {},
   "outputs": [
    {
     "name": "stdout",
     "output_type": "stream",
     "text": [
      "\u001b[1mSUM OF BITRATES\u001b[0m\n",
      "14323778.681583587\n",
      "13698319.220609253\n",
      "11391819.665795594\n",
      "14305296.96411436\n",
      "14908424.608841093\n",
      "12549577.653096128\n",
      "12601925.054027434\n",
      "13687983.302840116\n",
      "12522860.607571304\n",
      "11365408.218657298\n",
      "11968535.86338403\n",
      "14309682.193391582\n",
      "13732965.995803144\n",
      "12605987.449893143\n",
      "13692368.532117337\n",
      "14908424.608841093\n",
      "12504594.960133096\n",
      "14319695.277749203\n",
      "13160070.005791139\n",
      "14319695.277749203\n"
     ]
    }
   ],
   "source": [
    "# USAGE\n",
    "print(f\"{BOLD}SUM OF BITRATES{RESET}\")\n",
    "row_sum_bitrate = summing(bitrate)\n",
    "print(*row_sum_bitrate, sep='\\n')\n"
   ]
  },
  {
   "cell_type": "code",
   "execution_count": 368,
   "id": "61c4206d",
   "metadata": {},
   "outputs": [],
   "source": [
    "def selection_half_population(size_pop, pop_size_dbm, row_sums):\n",
    "    L = size_pop // 2\n",
    "    \n",
    "    # Combine the population and their corresponding row sums\n",
    "    help_fun = np.column_stack((pop_size_dbm, row_sums))\n",
    "\n",
    "    # Sort the combined array in ascending order of row sums\n",
    "    sorted_help_fun = help_fun[np.argsort(help_fun[:, -1])]\n",
    "    \n",
    "    # Select the top half of the population\n",
    "    parent = sorted_help_fun[:L, :-1]\n",
    "    parent_EE = sorted_help_fun[:L, -1]\n",
    "    \n",
    "    # Combine the selected parents and their corresponding row sums\n",
    "    selected_parents = [[list(parent_row), parent_EE_value] for parent_row, parent_EE_value in zip(parent, parent_EE)]\n",
    "    \n",
    "    return selected_parents\n"
   ]
  },
  {
   "cell_type": "code",
   "execution_count": 369,
   "id": "cb9a7c67",
   "metadata": {},
   "outputs": [
    {
     "name": "stdout",
     "output_type": "stream",
     "text": [
      "Selected Parents:\n",
      "[[0.0, 0.0, 0.0, 2.0], 0.0045848931924611135]\n",
      "[[0.0, 0.0, 2.0, 0.0], 0.0045848931924611135]\n",
      "[[0.0, 0.0, 0.0, 4.0], 0.00551188643150958]\n",
      "[[2.0, 2.0, 0.0, 2.0], 0.005754679577383341]\n",
      "[[4.0, 2.0, 0.0, 0.0], 0.006096779623970694]\n",
      "[[4.0, 0.0, 2.0, 0.0], 0.006096779623970694]\n",
      "[[0.0, 4.0, 2.0, 0.0], 0.006096779623970694]\n",
      "[[2.0, 0.0, 4.0, 0.0], 0.006096779623970694]\n",
      "[[2.0, 0.0, 2.0, 4.0], 0.006681672816431807]\n",
      "[[2.0, 4.0, 2.0, 2.0], 0.007266566008892921]\n"
     ]
    }
   ],
   "source": [
    "# Use the selection_half_population function\n",
    "selected_parents = selection_half_population(pop_size, population, Lin_vector)\n",
    "\n",
    "# Print the output\n",
    "print(\"Selected Parents:\")\n",
    "print(*selected_parents, sep='\\n')\n"
   ]
  },
  {
   "cell_type": "code",
   "execution_count": 370,
   "id": "92990366",
   "metadata": {},
   "outputs": [],
   "source": [
    "def extract_powers_in_dbm(selected_parents):\n",
    "    powers = [list(parent[0]) for parent in selected_parents]\n",
    "    return powers"
   ]
  },
  {
   "cell_type": "code",
   "execution_count": 371,
   "id": "39c92999",
   "metadata": {},
   "outputs": [
    {
     "name": "stdout",
     "output_type": "stream",
     "text": [
      "[0.0, 0.0, 0.0, 2.0]\n",
      "[0.0, 0.0, 2.0, 0.0]\n",
      "[0.0, 0.0, 0.0, 4.0]\n",
      "[2.0, 2.0, 0.0, 2.0]\n",
      "[4.0, 2.0, 0.0, 0.0]\n",
      "[4.0, 0.0, 2.0, 0.0]\n",
      "[0.0, 4.0, 2.0, 0.0]\n",
      "[2.0, 0.0, 4.0, 0.0]\n",
      "[2.0, 0.0, 2.0, 4.0]\n",
      "[2.0, 4.0, 2.0, 2.0]\n"
     ]
    }
   ],
   "source": [
    "only_dbm=extract_powers_in_dbm(selected_parents)\n",
    "print(*only_dbm, sep='\\n')"
   ]
  },
  {
   "cell_type": "code",
   "execution_count": 372,
   "id": "f229e3cf",
   "metadata": {},
   "outputs": [
    {
     "name": "stdout",
     "output_type": "stream",
     "text": [
      "Corresponding  Bitrate (Exact Order):\n",
      "11365408.218657298\n",
      "11391819.665795594\n",
      "11968535.86338403\n",
      "12504594.960133096\n",
      "12549577.653096128\n",
      "12601925.054027434\n",
      "12522860.607571304\n",
      "12605987.449893143\n",
      "13160070.005791139\n",
      "13687983.302840116\n"
     ]
    }
   ],
   "source": [
    "def corresponding_row_sum_bitrate_v2(selected_parents, pop_size_dbm, row_sum_bitrate):\n",
    "    parent_indices = [pop_size_dbm.tolist().index(parent[0]) for parent in selected_parents]\n",
    "    corresponding_row_sum_bitrate_values = [row_sum_bitrate[index] for index in parent_indices]\n",
    "    \n",
    "    return corresponding_row_sum_bitrate_values\n",
    "\n",
    "# Usage\n",
    "corresponding_bitrate_values_v2 = corresponding_row_sum_bitrate_v2(selected_parents, population, row_sum_bitrate)\n",
    "print(\"Corresponding  Bitrate (Exact Order):\")\n",
    "print(*corresponding_bitrate_values_v2, sep='\\n')\n"
   ]
  },
  {
   "cell_type": "code",
   "execution_count": 373,
   "id": "5ec8c5cd",
   "metadata": {},
   "outputs": [
    {
     "name": "stdout",
     "output_type": "stream",
     "text": [
      "Crossover Offspring:\n",
      "[0.0, 0.0, 2.0, 0.0]\n",
      "[0.0, 0.0, 0.0, 2.0]\n",
      "[0.0, 0.0, 0.0, 2.0]\n",
      "[2.0, 2.0, 0.0, 4.0]\n",
      "[4.0, 2.0, 2.0, 0.0]\n",
      "[4.0, 0.0, 0.0, 0.0]\n",
      "[0.0, 0.0, 4.0, 0.0]\n",
      "[2.0, 4.0, 2.0, 0.0]\n",
      "[2.0, 0.0, 2.0, 2.0]\n",
      "[2.0, 4.0, 2.0, 4.0]\n",
      "<class 'list'>\n"
     ]
    }
   ],
   "source": [
    "def one_point_crossover_first_second(parents):\n",
    "    offspring = []\n",
    "    \n",
    "    # Perform crossover between the first two parents\n",
    "    parent1 = parents[0][0]\n",
    "    parent2 = parents[1][0]\n",
    "    crossover_point = random.randint(1, len(parent1) - 1)\n",
    "    offspring1 = parent1[:crossover_point] + parent2[crossover_point:]\n",
    "    offspring2 = parent2[:crossover_point] + parent1[crossover_point:]\n",
    "    offspring.append(offspring1)\n",
    "    offspring.append(offspring2)\n",
    "\n",
    "    # Perform crossover between the second two parents\n",
    "    parent3 = parents[2][0]\n",
    "    parent4 = parents[3][0]\n",
    "    crossover_point = random.randint(1, len(parent3) - 1)\n",
    "    offspring3 = parent3[:crossover_point] + parent4[crossover_point:]\n",
    "    offspring4 = parent4[:crossover_point] + parent3[crossover_point:]\n",
    "    offspring.append(offspring3)\n",
    "    offspring.append(offspring4)\n",
    "    \n",
    "    \n",
    "    parent5 = parents[4][0]\n",
    "    parent6 = parents[5][0]\n",
    "    crossover_point = random.randint(1, len(parent5) - 1)\n",
    "    offspring5 = parent5[:crossover_point] + parent6[crossover_point:]\n",
    "    offspring6 = parent6[:crossover_point] + parent5[crossover_point:]\n",
    "    offspring.append(offspring5)\n",
    "    offspring.append(offspring6)\n",
    "    \n",
    "    parent7 = parents[6][0]\n",
    "    parent8 = parents[7][0]\n",
    "    crossover_point = random.randint(1, len(parent7) - 1)\n",
    "    offspring7 = parent7[:crossover_point] + parent8[crossover_point:]\n",
    "    offspring8 = parent8[:crossover_point] + parent7[crossover_point:]\n",
    "    offspring.append(offspring7)\n",
    "    offspring.append(offspring8)\n",
    "    \n",
    "    parent9 = parents[8][0]\n",
    "    parent10 = parents[9][0]\n",
    "    crossover_point = random.randint(1, len(parent9) - 1)\n",
    "    offspring9 = parent9[:crossover_point] + parent10[crossover_point:]\n",
    "    offspring10 = parent10[:crossover_point] + parent9[crossover_point:]\n",
    "    offspring.append(offspring9)\n",
    "    offspring.append(offspring10)\n",
    "    \n",
    "    \n",
    "\n",
    "    return offspring\n",
    "\n",
    "# Usage\n",
    "crossover_offspring = one_point_crossover_first_second(selected_parents)\n",
    "print(\"Crossover Offspring:\")\n",
    "print(*crossover_offspring, sep='\\n')\n",
    "print(type(crossover_offspring))\n"
   ]
  },
  {
   "cell_type": "code",
   "execution_count": 374,
   "id": "70cf0a5b",
   "metadata": {},
   "outputs": [
    {
     "name": "stdout",
     "output_type": "stream",
     "text": [
      "Mutated Offspring:\n",
      "[4, 0.0, 2.0, 0.0]\n",
      "[0.0, 0.0, 0.0, 0]\n",
      "[0.0, 0.0, 0.0, 4]\n",
      "[2.0, 0, 0.0, 4.0]\n",
      "[4.0, 2.0, 0, 0.0]\n",
      "[4.0, 2, 0.0, 0.0]\n",
      "[2, 0.0, 4.0, 0.0]\n",
      "[2.0, 4.0, 0, 0.0]\n",
      "[2.0, 0.0, 2.0, 4]\n",
      "[2.0, 4.0, 4, 4.0]\n"
     ]
    }
   ],
   "source": [
    "def mutation(offspring, powers):\n",
    "    mutated_offspring = []\n",
    "    for child in offspring:\n",
    "        mutated_child = child.copy()\n",
    "        mutation_position = random.randint(0, len(child) - 1)\n",
    "        new_gene = random.choice(powers)\n",
    "        \n",
    "        while new_gene == mutated_child[mutation_position]:\n",
    "            new_gene = random.choice(powers)\n",
    "        \n",
    "        mutated_child[mutation_position] = new_gene\n",
    "        mutated_offspring.append(mutated_child)\n",
    "    return mutated_offspring\n",
    "\n",
    "# Usage\n",
    "mutated_offspring = mutation(crossover_offspring, powers)\n",
    "print(\"Mutated Offspring:\")\n",
    "print(*mutated_offspring, sep='\\n')\n"
   ]
  },
  {
   "cell_type": "code",
   "execution_count": 375,
   "id": "6aa0b753",
   "metadata": {},
   "outputs": [
    {
     "name": "stdout",
     "output_type": "stream",
     "text": [
      "Combined Population:\n",
      "[[0. 0. 0. 2.]\n",
      " [0. 0. 2. 0.]\n",
      " [0. 0. 0. 4.]\n",
      " [2. 2. 0. 2.]\n",
      " [4. 2. 0. 0.]\n",
      " [4. 0. 2. 0.]\n",
      " [0. 4. 2. 0.]\n",
      " [2. 0. 4. 0.]\n",
      " [2. 0. 2. 4.]\n",
      " [2. 4. 2. 2.]\n",
      " [4. 0. 2. 0.]\n",
      " [0. 0. 0. 0.]\n",
      " [0. 0. 0. 4.]\n",
      " [2. 0. 0. 4.]\n",
      " [4. 2. 0. 0.]\n",
      " [4. 2. 0. 0.]\n",
      " [2. 0. 4. 0.]\n",
      " [2. 4. 0. 0.]\n",
      " [2. 0. 2. 4.]\n",
      " [2. 4. 4. 4.]]\n"
     ]
    }
   ],
   "source": [
    "def concatenate_parents_and_offspring(selected_parents, mutated_offspring):\n",
    "    combined_population = []\n",
    "\n",
    "    # Add selected parents to the combined population\n",
    "    for parent, parent_EE_value in selected_parents:\n",
    "        combined_population.append(parent)\n",
    "\n",
    "    # Add mutated offspring to the combined population\n",
    "    for offspring in mutated_offspring:\n",
    "        combined_population.append(np.array(offspring))\n",
    "\n",
    "    # Convert the combined population list to a NumPy array\n",
    "    combined_population = np.array(combined_population)\n",
    "\n",
    "    return combined_population\n",
    "\n",
    "# Usage\n",
    "combined_population = concatenate_parents_and_offspring(selected_parents, mutated_offspring)\n",
    "print(\"Combined Population:\")\n",
    "print(combined_population)\n"
   ]
  },
  {
   "cell_type": "code",
   "execution_count": null,
   "id": "5a2bec6b",
   "metadata": {},
   "outputs": [],
   "source": []
  },
  {
   "cell_type": "code",
   "execution_count": null,
   "id": "f935ee5e",
   "metadata": {},
   "outputs": [],
   "source": []
  }
 ],
 "metadata": {
  "kernelspec": {
   "display_name": "Python 3 (ipykernel)",
   "language": "python",
   "name": "python3"
  },
  "language_info": {
   "codemirror_mode": {
    "name": "ipython",
    "version": 3
   },
   "file_extension": ".py",
   "mimetype": "text/x-python",
   "name": "python",
   "nbconvert_exporter": "python",
   "pygments_lexer": "ipython3",
   "version": "3.9.13"
  }
 },
 "nbformat": 4,
 "nbformat_minor": 5
}
