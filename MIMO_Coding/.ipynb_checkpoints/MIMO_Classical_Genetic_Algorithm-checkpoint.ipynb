{
 "cells": [
  {
   "cell_type": "code",
   "execution_count": null,
   "id": "94374937",
   "metadata": {},
   "outputs": [],
   "source": [
    "#imports\n",
    "import math\n",
    "import numpy as np\n",
    "import random\n",
    "import itertools\n",
    "from random import choices\n",
    "import cmath\n"
   ]
  },
  {
   "cell_type": "code",
   "execution_count": null,
   "id": "f1c5d357",
   "metadata": {},
   "outputs": [],
   "source": [
    "#constants\n",
    "GAIN_MATRIX = (\n",
    "    (3.95370716e-13, 1.40831353e-12, 1.30345221e-13, 1.58616128e-12),\n",
    "    (1.10454943e-11, 1.08797904e-13, 1.70626457e-11, 1.87910752e-13),\n",
    "    (5.35349571e-12, 1.75915771e-12, 1.10933550e-11, 2.15002508e-12),\n",
    "    (9.57092193e-12, 1.14512900e-11, 7.62246884e-13, 1.58625393e-11)\n",
    ")\n",
    "\n",
    "SUM_GAIN = (\n",
    "    2.63652827e-11, 1.47275591e-11, 2.90485928e-11, 1.97866364e-11\n",
    ")\n",
    "\n",
    "D=10**6  #bandwidth\n",
    "N=-174 + 10 * math.log10(D) #noise in dbm"
   ]
  },
  {
   "cell_type": "code",
   "execution_count": null,
   "id": "4f356e53",
   "metadata": {},
   "outputs": [],
   "source": [
    "#generating population in dbm\n",
    "def generate_random_solutions(powers, no_of_users, num_random_solutions):\n",
    "    return np.random.choice(powers, size=(num_random_solutions, no_of_users))\n"
   ]
  },
  {
   "cell_type": "code",
   "execution_count": null,
   "id": "6acb75cc",
   "metadata": {},
   "outputs": [],
   "source": [
    "#usage\n",
    "powers = [0,2,4]\n",
    "no_of_users = 4\n",
    "num_random_solutions = 8\n",
    "pop_size_dbm = generate_random_solutions(powers, no_of_users, num_random_solutions)\n",
    "print(pop_size_dbm)"
   ]
  },
  {
   "cell_type": "code",
   "execution_count": null,
   "id": "24ad9c60",
   "metadata": {},
   "outputs": [],
   "source": [
    "# converting population to linear watt\n",
    "def calculate_linear_trans_power(pop_size_dbm):\n",
    "    result=(pow(10, -3) * np.power(10.0, np.array(pop_size_dbm, dtype=\"float\") / 10))\n",
    "    return result\n"
   ]
  },
  {
   "cell_type": "code",
   "execution_count": null,
   "id": "d4b13abc",
   "metadata": {},
   "outputs": [],
   "source": [
    "#usage\n",
    "linear_pop=calculate_linear_trans_power(pop_size_dbm)\n",
    "print(linear_pop)"
   ]
  },
  {
   "cell_type": "code",
   "execution_count": null,
   "id": "bf304146",
   "metadata": {},
   "outputs": [],
   "source": [
    "#usage for converting the noise to linear\n",
    "linear_noise = calculate_linear_trans_power([N])\n",
    "print(\"Linear noise:\", linear_noise)"
   ]
  },
  {
   "cell_type": "code",
   "execution_count": null,
   "id": "2bfb6b29",
   "metadata": {},
   "outputs": [],
   "source": [
    "def calculate_formula_and_sums(linear_pop, SUM_GAIN, linear_noise):\n",
    "    a = np.array(linear_pop)\n",
    "    b = np.array(SUM_GAIN)\n",
    "    bit_rate_matrix = (D * np.log2(1 + ((a * b) / linear_noise)))\n",
    "    return bit_rate_matrix"
   ]
  },
  {
   "cell_type": "code",
   "execution_count": null,
   "id": "64151a4d",
   "metadata": {},
   "outputs": [],
   "source": [
    "#Usage for calculating the bitrates through big formula\n",
    "bitrate=calculate_formula_and_sums(linear_pop, SUM_GAIN, linear_noise)\n",
    "print(bitrate)"
   ]
  },
  {
   "cell_type": "code",
   "execution_count": null,
   "id": "b272c85d",
   "metadata": {},
   "outputs": [],
   "source": [
    "def row_wise_sums(matrix):\n",
    "    return [sum(row) for row in matrix]"
   ]
  },
  {
   "cell_type": "code",
   "execution_count": null,
   "id": "ed58a4bb",
   "metadata": {},
   "outputs": [],
   "source": [
    "# USAGE\n",
    "row_sum_bitrate = row_wise_sums(bitrate)\n",
    "print(\"ROW SUMS OF BITRATE:\")\n",
    "print(*row_sum_bitrate, sep='\\n')\n"
   ]
  },
  {
   "cell_type": "code",
   "execution_count": null,
   "id": "8803bfa5",
   "metadata": {},
   "outputs": [],
   "source": [
    "def get_sorted_row_sums(matrix):\n",
    "    # Calculate the sum of each row and store it as a tuple (row_sum, row)\n",
    "    row_sums = [(sum(row), row) for row in matrix]\n",
    "\n",
    "    # Sort the row sums in increasing order\n",
    "    sorted_row_sums = sorted(row_sums, key=lambda x: x[0])\n",
    "\n",
    "    # Return the sorted row sums\n",
    "    return [row_sum for row_sum, _ in sorted_row_sums]"
   ]
  },
  {
   "cell_type": "code",
   "execution_count": null,
   "id": "28fe86f6",
   "metadata": {},
   "outputs": [],
   "source": [
    "sorted_row_sums = get_sorted_row_sums(bitrate)\n",
    "print(\"Row sums in increasing order:\")\n",
    "print(*sorted_row_sums, sep='\\n')"
   ]
  },
  {
   "cell_type": "code",
   "execution_count": null,
   "id": "5aa6bdd9",
   "metadata": {},
   "outputs": [],
   "source": [
    "target_bitrate = sorted_row_sums[0]\n",
    "print(target_bitrate)"
   ]
  },
  {
   "cell_type": "code",
   "execution_count": null,
   "id": "96090aa2",
   "metadata": {},
   "outputs": [],
   "source": [
    "def select_half_of_sorted_sums(sorted_row_sums):\n",
    "    half_length = len(sorted_row_sums) // 2\n",
    "    return sorted_row_sums[:half_length]\n",
    "\n",
    "half_sorted_row_sums = select_half_of_sorted_sums(sorted_row_sums)\n",
    "\n",
    "print(\"Half of the sorted row sums:\")\n",
    "for row_sum in half_sorted_row_sums:\n",
    "    print(row_sum)"
   ]
  },
  {
   "cell_type": "code",
   "execution_count": null,
   "id": "876185c1",
   "metadata": {},
   "outputs": [],
   "source": [
    "def get_initial_population(bitrate, pop_size_dbm, sorted_row_sums):\n",
    "    half_sorted_row_sums = select_half_of_sorted_sums(sorted_row_sums)\n",
    "\n",
    "    initial_population = []\n",
    "    for sorted_sum in half_sorted_row_sums:\n",
    "        index = row_wise_sums(bitrate).index(sorted_sum)\n",
    "        initial_population.append(pop_size_dbm[index])\n",
    "\n",
    "    return initial_population, half_sorted_row_sums"
   ]
  },
  {
   "cell_type": "code",
   "execution_count": null,
   "id": "7b15e286",
   "metadata": {},
   "outputs": [],
   "source": [
    "# Call the function and get the initial population and their total bitrates\n",
    "initial_population, initial_population_bitrates = get_initial_population(bitrate, pop_size_dbm, sorted_row_sums)\n",
    "\n",
    "# Print the initial population and their total bitrates\n",
    "print(\"Initial population and their total bitrates:\")\n",
    "for solution, bitrate in zip(initial_population, initial_population_bitrates):\n",
    "    print(\"Solution:\", solution, \"Total bitrate:\", bitrate)"
   ]
  },
  {
   "cell_type": "code",
   "execution_count": null,
   "id": "5f032c3e",
   "metadata": {
    "scrolled": true
   },
   "outputs": [],
   "source": [
    "def single_point_crossover(parent1, parent2):\n",
    "    # Perform single-point crossover\n",
    "    crossover_point = random.randint(1, len(parent1) - 1)\n",
    "    child1 = np.hstack((parent1[:crossover_point], parent2[crossover_point:]))\n",
    "    child2 = np.hstack((parent2[:crossover_point], parent1[crossover_point:]))\n",
    "    \n",
    "    return child1, child2\n",
    "\n",
    "\n",
    "offspring = []\n",
    "for i in range(0, len(initial_population), 2):\n",
    "    parent1 = initial_population[i]\n",
    "    parent2 = initial_population[i + 1]\n",
    "    \n",
    "    child1, child2 = single_point_crossover(parent1, parent2)\n",
    "    \n",
    "    offspring.append(child1)\n",
    "    offspring.append(child2)\n",
    "\n",
    "print(\"Initial population:\")\n",
    "for solution in initial_population:\n",
    "    print(solution)\n",
    "\n",
    "print(\"\\nOffspring after single-point crossover:\")\n",
    "for child in offspring:\n",
    "    print(child)\n"
   ]
  },
  {
   "cell_type": "code",
   "execution_count": null,
   "id": "de22b287",
   "metadata": {},
   "outputs": [],
   "source": [
    "def mutate_one_gene_per_individual(population, powers):\n",
    "    mutated_population = np.copy(population)\n",
    "\n",
    "    for i, individual in enumerate(mutated_population):\n",
    "        # Choose a random gene within the individual\n",
    "        gene_index = random.randint(0, len(individual) - 1)\n",
    "\n",
    "        # Store the original power level of the chosen gene\n",
    "        original_power = individual[gene_index]\n",
    "\n",
    "        # Mutate the chosen gene with a random power level from the powers list\n",
    "        individual[gene_index] = random.choice(powers)\n",
    "\n",
    "        # Print the mutation information\n",
    "#         print(f\"Offspring {i + 1}: Gene {gene_index + 1} was mutated from {original_power} to {individual[gene_index]}\")\n",
    "\n",
    "    return mutated_population\n"
   ]
  },
  {
   "cell_type": "code",
   "execution_count": null,
   "id": "89530d51",
   "metadata": {},
   "outputs": [],
   "source": [
    "mutated_offspring = mutate_one_gene_per_individual(offspring, powers)\n",
    "\n",
    "print(\"\\nMutated offspring:\")\n",
    "for child in mutated_offspring:\n",
    "    print(child)\n"
   ]
  },
  {
   "cell_type": "code",
   "execution_count": null,
   "id": "d7cd8094",
   "metadata": {},
   "outputs": [],
   "source": []
  },
  {
   "cell_type": "code",
   "execution_count": null,
   "id": "3d2aece9",
   "metadata": {},
   "outputs": [],
   "source": [
    "\n"
   ]
  },
  {
   "cell_type": "code",
   "execution_count": null,
   "id": "fc94061c",
   "metadata": {},
   "outputs": [],
   "source": []
  },
  {
   "cell_type": "code",
   "execution_count": null,
   "id": "9a8d6201",
   "metadata": {},
   "outputs": [],
   "source": []
  },
  {
   "cell_type": "code",
   "execution_count": null,
   "id": "b6bfcf68",
   "metadata": {},
   "outputs": [],
   "source": []
  }
 ],
 "metadata": {
  "kernelspec": {
   "display_name": "Python 3 (ipykernel)",
   "language": "python",
   "name": "python3"
  },
  "language_info": {
   "codemirror_mode": {
    "name": "ipython",
    "version": 3
   },
   "file_extension": ".py",
   "mimetype": "text/x-python",
   "name": "python",
   "nbconvert_exporter": "python",
   "pygments_lexer": "ipython3",
   "version": "3.9.13"
  }
 },
 "nbformat": 4,
 "nbformat_minor": 5
}
