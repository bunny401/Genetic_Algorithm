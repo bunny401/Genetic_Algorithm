{
 "cells": [
  {
   "cell_type": "code",
   "execution_count": 1,
   "id": "94374937",
   "metadata": {},
   "outputs": [],
   "source": [
    "#imports\n",
    "import math\n",
    "import numpy as np\n",
    "import random\n",
    "import itertools\n",
    "from random import choices\n",
    "import cmath\n"
   ]
  },
  {
   "cell_type": "code",
   "execution_count": 2,
   "id": "f1c5d357",
   "metadata": {},
   "outputs": [],
   "source": [
    "#constants\n",
    "GAIN_MATRIX = (\n",
    "    (3.95370716e-13, 1.40831353e-12, 1.30345221e-13, 1.58616128e-12),\n",
    "    (1.10454943e-11, 1.08797904e-13, 1.70626457e-11, 1.87910752e-13),\n",
    "    (5.35349571e-12, 1.75915771e-12, 1.10933550e-11, 2.15002508e-12),\n",
    "    (9.57092193e-12, 1.14512900e-11, 7.62246884e-13, 1.58625393e-11)\n",
    ")\n",
    "\n",
    "SUM_GAIN = (\n",
    "    2.63652827e-11, 1.47275591e-11, 2.90485928e-11, 1.97866364e-11\n",
    ")\n",
    "\n",
    "TARGET_BITRATE=13142071.76687619\n",
    "\n",
    "D=10**6  #bandwidth\n",
    "N=-174 + 10 * math.log10(D) #noise in dbm"
   ]
  },
  {
   "cell_type": "code",
   "execution_count": 3,
   "id": "4f356e53",
   "metadata": {},
   "outputs": [],
   "source": [
    "#generating population in dbm\n",
    "def generate_random_solutions(powers, no_of_users, num_random_solutions):\n",
    "    return np.random.choice(powers, size=(num_random_solutions, no_of_users))\n"
   ]
  },
  {
   "cell_type": "code",
   "execution_count": 4,
   "id": "6acb75cc",
   "metadata": {},
   "outputs": [
    {
     "name": "stdout",
     "output_type": "stream",
     "text": [
      "[[4 4 4 0]\n",
      " [4 4 4 2]\n",
      " [2 4 2 4]\n",
      " [4 0 4 4]\n",
      " [2 4 0 4]\n",
      " [0 4 4 4]\n",
      " [4 4 4 0]\n",
      " [0 2 2 0]]\n"
     ]
    }
   ],
   "source": [
    "#usage\n",
    "powers = [0,2,4]\n",
    "no_of_users = 4\n",
    "num_random_solutions = 8\n",
    "pop_size_dbm = generate_random_solutions(powers, no_of_users, num_random_solutions)\n",
    "print(pop_size_dbm)"
   ]
  },
  {
   "cell_type": "code",
   "execution_count": 5,
   "id": "24ad9c60",
   "metadata": {},
   "outputs": [],
   "source": [
    "# converting population to linear watt\n",
    "def calculate_linear_trans_power(pop_size_dbm):\n",
    "    result=(pow(10, -3) * np.power(10.0, np.array(pop_size_dbm, dtype=\"float\") / 10))\n",
    "    return result\n"
   ]
  },
  {
   "cell_type": "code",
   "execution_count": 6,
   "id": "d4b13abc",
   "metadata": {},
   "outputs": [
    {
     "name": "stdout",
     "output_type": "stream",
     "text": [
      "[[0.00251189 0.00251189 0.00251189 0.001     ]\n",
      " [0.00251189 0.00251189 0.00251189 0.00158489]\n",
      " [0.00158489 0.00251189 0.00158489 0.00251189]\n",
      " [0.00251189 0.001      0.00251189 0.00251189]\n",
      " [0.00158489 0.00251189 0.001      0.00251189]\n",
      " [0.001      0.00251189 0.00251189 0.00251189]\n",
      " [0.00251189 0.00251189 0.00251189 0.001     ]\n",
      " [0.001      0.00158489 0.00158489 0.001     ]]\n"
     ]
    }
   ],
   "source": [
    "#usage\n",
    "linear_pop=calculate_linear_trans_power(pop_size_dbm)\n",
    "print(linear_pop)"
   ]
  },
  {
   "cell_type": "code",
   "execution_count": 7,
   "id": "bf304146",
   "metadata": {},
   "outputs": [
    {
     "name": "stdout",
     "output_type": "stream",
     "text": [
      "Linear noise: [3.98107171e-15]\n"
     ]
    }
   ],
   "source": [
    "#usage for converting the noise to linear\n",
    "linear_noise = calculate_linear_trans_power([N])\n",
    "print(\"Linear noise:\", linear_noise)"
   ]
  },
  {
   "cell_type": "code",
   "execution_count": 8,
   "id": "2bfb6b29",
   "metadata": {},
   "outputs": [],
   "source": [
    "def calculate_formula_and_sums(linear_pop, SUM_GAIN, linear_noise):\n",
    "    a = np.array(linear_pop)\n",
    "    b = np.array(SUM_GAIN)\n",
    "    bit_rate_matrix = (D * np.log2(1 + ((a * b) / linear_noise)))\n",
    "    return bit_rate_matrix"
   ]
  },
  {
   "cell_type": "code",
   "execution_count": 9,
   "id": "64151a4d",
   "metadata": {},
   "outputs": [
    {
     "name": "stdout",
     "output_type": "stream",
     "text": [
      "[[4140399.83799027 3363516.1582802  4272652.02625749 2577774.03041514]\n",
      " [4140399.83799027 3363516.1582802  4272652.02625749 3150104.99872635]\n",
      " [3523086.17671602 3363516.1582802  3651275.96911754 3753232.64345308]\n",
      " [4140399.83799027 2232475.21650449 4272652.02625749 3753232.64345308]\n",
      " [3523086.17671602 3363516.1582802  3052533.55366803 3753232.64345308]\n",
      " [2930294.44975843 3363516.1582802  4272652.02625749 3753232.64345308]\n",
      " [4140399.83799027 3363516.1582802  4272652.02625749 2577774.03041514]\n",
      " [2930294.44975843 2778870.2310227  3651275.96911754 2577774.03041514]]\n"
     ]
    }
   ],
   "source": [
    "#Usage for calculating the bitrates through big formula\n",
    "bitrate=calculate_formula_and_sums(linear_pop, SUM_GAIN, linear_noise)\n",
    "print(bitrate)"
   ]
  },
  {
   "cell_type": "code",
   "execution_count": 10,
   "id": "b272c85d",
   "metadata": {},
   "outputs": [],
   "source": [
    "def row_wise_sums(matrix):\n",
    "    return [sum(row) for row in matrix]"
   ]
  },
  {
   "cell_type": "code",
   "execution_count": 11,
   "id": "ed58a4bb",
   "metadata": {},
   "outputs": [
    {
     "name": "stdout",
     "output_type": "stream",
     "text": [
      "14354342.052943096\n",
      "14926673.021254312\n",
      "14291110.947566848\n",
      "14398759.724205334\n",
      "13692368.532117337\n",
      "14319695.277749203\n",
      "14354342.052943096\n",
      "11938214.680313796\n",
      "<class 'list'>\n"
     ]
    }
   ],
   "source": [
    "# USAGE\n",
    "row_sum_bitrate = row_wise_sums(bitrate)\n",
    "# print(row_sum_bitrate)\n",
    "print(*row_sum_bitrate, sep='\\n')\n",
    "print(type(row_sum_bitrate))"
   ]
  },
  {
   "cell_type": "code",
   "execution_count": 12,
   "id": "8803bfa5",
   "metadata": {},
   "outputs": [],
   "source": [
    "def get_sorted_row_sums(matrix):\n",
    "    # Calculate the sum of each row and store it as a tuple (row_sum, row)\n",
    "    row_sums = [(sum(row), row) for row in matrix]\n",
    "\n",
    "    # Sort the row sums in increasing order\n",
    "    sorted_row_sums = sorted(row_sums, key=lambda x: x[0])\n",
    "\n",
    "    # Return the sorted row sums\n",
    "    return [row_sum for row_sum, _ in sorted_row_sums]"
   ]
  },
  {
   "cell_type": "code",
   "execution_count": 13,
   "id": "28fe86f6",
   "metadata": {},
   "outputs": [
    {
     "name": "stdout",
     "output_type": "stream",
     "text": [
      "Row sums in increasing order:\n",
      "11938214.680313796\n",
      "13692368.532117337\n",
      "14291110.947566848\n",
      "14319695.277749203\n",
      "14354342.052943096\n",
      "14354342.052943096\n",
      "14398759.724205334\n",
      "14926673.021254312\n"
     ]
    }
   ],
   "source": [
    "sorted_row_sums = get_sorted_row_sums(bitrate)\n",
    "print(\"Row sums in increasing order:\")\n",
    "print(*sorted_row_sums, sep='\\n')"
   ]
  },
  {
   "cell_type": "code",
   "execution_count": 14,
   "id": "d64ff6e7",
   "metadata": {},
   "outputs": [
    {
     "name": "stdout",
     "output_type": "stream",
     "text": [
      "Corresponding matrix rows:\n",
      "[2930294.44975843 2778870.2310227  3651275.96911754 2577774.03041514]\n",
      "[3523086.17671602 3363516.1582802  3052533.55366803 3753232.64345308]\n",
      "[3523086.17671602 3363516.1582802  3651275.96911754 3753232.64345308]\n",
      "[2930294.44975843 3363516.1582802  4272652.02625749 3753232.64345308]\n",
      "[4140399.83799027 3363516.1582802  4272652.02625749 2577774.03041514]\n",
      "[4140399.83799027 3363516.1582802  4272652.02625749 2577774.03041514]\n",
      "[4140399.83799027 2232475.21650449 4272652.02625749 3753232.64345308]\n",
      "[4140399.83799027 3363516.1582802  4272652.02625749 3150104.99872635]\n"
     ]
    }
   ],
   "source": [
    "def get_sorted_matrix(sorted_row_sums, matrix):\n",
    "    # Create a dictionary with row sums as keys and corresponding rows as values\n",
    "    row_sum_to_row = {sum(row): row for row in matrix}\n",
    "\n",
    "    # Get the corresponding matrix rows based on the sorted row sums\n",
    "    sorted_matrix = [row_sum_to_row[row_sum] for row_sum in sorted_row_sums]\n",
    "\n",
    "    return sorted_matrix\n",
    "\n",
    "\n",
    "\n",
    "sorted_matrix = get_sorted_matrix(sorted_row_sums, bitrate)\n",
    "\n",
    "print(\"Corresponding matrix rows:\")\n",
    "for row in sorted_matrix:\n",
    "    print(row)\n",
    "\n"
   ]
  },
  {
   "cell_type": "code",
   "execution_count": null,
   "id": "618a80c3",
   "metadata": {},
   "outputs": [],
   "source": [
    "\n"
   ]
  },
  {
   "cell_type": "code",
   "execution_count": null,
   "id": "96090aa2",
   "metadata": {},
   "outputs": [],
   "source": []
  }
 ],
 "metadata": {
  "kernelspec": {
   "display_name": "Python 3 (ipykernel)",
   "language": "python",
   "name": "python3"
  },
  "language_info": {
   "codemirror_mode": {
    "name": "ipython",
    "version": 3
   },
   "file_extension": ".py",
   "mimetype": "text/x-python",
   "name": "python",
   "nbconvert_exporter": "python",
   "pygments_lexer": "ipython3",
   "version": "3.9.13"
  }
 },
 "nbformat": 4,
 "nbformat_minor": 5
}
