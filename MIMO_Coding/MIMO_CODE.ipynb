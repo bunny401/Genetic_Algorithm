{
 "cells": [
  {
   "cell_type": "code",
   "execution_count": 11,
   "id": "33a120d5",
   "metadata": {},
   "outputs": [],
   "source": [
    "#imports\n",
    "import math\n",
    "import numpy as np\n",
    "import random\n",
    "import itertools"
   ]
  },
  {
   "cell_type": "code",
   "execution_count": 12,
   "id": "eab6c46f",
   "metadata": {},
   "outputs": [],
   "source": [
    "#constants\n",
    "D=10**6  #Bandwodth\n",
    "N= -174+10*(math.log10(D))  #Noise in DBM\n",
    "N_linear=(N)*(10**(-3))*(10**(N/10))    #Noise in miliwatt\n"
   ]
  },
  {
   "cell_type": "code",
   "execution_count": 13,
   "id": "21f1f6f2",
   "metadata": {},
   "outputs": [],
   "source": [
    "# Compute the linear power of the population\n",
    "# Takes a list of population values and returns an array of corresponding linear transmission power values IN WATTS.\n",
    "import numpy as np\n",
    "def calculate_linear_trans_power(population):\n",
    "    return pow(10,-3)*np.power(10.0,np.array(population, dtype=\"float\")/10)"
   ]
  },
  {
   "cell_type": "code",
   "execution_count": 14,
   "id": "970024a9",
   "metadata": {},
   "outputs": [
    {
     "name": "stdout",
     "output_type": "stream",
     "text": [
      "[0.001   0.00158 0.00251]\n"
     ]
    }
   ],
   "source": [
    "population = [0, 2, 4]\n",
    "linear_power_values=calculate_linear_trans_power(population)\n",
    "rounded_values = np.round(linear_power_values, 5)\n",
    "print(rounded_values)"
   ]
  },
  {
   "cell_type": "code",
   "execution_count": 15,
   "id": "b4bc7c0c",
   "metadata": {
    "scrolled": true
   },
   "outputs": [
    {
     "name": "stdout",
     "output_type": "stream",
     "text": [
      "1. (0, 0, 0, 0)\n",
      "2. (0, 0, 0, 2)\n",
      "3. (0, 0, 0, 4)\n",
      "4. (0, 0, 2, 0)\n",
      "5. (0, 0, 2, 2)\n",
      "6. (0, 0, 2, 4)\n",
      "7. (0, 0, 4, 0)\n",
      "8. (0, 0, 4, 2)\n",
      "9. (0, 0, 4, 4)\n",
      "10. (0, 2, 0, 0)\n",
      "11. (0, 2, 0, 2)\n",
      "12. (0, 2, 0, 4)\n",
      "13. (0, 2, 2, 0)\n",
      "14. (0, 2, 2, 2)\n",
      "15. (0, 2, 2, 4)\n",
      "16. (0, 2, 4, 0)\n",
      "17. (0, 2, 4, 2)\n",
      "18. (0, 2, 4, 4)\n",
      "19. (0, 4, 0, 0)\n",
      "20. (0, 4, 0, 2)\n",
      "21. (0, 4, 0, 4)\n",
      "22. (0, 4, 2, 0)\n",
      "23. (0, 4, 2, 2)\n",
      "24. (0, 4, 2, 4)\n",
      "25. (0, 4, 4, 0)\n",
      "26. (0, 4, 4, 2)\n",
      "27. (0, 4, 4, 4)\n",
      "28. (2, 0, 0, 0)\n",
      "29. (2, 0, 0, 2)\n",
      "30. (2, 0, 0, 4)\n",
      "31. (2, 0, 2, 0)\n",
      "32. (2, 0, 2, 2)\n",
      "33. (2, 0, 2, 4)\n",
      "34. (2, 0, 4, 0)\n",
      "35. (2, 0, 4, 2)\n",
      "36. (2, 0, 4, 4)\n",
      "37. (2, 2, 0, 0)\n",
      "38. (2, 2, 0, 2)\n",
      "39. (2, 2, 0, 4)\n",
      "40. (2, 2, 2, 0)\n",
      "41. (2, 2, 2, 2)\n",
      "42. (2, 2, 2, 4)\n",
      "43. (2, 2, 4, 0)\n",
      "44. (2, 2, 4, 2)\n",
      "45. (2, 2, 4, 4)\n",
      "46. (2, 4, 0, 0)\n",
      "47. (2, 4, 0, 2)\n",
      "48. (2, 4, 0, 4)\n",
      "49. (2, 4, 2, 0)\n",
      "50. (2, 4, 2, 2)\n",
      "51. (2, 4, 2, 4)\n",
      "52. (2, 4, 4, 0)\n",
      "53. (2, 4, 4, 2)\n",
      "54. (2, 4, 4, 4)\n",
      "55. (4, 0, 0, 0)\n",
      "56. (4, 0, 0, 2)\n",
      "57. (4, 0, 0, 4)\n",
      "58. (4, 0, 2, 0)\n",
      "59. (4, 0, 2, 2)\n",
      "60. (4, 0, 2, 4)\n",
      "61. (4, 0, 4, 0)\n",
      "62. (4, 0, 4, 2)\n",
      "63. (4, 0, 4, 4)\n",
      "64. (4, 2, 0, 0)\n",
      "65. (4, 2, 0, 2)\n",
      "66. (4, 2, 0, 4)\n",
      "67. (4, 2, 2, 0)\n",
      "68. (4, 2, 2, 2)\n",
      "69. (4, 2, 2, 4)\n",
      "70. (4, 2, 4, 0)\n",
      "71. (4, 2, 4, 2)\n",
      "72. (4, 2, 4, 4)\n",
      "73. (4, 4, 0, 0)\n",
      "74. (4, 4, 0, 2)\n",
      "75. (4, 4, 0, 4)\n",
      "76. (4, 4, 2, 0)\n",
      "77. (4, 4, 2, 2)\n",
      "78. (4, 4, 2, 4)\n",
      "79. (4, 4, 4, 0)\n",
      "80. (4, 4, 4, 2)\n",
      "81. (4, 4, 4, 4)\n"
     ]
    }
   ],
   "source": [
    "#Scenarios in dbm\n",
    "def generate_combinations(powers, num_of_users):\n",
    "    combinations = list(itertools.product(powers, repeat=num_of_users))\n",
    "\n",
    "    for index, combination in enumerate(combinations, start=1):\n",
    "        print(f\"{index}. {combination}\")\n",
    "\n",
    "# Example usage\n",
    "powers = [0, 2, 4]\n",
    "num_of_users = 4\n",
    "scenarios=generate_combinations(powers, num_of_users)"
   ]
  },
  {
   "cell_type": "code",
   "execution_count": 24,
   "id": "922340c9",
   "metadata": {
    "scrolled": true
   },
   "outputs": [
    {
     "name": "stdout",
     "output_type": "stream",
     "text": [
      "1 => [0.001 0.001 0.001 0.001]\n",
      "2 => [0.001      0.001      0.001      0.00158489]\n",
      "3 => [0.001      0.001      0.001      0.00251189]\n",
      "4 => [0.001      0.001      0.00158489 0.001     ]\n",
      "5 => [0.001      0.001      0.00158489 0.00158489]\n",
      "6 => [0.001      0.001      0.00158489 0.00251189]\n",
      "7 => [0.001      0.001      0.00251189 0.001     ]\n",
      "8 => [0.001      0.001      0.00251189 0.00158489]\n",
      "9 => [0.001      0.001      0.00251189 0.00251189]\n",
      "10 => [0.001      0.00158489 0.001      0.001     ]\n",
      "11 => [0.001      0.00158489 0.001      0.00158489]\n",
      "12 => [0.001      0.00158489 0.001      0.00251189]\n",
      "13 => [0.001      0.00158489 0.00158489 0.001     ]\n",
      "14 => [0.001      0.00158489 0.00158489 0.00158489]\n",
      "15 => [0.001      0.00158489 0.00158489 0.00251189]\n",
      "16 => [0.001      0.00158489 0.00251189 0.001     ]\n",
      "17 => [0.001      0.00158489 0.00251189 0.00158489]\n",
      "18 => [0.001      0.00158489 0.00251189 0.00251189]\n",
      "19 => [0.001      0.00251189 0.001      0.001     ]\n",
      "20 => [0.001      0.00251189 0.001      0.00158489]\n",
      "21 => [0.001      0.00251189 0.001      0.00251189]\n",
      "22 => [0.001      0.00251189 0.00158489 0.001     ]\n",
      "23 => [0.001      0.00251189 0.00158489 0.00158489]\n",
      "24 => [0.001      0.00251189 0.00158489 0.00251189]\n",
      "25 => [0.001      0.00251189 0.00251189 0.001     ]\n",
      "26 => [0.001      0.00251189 0.00251189 0.00158489]\n",
      "27 => [0.001      0.00251189 0.00251189 0.00251189]\n",
      "28 => [0.00158489 0.001      0.001      0.001     ]\n",
      "29 => [0.00158489 0.001      0.001      0.00158489]\n",
      "30 => [0.00158489 0.001      0.001      0.00251189]\n",
      "31 => [0.00158489 0.001      0.00158489 0.001     ]\n",
      "32 => [0.00158489 0.001      0.00158489 0.00158489]\n",
      "33 => [0.00158489 0.001      0.00158489 0.00251189]\n",
      "34 => [0.00158489 0.001      0.00251189 0.001     ]\n",
      "35 => [0.00158489 0.001      0.00251189 0.00158489]\n",
      "36 => [0.00158489 0.001      0.00251189 0.00251189]\n",
      "37 => [0.00158489 0.00158489 0.001      0.001     ]\n",
      "38 => [0.00158489 0.00158489 0.001      0.00158489]\n",
      "39 => [0.00158489 0.00158489 0.001      0.00251189]\n",
      "40 => [0.00158489 0.00158489 0.00158489 0.001     ]\n",
      "41 => [0.00158489 0.00158489 0.00158489 0.00158489]\n",
      "42 => [0.00158489 0.00158489 0.00158489 0.00251189]\n",
      "43 => [0.00158489 0.00158489 0.00251189 0.001     ]\n",
      "44 => [0.00158489 0.00158489 0.00251189 0.00158489]\n",
      "45 => [0.00158489 0.00158489 0.00251189 0.00251189]\n",
      "46 => [0.00158489 0.00251189 0.001      0.001     ]\n",
      "47 => [0.00158489 0.00251189 0.001      0.00158489]\n",
      "48 => [0.00158489 0.00251189 0.001      0.00251189]\n",
      "49 => [0.00158489 0.00251189 0.00158489 0.001     ]\n",
      "50 => [0.00158489 0.00251189 0.00158489 0.00158489]\n",
      "51 => [0.00158489 0.00251189 0.00158489 0.00251189]\n",
      "52 => [0.00158489 0.00251189 0.00251189 0.001     ]\n",
      "53 => [0.00158489 0.00251189 0.00251189 0.00158489]\n",
      "54 => [0.00158489 0.00251189 0.00251189 0.00251189]\n",
      "55 => [0.00251189 0.001      0.001      0.001     ]\n",
      "56 => [0.00251189 0.001      0.001      0.00158489]\n",
      "57 => [0.00251189 0.001      0.001      0.00251189]\n",
      "58 => [0.00251189 0.001      0.00158489 0.001     ]\n",
      "59 => [0.00251189 0.001      0.00158489 0.00158489]\n",
      "60 => [0.00251189 0.001      0.00158489 0.00251189]\n",
      "61 => [0.00251189 0.001      0.00251189 0.001     ]\n",
      "62 => [0.00251189 0.001      0.00251189 0.00158489]\n",
      "63 => [0.00251189 0.001      0.00251189 0.00251189]\n",
      "64 => [0.00251189 0.00158489 0.001      0.001     ]\n",
      "65 => [0.00251189 0.00158489 0.001      0.00158489]\n",
      "66 => [0.00251189 0.00158489 0.001      0.00251189]\n",
      "67 => [0.00251189 0.00158489 0.00158489 0.001     ]\n",
      "68 => [0.00251189 0.00158489 0.00158489 0.00158489]\n",
      "69 => [0.00251189 0.00158489 0.00158489 0.00251189]\n",
      "70 => [0.00251189 0.00158489 0.00251189 0.001     ]\n",
      "71 => [0.00251189 0.00158489 0.00251189 0.00158489]\n",
      "72 => [0.00251189 0.00158489 0.00251189 0.00251189]\n",
      "73 => [0.00251189 0.00251189 0.001      0.001     ]\n",
      "74 => [0.00251189 0.00251189 0.001      0.00158489]\n",
      "75 => [0.00251189 0.00251189 0.001      0.00251189]\n",
      "76 => [0.00251189 0.00251189 0.00158489 0.001     ]\n",
      "77 => [0.00251189 0.00251189 0.00158489 0.00158489]\n",
      "78 => [0.00251189 0.00251189 0.00158489 0.00251189]\n",
      "79 => [0.00251189 0.00251189 0.00251189 0.001     ]\n",
      "80 => [0.00251189 0.00251189 0.00251189 0.00158489]\n",
      "81 => [0.00251189 0.00251189 0.00251189 0.00251189]\n"
     ]
    }
   ],
   "source": [
    "import itertools\n",
    "import numpy as np\n",
    "\n",
    "def print_linear_power_values(scenarios):\n",
    "    for index, scenario in enumerate(scenarios, start=1):\n",
    "        linear_power_values = calculate_linear_trans_power(scenario)\n",
    "        print(f\"{index} => {linear_power_values}\")\n",
    "\n",
    "#Example usage\n",
    "print_linear_power_values(scenarios)\n"
   ]
  },
  {
   "cell_type": "code",
   "execution_count": 8,
   "id": "71f5e95b",
   "metadata": {},
   "outputs": [
    {
     "name": "stdout",
     "output_type": "stream",
     "text": [
      "Channel matrix:\n",
      " [[-2.64970265e-14-1.85953205e-12j  3.27269958e-13-4.36045400e-13j\n",
      "   1.52400916e-12+1.82484648e-12j -8.10910817e-13-1.56205421e-12j]\n",
      " [ 5.50107698e-13-8.22426229e-13j -8.98396650e-13+8.80817705e-13j\n",
      "  -6.52512177e-14-5.46463819e-14j  7.15214768e-14+4.15542417e-13j]\n",
      " [ 1.13942903e-12-2.98220936e-12j -1.40544017e-12+4.76559290e-12j\n",
      "  -1.96769421e-12+4.29371485e-12j -1.94982008e-12+1.49134550e-12j]\n",
      " [-9.96997082e-14+3.17814788e-13j  3.69252880e-13+8.03557438e-13j\n",
      "  -1.40466778e-12+1.21531637e-12j  6.25949720e-13+2.21741026e-13j]]\n",
      "Gain matrix:\n",
      " [[3.45856153e-24 2.97241217e-25 5.65266859e-24 3.09758971e-24]\n",
      " [9.79003382e-25 1.58295637e-24 7.24394846e-27 1.77790822e-25]\n",
      " [1.01918712e-23 2.46861378e-23 2.23078077e-23 6.02590977e-24]\n",
      " [1.10946271e-25 7.82052245e-25 3.45008547e-24 4.40982134e-25]]\n"
     ]
    }
   ],
   "source": [
    "#Creating Gain Matrix\n",
    "def channel_matrix(min_distance, max_distance, loss, num_BS_antenna, num_users):\n",
    "    channel_matrix = np.zeros((num_users, num_BS_antenna), dtype=complex)\n",
    "    \n",
    "    for i in range(num_users):\n",
    "        d = random.randint(min_distance, max_distance)  # random distance\n",
    "        path_loss_factor = d ** (-loss)\n",
    "        \n",
    "        for j in range(num_BS_antenna):\n",
    "            channel_coefficient = path_loss_factor * (np.random.randn() + 1j * np.random.randn()) / np.sqrt(2)\n",
    "            channel_matrix[i][j] = channel_coefficient\n",
    "            \n",
    "    gain_matrix = np.abs(channel_matrix) ** 2\n",
    "    return channel_matrix, gain_matrix\n",
    "\n",
    "# Example usage\n",
    "min_distance = 500\n",
    "max_distance = 1000\n",
    "loss = 4\n",
    "num_BS_antenna = 4\n",
    "num_users = 4\n",
    "\n",
    "channel_mat, gain_matrix = channel_matrix(min_distance, max_distance, loss, num_BS_antenna, num_users)\n",
    "\n",
    "channel_mat_array=np.array(channel_mat)  #Printing chaneel Matrix\n",
    "print(\"Channel matrix:\\n\", channel_mat_array)   #converting the matrix to array\n",
    "\n",
    "gain_matrix_array=np.array(gain_matrix)   #Printing Gain Matrix\n",
    "print(\"Gain matrix:\\n\", gain_matrix_array)     #converting the matrix to array\n"
   ]
  },
  {
   "cell_type": "code",
   "execution_count": null,
   "id": "104a2c9b",
   "metadata": {},
   "outputs": [],
   "source": []
  },
  {
   "cell_type": "code",
   "execution_count": null,
   "id": "87223842",
   "metadata": {},
   "outputs": [],
   "source": [
    "first_row_random_matrix_array = random_matrix_array[0][0]\n",
    "print (first_row_random_matrix_array)\n"
   ]
  },
  {
   "cell_type": "code",
   "execution_count": null,
   "id": "3246c819",
   "metadata": {},
   "outputs": [],
   "source": [
    "for j in range(gain_matrix_array.shape[1]):\n",
    "    column = gain_matrix_array[:,j]\n",
    "    print(column)\n",
    "\n",
    "\n",
    "first_column=gain_matrix_array[:, 0]\n",
    "print (first_column)"
   ]
  },
  {
   "cell_type": "code",
   "execution_count": null,
   "id": "9026ae03",
   "metadata": {
    "scrolled": false
   },
   "outputs": [],
   "source": [
    "Result=first_row_random_matrix_array*first_column\n",
    "print(Result)\n"
   ]
  },
  {
   "cell_type": "code",
   "execution_count": null,
   "id": "a1bdada1",
   "metadata": {},
   "outputs": [],
   "source": [
    "final = 1+((1 / N_linear)*Result)\n",
    "print(final)\n"
   ]
  },
  {
   "cell_type": "code",
   "execution_count": null,
   "id": "bcc52b57",
   "metadata": {},
   "outputs": [],
   "source": [
    "Final_ = np.log2(final)\n",
    "print(D*Final_)"
   ]
  },
  {
   "cell_type": "code",
   "execution_count": null,
   "id": "02a3c004",
   "metadata": {},
   "outputs": [],
   "source": [
    "# Function to multiply a row with corresponding columns\n",
    "def multiply_row_with_columns(row, matrix):\n",
    "    results = []\n",
    "    for i, element in enumerate(row):\n",
    "        column = [row[i] for row in matrix]\n",
    "        result = [element * col_element for col_element in column]\n",
    "        results.append(result)\n",
    "    return results\n",
    "\n",
    "# Define the row indices you want to use for the multiplication\n",
    "row_indices = [0,1,2,3,4,5,6,7,8,9,10,11,12,13,14,15,16,17,18,19,20,21,22,23,24,25,26,27,28,29,30,31,32,33,34,35,36,37,38,39,\n",
    "               40, 41, 42, 43, 44, 45, 46, 47, 48, 49,\n",
    "               50, 51, 52, 53, 54, 55, 56, 57, 58, 59,\n",
    "               60, 61, 62, 63, 64, 65, 66, 67, 68, 69,\n",
    "               70, 71, 72, 73, 74, 75, 76, 77, 78, 79, 80]  # You can extend this list to include more row indices\n",
    "\n",
    "# Initialize an empty list to store the results\n",
    "all_results = []\n",
    "\n",
    "# Multiply each element of the specified rows with the corresponding columns\n",
    "for row_idx in row_indices:\n",
    "    row = random_matrix_array[row_idx]\n",
    "    results = multiply_row_with_columns(row, gain_matrix_array)\n",
    "    all_results.append(results)\n",
    "\n",
    "# Print the results\n",
    "for idx, results in enumerate(all_results):\n",
    "    row_idx = row_indices[idx]\n",
    "    print(f\"Results for row {row_idx + 1}:\")\n",
    "    for i, result in enumerate(results):\n",
    "        print(f\"  Element {i + 1} of the row multiplied with the corresponding column:\")\n",
    "        print(f\"  {result}\")\n",
    "    print()\n"
   ]
  },
  {
   "cell_type": "code",
   "execution_count": null,
   "id": "77ffb8b8",
   "metadata": {},
   "outputs": [],
   "source": [
    "for idx, results in enumerate(all_results):\n",
    "    row_idx = row_indices[idx]\n",
    "    print(f\"Results for row {row_idx + 1}:\")\n",
    "    for i, result in enumerate(results):\n",
    "        Final_Result= [D*(math.log2((1+(1/N_linear)*value))) for value in result]\n",
    "        print(f\"  Element {i + 1} of the row multiplied with the corresponding column:\")\n",
    "        print(f\"  {Final_Result}\")  # Add 2 to each element when printing\n",
    "    print()"
   ]
  },
  {
   "cell_type": "code",
   "execution_count": null,
   "id": "df82851e",
   "metadata": {},
   "outputs": [],
   "source": [
    "# Function to sum the resulting matrices for a specific row\n",
    "def sum_resulting_matrices(row_idx, all_results):\n",
    "    return np.sum(all_results[row_idx], axis=0)\n",
    "\n",
    "# Perform addition on many resulting matrices\n",
    "for row_idx in row_indices:\n",
    "    sum_result = sum_resulting_matrices(row_idx, all_results)\n",
    "    print(f\"Sum of the resulting matrices for row {row_idx + 1}: {sum_result}\")"
   ]
  },
  {
   "cell_type": "code",
   "execution_count": null,
   "id": "18378e58",
   "metadata": {},
   "outputs": [],
   "source": []
  },
  {
   "cell_type": "code",
   "execution_count": null,
   "id": "81b30a22",
   "metadata": {},
   "outputs": [],
   "source": []
  }
 ],
 "metadata": {
  "kernelspec": {
   "display_name": "Python 3 (ipykernel)",
   "language": "python",
   "name": "python3"
  },
  "language_info": {
   "codemirror_mode": {
    "name": "ipython",
    "version": 3
   },
   "file_extension": ".py",
   "mimetype": "text/x-python",
   "name": "python",
   "nbconvert_exporter": "python",
   "pygments_lexer": "ipython3",
   "version": "3.9.13"
  }
 },
 "nbformat": 4,
 "nbformat_minor": 5
}
