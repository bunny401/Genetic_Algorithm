{
 "cells": [
  {
   "cell_type": "code",
   "execution_count": null,
   "id": "33a120d5",
   "metadata": {},
   "outputs": [],
   "source": [
    "#imports\n",
    "import math\n",
    "import numpy as np\n",
    "import random"
   ]
  },
  {
   "cell_type": "code",
   "execution_count": null,
   "id": "eab6c46f",
   "metadata": {},
   "outputs": [],
   "source": [
    "#constants\n",
    "D=10**6  #Bandwodth\n",
    "N= -174+10*(math.log10(D))  #Noise in DBM\n",
    "N_linear=(10**(-3))*(10**(N/10))    #Noise in miliwatt\n"
   ]
  },
  {
   "cell_type": "code",
   "execution_count": null,
   "id": "3a5b5764",
   "metadata": {},
   "outputs": [],
   "source": [
    "#variables\n",
    "T=4  #Transimitting antenna  M\n",
    "R=4  #Receiving antennas  N"
   ]
  },
  {
   "cell_type": "code",
   "execution_count": null,
   "id": "c4909d7f",
   "metadata": {},
   "outputs": [],
   "source": [
    "#saving Powers {0,2,4}\n",
    "watt1 = 10 ** (0 / 10) * 0.001\n",
    "watt2 = 10 ** (2 / 10) * 0.001\n",
    "watt3 = 10 ** (4 / 10) * 0.001\n",
    "mylist=[watt1,watt2,watt3]\n",
    "print(mylist)\n"
   ]
  },
  {
   "cell_type": "code",
   "execution_count": null,
   "id": "838d3f83",
   "metadata": {},
   "outputs": [],
   "source": [
    "#creating scenarios in watt\n",
    "def create_random_matrix(rows, columns):\n",
    "    matrix = [[random.choice(mylist) for _ in range(columns)] for _ in range(rows)]\n",
    "    return matrix\n",
    "rows = 81\n",
    "columns = 4\n",
    "random_matrix = create_random_matrix(rows, columns)\n",
    "print(\"The Scenarios are\")\n",
    "\n",
    "for elements in random_matrix:\n",
    "    print(elements)"
   ]
  },
  {
   "cell_type": "code",
   "execution_count": null,
   "id": "12a264e0",
   "metadata": {},
   "outputs": [],
   "source": [
    "#Generate channel matrix H with complex Gaussian random variables (Rayleigh fading)\n",
    "H = np.random.randn(T, R) + 1j * np.random.randn(R, T)\n",
    "print(\"Channel Matirix:\")\n",
    "print(H)"
   ]
  },
  {
   "cell_type": "code",
   "execution_count": null,
   "id": "e1b9b1db",
   "metadata": {},
   "outputs": [],
   "source": [
    "print(abs(H)**2)"
   ]
  },
  {
   "cell_type": "code",
   "execution_count": null,
   "id": "5a81b82e",
   "metadata": {},
   "outputs": [],
   "source": []
  }
 ],
 "metadata": {
  "kernelspec": {
   "display_name": "Python 3 (ipykernel)",
   "language": "python",
   "name": "python3"
  },
  "language_info": {
   "codemirror_mode": {
    "name": "ipython",
    "version": 3
   },
   "file_extension": ".py",
   "mimetype": "text/x-python",
   "name": "python",
   "nbconvert_exporter": "python",
   "pygments_lexer": "ipython3",
   "version": "3.9.13"
  }
 },
 "nbformat": 4,
 "nbformat_minor": 5
}
