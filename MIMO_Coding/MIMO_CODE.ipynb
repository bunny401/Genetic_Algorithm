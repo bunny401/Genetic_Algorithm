{
 "cells": [
  {
   "cell_type": "code",
   "execution_count": 1,
   "id": "33a120d5",
   "metadata": {},
   "outputs": [],
   "source": [
    "#imports\n",
    "import math\n",
    "import numpy as np\n",
    "import random\n",
    "import itertools\n",
    "from random import choices\n",
    "import cmath\n"
   ]
  },
  {
   "cell_type": "code",
   "execution_count": 2,
   "id": "8da48209",
   "metadata": {},
   "outputs": [],
   "source": [
    "#Generating all scenarios in dbm\n",
    "def generate_all_scenarios(powers, no_of_users):\n",
    "    combinations = list(itertools.product(powers, repeat=no_of_users))\n",
    "    return np.array(combinations)\n"
   ]
  },
  {
   "cell_type": "code",
   "execution_count": 3,
   "id": "74d84011",
   "metadata": {
    "scrolled": true
   },
   "outputs": [
    {
     "name": "stdout",
     "output_type": "stream",
     "text": [
      "<class 'numpy.ndarray'>\n",
      "[[0 0 0 0]\n",
      " [0 0 0 2]\n",
      " [0 0 0 4]\n",
      " [0 0 2 0]\n",
      " [0 0 2 2]\n",
      " [0 0 2 4]\n",
      " [0 0 4 0]\n",
      " [0 0 4 2]\n",
      " [0 0 4 4]\n",
      " [0 2 0 0]\n",
      " [0 2 0 2]\n",
      " [0 2 0 4]\n",
      " [0 2 2 0]\n",
      " [0 2 2 2]\n",
      " [0 2 2 4]\n",
      " [0 2 4 0]\n",
      " [0 2 4 2]\n",
      " [0 2 4 4]\n",
      " [0 4 0 0]\n",
      " [0 4 0 2]\n",
      " [0 4 0 4]\n",
      " [0 4 2 0]\n",
      " [0 4 2 2]\n",
      " [0 4 2 4]\n",
      " [0 4 4 0]\n",
      " [0 4 4 2]\n",
      " [0 4 4 4]\n",
      " [2 0 0 0]\n",
      " [2 0 0 2]\n",
      " [2 0 0 4]\n",
      " [2 0 2 0]\n",
      " [2 0 2 2]\n",
      " [2 0 2 4]\n",
      " [2 0 4 0]\n",
      " [2 0 4 2]\n",
      " [2 0 4 4]\n",
      " [2 2 0 0]\n",
      " [2 2 0 2]\n",
      " [2 2 0 4]\n",
      " [2 2 2 0]\n",
      " [2 2 2 2]\n",
      " [2 2 2 4]\n",
      " [2 2 4 0]\n",
      " [2 2 4 2]\n",
      " [2 2 4 4]\n",
      " [2 4 0 0]\n",
      " [2 4 0 2]\n",
      " [2 4 0 4]\n",
      " [2 4 2 0]\n",
      " [2 4 2 2]\n",
      " [2 4 2 4]\n",
      " [2 4 4 0]\n",
      " [2 4 4 2]\n",
      " [2 4 4 4]\n",
      " [4 0 0 0]\n",
      " [4 0 0 2]\n",
      " [4 0 0 4]\n",
      " [4 0 2 0]\n",
      " [4 0 2 2]\n",
      " [4 0 2 4]\n",
      " [4 0 4 0]\n",
      " [4 0 4 2]\n",
      " [4 0 4 4]\n",
      " [4 2 0 0]\n",
      " [4 2 0 2]\n",
      " [4 2 0 4]\n",
      " [4 2 2 0]\n",
      " [4 2 2 2]\n",
      " [4 2 2 4]\n",
      " [4 2 4 0]\n",
      " [4 2 4 2]\n",
      " [4 2 4 4]\n",
      " [4 4 0 0]\n",
      " [4 4 0 2]\n",
      " [4 4 0 4]\n",
      " [4 4 2 0]\n",
      " [4 4 2 2]\n",
      " [4 4 2 4]\n",
      " [4 4 4 0]\n",
      " [4 4 4 2]\n",
      " [4 4 4 4]]\n"
     ]
    }
   ],
   "source": [
    "#Usage\n",
    "powers=[0,2,4]\n",
    "no_of_users= 4\n",
    "\n",
    "result_scenarions_dbm=generate_all_scenarios(powers, no_of_users)\n",
    "print(type(result_scenarions_dbm))\n",
    "print(result_scenarions_dbm)"
   ]
  },
  {
   "cell_type": "code",
   "execution_count": 7,
   "id": "a348683e",
   "metadata": {},
   "outputs": [],
   "source": [
    "def calculate_linear_trans_power(result_scenarions_dbm):\n",
    "    result=(pow(10, -3) * np.power(10.0, np.array(result_scenarions_dbm, dtype=\"float\") / 10))\n",
    "    return result\n"
   ]
  },
  {
   "cell_type": "code",
   "execution_count": 8,
   "id": "e576a6fa",
   "metadata": {
    "scrolled": true
   },
   "outputs": [
    {
     "name": "stdout",
     "output_type": "stream",
     "text": [
      "<class 'numpy.ndarray'>\n",
      "[[0.001      0.001      0.001      0.001     ]\n",
      " [0.001      0.001      0.001      0.00158489]\n",
      " [0.001      0.001      0.001      0.00251189]\n",
      " [0.001      0.001      0.00158489 0.001     ]\n",
      " [0.001      0.001      0.00158489 0.00158489]\n",
      " [0.001      0.001      0.00158489 0.00251189]\n",
      " [0.001      0.001      0.00251189 0.001     ]\n",
      " [0.001      0.001      0.00251189 0.00158489]\n",
      " [0.001      0.001      0.00251189 0.00251189]\n",
      " [0.001      0.00158489 0.001      0.001     ]\n",
      " [0.001      0.00158489 0.001      0.00158489]\n",
      " [0.001      0.00158489 0.001      0.00251189]\n",
      " [0.001      0.00158489 0.00158489 0.001     ]\n",
      " [0.001      0.00158489 0.00158489 0.00158489]\n",
      " [0.001      0.00158489 0.00158489 0.00251189]\n",
      " [0.001      0.00158489 0.00251189 0.001     ]\n",
      " [0.001      0.00158489 0.00251189 0.00158489]\n",
      " [0.001      0.00158489 0.00251189 0.00251189]\n",
      " [0.001      0.00251189 0.001      0.001     ]\n",
      " [0.001      0.00251189 0.001      0.00158489]\n",
      " [0.001      0.00251189 0.001      0.00251189]\n",
      " [0.001      0.00251189 0.00158489 0.001     ]\n",
      " [0.001      0.00251189 0.00158489 0.00158489]\n",
      " [0.001      0.00251189 0.00158489 0.00251189]\n",
      " [0.001      0.00251189 0.00251189 0.001     ]\n",
      " [0.001      0.00251189 0.00251189 0.00158489]\n",
      " [0.001      0.00251189 0.00251189 0.00251189]\n",
      " [0.00158489 0.001      0.001      0.001     ]\n",
      " [0.00158489 0.001      0.001      0.00158489]\n",
      " [0.00158489 0.001      0.001      0.00251189]\n",
      " [0.00158489 0.001      0.00158489 0.001     ]\n",
      " [0.00158489 0.001      0.00158489 0.00158489]\n",
      " [0.00158489 0.001      0.00158489 0.00251189]\n",
      " [0.00158489 0.001      0.00251189 0.001     ]\n",
      " [0.00158489 0.001      0.00251189 0.00158489]\n",
      " [0.00158489 0.001      0.00251189 0.00251189]\n",
      " [0.00158489 0.00158489 0.001      0.001     ]\n",
      " [0.00158489 0.00158489 0.001      0.00158489]\n",
      " [0.00158489 0.00158489 0.001      0.00251189]\n",
      " [0.00158489 0.00158489 0.00158489 0.001     ]\n",
      " [0.00158489 0.00158489 0.00158489 0.00158489]\n",
      " [0.00158489 0.00158489 0.00158489 0.00251189]\n",
      " [0.00158489 0.00158489 0.00251189 0.001     ]\n",
      " [0.00158489 0.00158489 0.00251189 0.00158489]\n",
      " [0.00158489 0.00158489 0.00251189 0.00251189]\n",
      " [0.00158489 0.00251189 0.001      0.001     ]\n",
      " [0.00158489 0.00251189 0.001      0.00158489]\n",
      " [0.00158489 0.00251189 0.001      0.00251189]\n",
      " [0.00158489 0.00251189 0.00158489 0.001     ]\n",
      " [0.00158489 0.00251189 0.00158489 0.00158489]\n",
      " [0.00158489 0.00251189 0.00158489 0.00251189]\n",
      " [0.00158489 0.00251189 0.00251189 0.001     ]\n",
      " [0.00158489 0.00251189 0.00251189 0.00158489]\n",
      " [0.00158489 0.00251189 0.00251189 0.00251189]\n",
      " [0.00251189 0.001      0.001      0.001     ]\n",
      " [0.00251189 0.001      0.001      0.00158489]\n",
      " [0.00251189 0.001      0.001      0.00251189]\n",
      " [0.00251189 0.001      0.00158489 0.001     ]\n",
      " [0.00251189 0.001      0.00158489 0.00158489]\n",
      " [0.00251189 0.001      0.00158489 0.00251189]\n",
      " [0.00251189 0.001      0.00251189 0.001     ]\n",
      " [0.00251189 0.001      0.00251189 0.00158489]\n",
      " [0.00251189 0.001      0.00251189 0.00251189]\n",
      " [0.00251189 0.00158489 0.001      0.001     ]\n",
      " [0.00251189 0.00158489 0.001      0.00158489]\n",
      " [0.00251189 0.00158489 0.001      0.00251189]\n",
      " [0.00251189 0.00158489 0.00158489 0.001     ]\n",
      " [0.00251189 0.00158489 0.00158489 0.00158489]\n",
      " [0.00251189 0.00158489 0.00158489 0.00251189]\n",
      " [0.00251189 0.00158489 0.00251189 0.001     ]\n",
      " [0.00251189 0.00158489 0.00251189 0.00158489]\n",
      " [0.00251189 0.00158489 0.00251189 0.00251189]\n",
      " [0.00251189 0.00251189 0.001      0.001     ]\n",
      " [0.00251189 0.00251189 0.001      0.00158489]\n",
      " [0.00251189 0.00251189 0.001      0.00251189]\n",
      " [0.00251189 0.00251189 0.00158489 0.001     ]\n",
      " [0.00251189 0.00251189 0.00158489 0.00158489]\n",
      " [0.00251189 0.00251189 0.00158489 0.00251189]\n",
      " [0.00251189 0.00251189 0.00251189 0.001     ]\n",
      " [0.00251189 0.00251189 0.00251189 0.00158489]\n",
      " [0.00251189 0.00251189 0.00251189 0.00251189]]\n"
     ]
    }
   ],
   "source": [
    "#Usage\n",
    "result_scenarios_linear=calculate_linear_trans_power(result_scenarions_dbm)\n",
    "print(type(result_scenarios_linear))\n",
    "print(result_scenarios_linear)\n"
   ]
  },
  {
   "cell_type": "code",
   "execution_count": 14,
   "id": "7b559eb5",
   "metadata": {},
   "outputs": [],
   "source": [
    "#Creating Gain Matrix\n",
    "import numpy as geek\n",
    "def channel_matrix(min_distance, max_distance, loss, num_BS_antenna, num_users):\n",
    "    channel_matrix = np.zeros((num_users, num_BS_antenna), dtype=complex)\n",
    "    for i in range(len(channel_matrix)):\n",
    "        d = random.randint(min_distance, max_distance)  # random distance\n",
    "        for j in range(len(channel_matrix[0])):\n",
    "            channel_matrix[i][j] = math.sqrt(pow(d, -loss)) * complex(geek.random.normal(0.0, 1.0), geek.random.normal(0.0, 1.0)) / math.sqrt(2)\n",
    "\n",
    "    gain_matrix = geek.random.normal(0.0, 0.0, (num_users, num_BS_antenna))\n",
    "\n",
    "    for m in range(len(gain_matrix)):\n",
    "        for n in range(len(gain_matrix[0])):\n",
    "            gain_matrix[m][n] = pow(abs(channel_matrix[m][n]), 2)\n",
    "    return gain_matrix\n",
    "\n"
   ]
  },
  {
   "cell_type": "code",
   "execution_count": 15,
   "id": "45325126",
   "metadata": {},
   "outputs": [
    {
     "name": "stdout",
     "output_type": "stream",
     "text": [
      "[[6.82295009e-01 8.20151041e-01 2.95217279e-01 1.27238638e+00]\n",
      " [1.77414623e-04 8.90527796e-05 1.92262191e-06 2.72259091e-05]\n",
      " [1.10038584e-06 4.43180673e-07 2.76906884e-06 1.60768953e-06]\n",
      " [4.86874676e-04 6.15279673e-05 9.82926394e-05 1.55451429e-04]\n",
      " [1.18466234e-05 5.17021040e-05 2.25816243e-06 6.19833827e-05]]\n"
     ]
    }
   ],
   "source": [
    "# Example usage\n",
    "min_distance = 1\n",
    "max_distance = 100\n",
    "loss = 3\n",
    "num_BS_antenna = 4\n",
    "num_users = 5\n",
    "\n",
    "Gain_matrix=channel_matrix(min_distance, max_distance, loss, num_BS_antenna, num_users)\n",
    "print(Gain_matrix)"
   ]
  },
  {
   "cell_type": "code",
   "execution_count": 19,
   "id": "b9de36aa",
   "metadata": {},
   "outputs": [],
   "source": [
    "#summing columns of gain matrix\n",
    "def column_sums(Gain_matrix):\n",
    "    summation_matrix = np.sum(Gain_matrix, axis=0)\n",
    "    return summation_matrix"
   ]
  },
  {
   "cell_type": "code",
   "execution_count": 20,
   "id": "69648287",
   "metadata": {},
   "outputs": [
    {
     "name": "stdout",
     "output_type": "stream",
     "text": [
      "Column sums of the gain matrix:\n",
      " [0.68297225 0.82035377 0.29532252 1.27263265]\n"
     ]
    }
   ],
   "source": [
    "#example usage\n",
    "sum_gain = column_sums(Gain_matrix)\n",
    "# Printing the result\n",
    "print(\"Column sums of the gain matrix:\\n\", sum_gain)"
   ]
  },
  {
   "cell_type": "code",
   "execution_count": 38,
   "id": "fbd29c84",
   "metadata": {},
   "outputs": [],
   "source": [
    "def calculate_linear_trans_power(population): # converting noise to watt\n",
    "    return pow(10, -3) * np.power(10.0, np.array(population, dtype=\"float\") / 10)"
   ]
  },
  {
   "cell_type": "code",
   "execution_count": 42,
   "id": "fe9fde2e",
   "metadata": {},
   "outputs": [
    {
     "name": "stdout",
     "output_type": "stream",
     "text": [
      "Linear noise: [3.98107171e-15]\n"
     ]
    }
   ],
   "source": [
    "#usage\n",
    "D=10**6\n",
    "N = -174 + 10 * math.log10(D) #noise in dbm\n",
    "linear_noise = calculate_linear_trans_power([N])\n",
    "print(\"Linear noise:\", linear_noise)"
   ]
  },
  {
   "cell_type": "code",
   "execution_count": 51,
   "id": "06a9167e",
   "metadata": {
    "scrolled": true
   },
   "outputs": [],
   "source": [
    "def calculate_row_sums(result_scenarios_linear, sum_gain, linear_noise):\n",
    "    a = np.array(result_scenarios_linear)\n",
    "    b = np.array(sum_gain)\n",
    "    bit_rate_matrix = (D * np.log2(1 + ((a * b) / linear_noise)))\n",
    "    row_sums = np.sum(bit_rate_matrix, axis=1)\n",
    "    return row_sums\n",
    "\n",
    "def print_row_sums(row_sums):\n",
    "    print(\"Sum of each row:\")\n",
    "    for i, row_sum in enumerate(row_sums):\n",
    "        print(f\"{row_sum}\")\n",
    "        \n",
    "# print(bit_rate_matrix)"
   ]
  },
  {
   "cell_type": "code",
   "execution_count": 47,
   "id": "180327d5",
   "metadata": {},
   "outputs": [
    {
     "name": "stdout",
     "output_type": "stream",
     "text": [
      "Sum of each row:\n",
      "149232317.40425393\n",
      "149896703.02322975\n",
      "150561088.64220616\n",
      "149896703.02322423\n",
      "150561088.64220005\n",
      "151225474.26117647\n",
      "150561088.64219716\n",
      "151225474.26117298\n",
      "151889859.8801494\n",
      "149896703.02322882\n",
      "150561088.64220464\n",
      "151225474.26118106\n",
      "150561088.64219913\n",
      "151225474.26117495\n",
      "151889859.88015136\n",
      "151225474.26117206\n",
      "151889859.88014787\n",
      "152554245.4991243\n",
      "150561088.64220467\n",
      "151225474.2611805\n",
      "151889859.8801569\n",
      "151225474.26117498\n",
      "151889859.8801508\n",
      "152554245.4991272\n",
      "151889859.8801479\n",
      "152554245.49912372\n",
      "153218631.11810014\n",
      "149896703.02322832\n",
      "150561088.64220414\n",
      "151225474.26118055\n",
      "150561088.64219862\n",
      "151225474.26117444\n",
      "151889859.88015085\n",
      "151225474.26117155\n",
      "151889859.88014737\n",
      "152554245.49912378\n",
      "150561088.6422032\n",
      "151225474.26117903\n",
      "151889859.88015544\n",
      "151225474.26117352\n",
      "151889859.88014933\n",
      "152554245.49912575\n",
      "151889859.88014644\n",
      "152554245.49912226\n",
      "153218631.11809868\n",
      "151225474.26117906\n",
      "151889859.88015485\n",
      "152554245.4991313\n",
      "151889859.88014933\n",
      "152554245.49912515\n",
      "153218631.11810157\n",
      "152554245.4991223\n",
      "153218631.1180981\n",
      "153883016.73707452\n",
      "150561088.64220384\n",
      "151225474.26117963\n",
      "151889859.88015607\n",
      "151225474.2611741\n",
      "151889859.88014993\n",
      "152554245.49912634\n",
      "151889859.88014707\n",
      "152554245.4991229\n",
      "153218631.1180993\n",
      "151225474.26117873\n",
      "151889859.88015455\n",
      "152554245.49913096\n",
      "151889859.880149\n",
      "152554245.49912483\n",
      "153218631.11810124\n",
      "152554245.49912196\n",
      "153218631.11809778\n",
      "153883016.7370742\n",
      "151889859.88015455\n",
      "152554245.49913037\n",
      "153218631.11810678\n",
      "152554245.49912485\n",
      "153218631.11810067\n",
      "153883016.7370771\n",
      "153218631.11809778\n",
      "153883016.7370736\n",
      "154547402.35605\n"
     ]
    }
   ],
   "source": [
    "print_row_sums(row_sums)"
   ]
  },
  {
   "cell_type": "code",
   "execution_count": 54,
   "id": "447cfaa2",
   "metadata": {},
   "outputs": [
    {
     "name": "stdout",
     "output_type": "stream",
     "text": [
      "Average of row sums: 151889859.8801511\n"
     ]
    }
   ],
   "source": [
    "def calculate_average(row_sums):\n",
    "    return np.mean(row_sums)\n",
    "average = calculate_average(row_sums)\n",
    "print(\"Average of row sums:\", average)"
   ]
  },
  {
   "cell_type": "code",
   "execution_count": null,
   "id": "af4acb98",
   "metadata": {},
   "outputs": [],
   "source": [
    "def constrained_optimization_algorithm(scenarios_in_linear, total_bitrate,average_sum  ):\n",
    "    "
   ]
  },
  {
   "cell_type": "code",
   "execution_count": null,
   "id": "87223842",
   "metadata": {},
   "outputs": [],
   "source": []
  },
  {
   "cell_type": "code",
   "execution_count": null,
   "id": "aa5d056f",
   "metadata": {},
   "outputs": [],
   "source": []
  },
  {
   "cell_type": "code",
   "execution_count": null,
   "id": "3246c819",
   "metadata": {},
   "outputs": [],
   "source": []
  },
  {
   "cell_type": "code",
   "execution_count": null,
   "id": "9026ae03",
   "metadata": {
    "scrolled": false
   },
   "outputs": [],
   "source": [
    "\n"
   ]
  },
  {
   "cell_type": "code",
   "execution_count": null,
   "id": "a1bdada1",
   "metadata": {},
   "outputs": [],
   "source": [
    "scenarios = [\n",
    "        [0.001, 0.001, 0.001, 0.001],\n",
    "        [0.001, 0.001, 0.001, 0.00158489],\n",
    "        [0.001, 0.001, 0.001, 0.00251189],\n",
    "        [0.001, 0.001, 0.00158489, 0.001],\n",
    "        [0.001, 0.001, 0.00158489, 0.00158489],\n",
    "        [0.001, 0.001, 0.00158489, 0.00251189]\n",
    "    ]\n",
    "row_sums = [\n",
    "    [0.004],\n",
    "    [0.00458489],\n",
    "    [0.00551189],\n",
    "    [0.00458489],\n",
    "    [0.00516878],\n",
    "    [0.00609578]\n",
    "]\n",
    "\n",
    "total_bitrate_matrix = [\n",
    "    [4000000.0001460826],\n",
    "    [4000000.0001848647],\n",
    "    [4000000.0002463306],\n",
    "    [4000000.000159239],\n",
    "    [4000000.000198021],\n",
    "    [4000000.000259487]\n",
    "]\n",
    "\n",
    "average_bitrate = 4000000.0001996185\n",
    "\n",
    "\n",
    "# Initialize lowest_bitrate to be infinity\n",
    "lowest_bitrate = float('inf')\n",
    "\n",
    "# Iterate over the row_sums and total_bitrate_matrix simultaneously\n",
    "for i, (row_sum, total_bitrate) in enumerate(zip(row_sums, total_bitrate_matrix)):\n",
    "    # Check if the total bitrate is greater than or equal to the average bitrate\n",
    "    if total_bitrate[0] >= average_bitrate:\n",
    "        # Check if the row sum is less than the current lowest bitrate\n",
    "        if row_sum[0] < lowest_bitrate:\n",
    "            # Update the lowest bitrate, lowest bitrate scenario, and lowest bitrate scenario's power values\n",
    "            lowest_bitrate = row_sum[0]\n",
    "            lowest_bitrate_scenario = i+1\n",
    "            lowest_bitrate_scenario_powers = scenarios[i]\n",
    "\n",
    "# Print the lowest bitrate scenario, bitrate, and the power values used to obtain the lowest bitrate\n",
    "if lowest_bitrate_scenario:\n",
    "    print(f\"Lowest possible bitrate scenario: {lowest_bitrate_scenario}\")\n",
    "    print(f\"Lowest possible bitrate: {lowest_bitrate}\")\n",
    "    print(f\"Power values used for the lowest bitrate scenario: {lowest_bitrate_scenario_powers}\")\n",
    "else:\n",
    "    print(\"No scenario achieves a total bitrate greater than or equal to the average bitrate.\")\n"
   ]
  },
  {
   "cell_type": "code",
   "execution_count": null,
   "id": "bcc52b57",
   "metadata": {},
   "outputs": [],
   "source": []
  },
  {
   "cell_type": "code",
   "execution_count": null,
   "id": "02a3c004",
   "metadata": {},
   "outputs": [],
   "source": [
    "\n"
   ]
  },
  {
   "cell_type": "code",
   "execution_count": null,
   "id": "77ffb8b8",
   "metadata": {},
   "outputs": [],
   "source": []
  },
  {
   "cell_type": "code",
   "execution_count": null,
   "id": "df82851e",
   "metadata": {},
   "outputs": [],
   "source": []
  },
  {
   "cell_type": "code",
   "execution_count": null,
   "id": "18378e58",
   "metadata": {},
   "outputs": [],
   "source": []
  },
  {
   "cell_type": "code",
   "execution_count": null,
   "id": "81b30a22",
   "metadata": {},
   "outputs": [],
   "source": []
  }
 ],
 "metadata": {
  "kernelspec": {
   "display_name": "Python 3 (ipykernel)",
   "language": "python",
   "name": "python3"
  },
  "language_info": {
   "codemirror_mode": {
    "name": "ipython",
    "version": 3
   },
   "file_extension": ".py",
   "mimetype": "text/x-python",
   "name": "python",
   "nbconvert_exporter": "python",
   "pygments_lexer": "ipython3",
   "version": "3.9.13"
  }
 },
 "nbformat": 4,
 "nbformat_minor": 5
}
