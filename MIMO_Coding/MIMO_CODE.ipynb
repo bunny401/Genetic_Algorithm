{
 "cells": [
  {
   "cell_type": "code",
   "execution_count": null,
   "id": "33a120d5",
   "metadata": {},
   "outputs": [],
   "source": [
    "#imports\n",
    "import math\n",
    "import numpy as np\n",
    "import random"
   ]
  },
  {
   "cell_type": "code",
   "execution_count": null,
   "id": "eab6c46f",
   "metadata": {},
   "outputs": [],
   "source": [
    "#constants\n",
    "D=10**6  #Bandwodth\n",
    "N= -174+10*(math.log10(D))  #Noise in DBM\n",
    "N_linear=(N)*(10**(-3))*(10**(N/10))    #Noise in miliwatt\n"
   ]
  },
  {
   "cell_type": "code",
   "execution_count": null,
   "id": "b0edde7c",
   "metadata": {},
   "outputs": [],
   "source": [
    "#variables\n",
    "T=4  #Transimitting antenna  M\n",
    "R=4  #Receiving antennas  N"
   ]
  },
  {
   "cell_type": "code",
   "execution_count": null,
   "id": "c4909d7f",
   "metadata": {},
   "outputs": [],
   "source": [
    "#converting Powers {0,2,4}dbm to watt  rounded to 4 decimal palce\n",
    "watt1 =round(10 ** (0 / 10) * 0.001, 4) \n",
    "watt2 = round(10 ** (2 / 10) * 0.001, 4)\n",
    "watt3 = round(10 ** (4 / 10) * 0.001,4)\n",
    "mylist=[watt1,watt2,watt3]\n",
    "print(mylist)\n"
   ]
  },
  {
   "cell_type": "code",
   "execution_count": null,
   "id": "838d3f83",
   "metadata": {
    "scrolled": true
   },
   "outputs": [],
   "source": [
    "#creating scenarios in watt\n",
    "n=1\n",
    "def create_random_matrix(rows, columns):\n",
    "    matrix = [[random.choice(mylist) for _ in range(columns)] for _ in range(rows)]\n",
    "    return matrix\n",
    "rows = 81\n",
    "columns = 4\n",
    "random_matrix = create_random_matrix(rows, columns)  #the matrix\n",
    "\n",
    "random_matrix_array=np.array(random_matrix)  #converting the matrix to array\n",
    "print(random_matrix_array)\n",
    "\n",
    "\n",
    "\n"
   ]
  },
  {
   "cell_type": "code",
   "execution_count": null,
   "id": "71f5e95b",
   "metadata": {},
   "outputs": [],
   "source": [
    "def channel_matrix(min_distance, max_distance, loss, num_BS_antenna, num_users):\n",
    "    channel_matrix = np.zeros((num_users, num_BS_antenna), dtype=complex)\n",
    "    \n",
    "    for i in range(num_users):\n",
    "        d = random.randint(min_distance, max_distance)  # random distance\n",
    "        path_loss_factor = d ** (-loss)\n",
    "        \n",
    "        for j in range(num_BS_antenna):\n",
    "            channel_coefficient = path_loss_factor * (np.random.randn() + 1j * np.random.randn()) / np.sqrt(2)\n",
    "            channel_matrix[i][j] = channel_coefficient\n",
    "            \n",
    "    gain_matrix = np.abs(channel_matrix) ** 2\n",
    "    return channel_matrix, gain_matrix\n",
    "\n",
    "# Example usage\n",
    "min_distance = 500\n",
    "max_distance = 1000\n",
    "loss = 4\n",
    "num_BS_antenna = 4\n",
    "num_users = 4\n",
    "\n",
    "channel_mat, gain_matrix = channel_matrix(min_distance, max_distance, loss, num_BS_antenna, num_users)\n",
    "\n",
    "channel_mat_array=np.array(channel_mat)  #matrix\n",
    "print(\"Channel matrix:\\n\", channel_mat_array)   #converting the matrix to array\n",
    "\n",
    "gain_matrix_array=np.array(gain_matrix)   #matrix\n",
    "print(\"Gain matrix:\\n\", gain_matrix_array)     #converting the matrix to array\n",
    "\n",
    "\n",
    "\n"
   ]
  },
  {
   "cell_type": "code",
   "execution_count": null,
   "id": "87223842",
   "metadata": {},
   "outputs": [],
   "source": [
    "first_row_random_matrix_array = random_matrix_array[0][0]\n",
    "print (first_row_random_matrix_array)\n"
   ]
  },
  {
   "cell_type": "code",
   "execution_count": null,
   "id": "3246c819",
   "metadata": {},
   "outputs": [],
   "source": [
    "first_column=gain_matrix_array[:, 0]\n",
    "print (first_column)"
   ]
  },
  {
   "cell_type": "code",
   "execution_count": null,
   "id": "9026ae03",
   "metadata": {},
   "outputs": [],
   "source": [
    "Result=first_row_random_matrix_array*first_column\n",
    "print(Result)\n"
   ]
  },
  {
   "cell_type": "code",
   "execution_count": 180,
   "id": "216bdf45",
   "metadata": {},
   "outputs": [
    {
     "name": "stdout",
     "output_type": "stream",
     "text": [
      "[1. 1. 1. 1.]\n"
     ]
    }
   ],
   "source": [
    "final = 1+((1 / N_linear)*Result)\n",
    "print(final)\n"
   ]
  },
  {
   "cell_type": "code",
   "execution_count": 184,
   "id": "02ddf479",
   "metadata": {},
   "outputs": [
    {
     "name": "stdout",
     "output_type": "stream",
     "text": [
      "[-3.65190621e-08 -1.60491668e-07 -9.49815958e-08 -1.08275816e-07]\n"
     ]
    }
   ],
   "source": [
    "Final_ = np.log2(final)\n",
    "print(D*Final_)"
   ]
  },
  {
   "cell_type": "code",
   "execution_count": null,
   "id": "c05ab4d5",
   "metadata": {},
   "outputs": [],
   "source": []
  },
  {
   "cell_type": "code",
   "execution_count": null,
   "id": "44cef153",
   "metadata": {},
   "outputs": [],
   "source": []
  },
  {
   "cell_type": "code",
   "execution_count": null,
   "id": "59dd00a1",
   "metadata": {},
   "outputs": [],
   "source": []
  },
  {
   "cell_type": "code",
   "execution_count": null,
   "id": "59551b93",
   "metadata": {},
   "outputs": [],
   "source": []
  }
 ],
 "metadata": {
  "kernelspec": {
   "display_name": "Python 3 (ipykernel)",
   "language": "python",
   "name": "python3"
  },
  "language_info": {
   "codemirror_mode": {
    "name": "ipython",
    "version": 3
   },
   "file_extension": ".py",
   "mimetype": "text/x-python",
   "name": "python",
   "nbconvert_exporter": "python",
   "pygments_lexer": "ipython3",
   "version": "3.9.13"
  }
 },
 "nbformat": 4,
 "nbformat_minor": 5
}
