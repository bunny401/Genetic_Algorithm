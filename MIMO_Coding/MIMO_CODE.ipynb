{
 "cells": [
  {
   "cell_type": "code",
   "execution_count": 41,
   "id": "33a120d5",
   "metadata": {},
   "outputs": [],
   "source": [
    "#imports\n",
    "import math\n",
    "import numpy as np\n",
    "import random\n",
    "import itertools"
   ]
  },
  {
   "cell_type": "code",
   "execution_count": 42,
   "id": "eab6c46f",
   "metadata": {},
   "outputs": [],
   "source": [
    "#constants\n",
    "D=10**6  #Bandwodth\n",
    "N= -174+10*(math.log10(D))  #Noise in DBM\n",
    "N_linear=(N)*(10**(-3))*(10**(N/10))    #Noise in miliwatt\n"
   ]
  },
  {
   "cell_type": "code",
   "execution_count": 48,
   "id": "970024a9",
   "metadata": {},
   "outputs": [
    {
     "name": "stdout",
     "output_type": "stream",
     "text": [
      "[0.001   0.00158 0.00251]\n"
     ]
    }
   ],
   "source": [
    "population = [0, 2, 4]\n",
    "linear_power_values=calculate_linear_trans_power(population)\n",
    "rounded_values = np.round(linear_power_values, 5)\n",
    "print(rounded_values)"
   ]
  },
  {
   "cell_type": "code",
   "execution_count": 51,
   "id": "922340c9",
   "metadata": {
    "scrolled": true
   },
   "outputs": [
    {
     "name": "stdout",
     "output_type": "stream",
     "text": [
      "1. (0, 0, 0, 0) => [0.001 0.001 0.001 0.001]\n",
      "2. (0, 0, 0, 2) => [0.001      0.001      0.001      0.00158489]\n",
      "3. (0, 0, 0, 4) => [0.001      0.001      0.001      0.00251189]\n",
      "4. (0, 0, 2, 0) => [0.001      0.001      0.00158489 0.001     ]\n",
      "5. (0, 0, 2, 2) => [0.001      0.001      0.00158489 0.00158489]\n",
      "6. (0, 0, 2, 4) => [0.001      0.001      0.00158489 0.00251189]\n",
      "7. (0, 0, 4, 0) => [0.001      0.001      0.00251189 0.001     ]\n",
      "8. (0, 0, 4, 2) => [0.001      0.001      0.00251189 0.00158489]\n",
      "9. (0, 0, 4, 4) => [0.001      0.001      0.00251189 0.00251189]\n",
      "10. (0, 2, 0, 0) => [0.001      0.00158489 0.001      0.001     ]\n",
      "11. (0, 2, 0, 2) => [0.001      0.00158489 0.001      0.00158489]\n",
      "12. (0, 2, 0, 4) => [0.001      0.00158489 0.001      0.00251189]\n",
      "13. (0, 2, 2, 0) => [0.001      0.00158489 0.00158489 0.001     ]\n",
      "14. (0, 2, 2, 2) => [0.001      0.00158489 0.00158489 0.00158489]\n",
      "15. (0, 2, 2, 4) => [0.001      0.00158489 0.00158489 0.00251189]\n",
      "16. (0, 2, 4, 0) => [0.001      0.00158489 0.00251189 0.001     ]\n",
      "17. (0, 2, 4, 2) => [0.001      0.00158489 0.00251189 0.00158489]\n",
      "18. (0, 2, 4, 4) => [0.001      0.00158489 0.00251189 0.00251189]\n",
      "19. (0, 4, 0, 0) => [0.001      0.00251189 0.001      0.001     ]\n",
      "20. (0, 4, 0, 2) => [0.001      0.00251189 0.001      0.00158489]\n",
      "21. (0, 4, 0, 4) => [0.001      0.00251189 0.001      0.00251189]\n",
      "22. (0, 4, 2, 0) => [0.001      0.00251189 0.00158489 0.001     ]\n",
      "23. (0, 4, 2, 2) => [0.001      0.00251189 0.00158489 0.00158489]\n",
      "24. (0, 4, 2, 4) => [0.001      0.00251189 0.00158489 0.00251189]\n",
      "25. (0, 4, 4, 0) => [0.001      0.00251189 0.00251189 0.001     ]\n",
      "26. (0, 4, 4, 2) => [0.001      0.00251189 0.00251189 0.00158489]\n",
      "27. (0, 4, 4, 4) => [0.001      0.00251189 0.00251189 0.00251189]\n",
      "28. (2, 0, 0, 0) => [0.00158489 0.001      0.001      0.001     ]\n",
      "29. (2, 0, 0, 2) => [0.00158489 0.001      0.001      0.00158489]\n",
      "30. (2, 0, 0, 4) => [0.00158489 0.001      0.001      0.00251189]\n",
      "31. (2, 0, 2, 0) => [0.00158489 0.001      0.00158489 0.001     ]\n",
      "32. (2, 0, 2, 2) => [0.00158489 0.001      0.00158489 0.00158489]\n",
      "33. (2, 0, 2, 4) => [0.00158489 0.001      0.00158489 0.00251189]\n",
      "34. (2, 0, 4, 0) => [0.00158489 0.001      0.00251189 0.001     ]\n",
      "35. (2, 0, 4, 2) => [0.00158489 0.001      0.00251189 0.00158489]\n",
      "36. (2, 0, 4, 4) => [0.00158489 0.001      0.00251189 0.00251189]\n",
      "37. (2, 2, 0, 0) => [0.00158489 0.00158489 0.001      0.001     ]\n",
      "38. (2, 2, 0, 2) => [0.00158489 0.00158489 0.001      0.00158489]\n",
      "39. (2, 2, 0, 4) => [0.00158489 0.00158489 0.001      0.00251189]\n",
      "40. (2, 2, 2, 0) => [0.00158489 0.00158489 0.00158489 0.001     ]\n",
      "41. (2, 2, 2, 2) => [0.00158489 0.00158489 0.00158489 0.00158489]\n",
      "42. (2, 2, 2, 4) => [0.00158489 0.00158489 0.00158489 0.00251189]\n",
      "43. (2, 2, 4, 0) => [0.00158489 0.00158489 0.00251189 0.001     ]\n",
      "44. (2, 2, 4, 2) => [0.00158489 0.00158489 0.00251189 0.00158489]\n",
      "45. (2, 2, 4, 4) => [0.00158489 0.00158489 0.00251189 0.00251189]\n",
      "46. (2, 4, 0, 0) => [0.00158489 0.00251189 0.001      0.001     ]\n",
      "47. (2, 4, 0, 2) => [0.00158489 0.00251189 0.001      0.00158489]\n",
      "48. (2, 4, 0, 4) => [0.00158489 0.00251189 0.001      0.00251189]\n",
      "49. (2, 4, 2, 0) => [0.00158489 0.00251189 0.00158489 0.001     ]\n",
      "50. (2, 4, 2, 2) => [0.00158489 0.00251189 0.00158489 0.00158489]\n",
      "51. (2, 4, 2, 4) => [0.00158489 0.00251189 0.00158489 0.00251189]\n",
      "52. (2, 4, 4, 0) => [0.00158489 0.00251189 0.00251189 0.001     ]\n",
      "53. (2, 4, 4, 2) => [0.00158489 0.00251189 0.00251189 0.00158489]\n",
      "54. (2, 4, 4, 4) => [0.00158489 0.00251189 0.00251189 0.00251189]\n",
      "55. (4, 0, 0, 0) => [0.00251189 0.001      0.001      0.001     ]\n",
      "56. (4, 0, 0, 2) => [0.00251189 0.001      0.001      0.00158489]\n",
      "57. (4, 0, 0, 4) => [0.00251189 0.001      0.001      0.00251189]\n",
      "58. (4, 0, 2, 0) => [0.00251189 0.001      0.00158489 0.001     ]\n",
      "59. (4, 0, 2, 2) => [0.00251189 0.001      0.00158489 0.00158489]\n",
      "60. (4, 0, 2, 4) => [0.00251189 0.001      0.00158489 0.00251189]\n",
      "61. (4, 0, 4, 0) => [0.00251189 0.001      0.00251189 0.001     ]\n",
      "62. (4, 0, 4, 2) => [0.00251189 0.001      0.00251189 0.00158489]\n",
      "63. (4, 0, 4, 4) => [0.00251189 0.001      0.00251189 0.00251189]\n",
      "64. (4, 2, 0, 0) => [0.00251189 0.00158489 0.001      0.001     ]\n",
      "65. (4, 2, 0, 2) => [0.00251189 0.00158489 0.001      0.00158489]\n",
      "66. (4, 2, 0, 4) => [0.00251189 0.00158489 0.001      0.00251189]\n",
      "67. (4, 2, 2, 0) => [0.00251189 0.00158489 0.00158489 0.001     ]\n",
      "68. (4, 2, 2, 2) => [0.00251189 0.00158489 0.00158489 0.00158489]\n",
      "69. (4, 2, 2, 4) => [0.00251189 0.00158489 0.00158489 0.00251189]\n",
      "70. (4, 2, 4, 0) => [0.00251189 0.00158489 0.00251189 0.001     ]\n",
      "71. (4, 2, 4, 2) => [0.00251189 0.00158489 0.00251189 0.00158489]\n",
      "72. (4, 2, 4, 4) => [0.00251189 0.00158489 0.00251189 0.00251189]\n",
      "73. (4, 4, 0, 0) => [0.00251189 0.00251189 0.001      0.001     ]\n",
      "74. (4, 4, 0, 2) => [0.00251189 0.00251189 0.001      0.00158489]\n",
      "75. (4, 4, 0, 4) => [0.00251189 0.00251189 0.001      0.00251189]\n",
      "76. (4, 4, 2, 0) => [0.00251189 0.00251189 0.00158489 0.001     ]\n",
      "77. (4, 4, 2, 2) => [0.00251189 0.00251189 0.00158489 0.00158489]\n",
      "78. (4, 4, 2, 4) => [0.00251189 0.00251189 0.00158489 0.00251189]\n",
      "79. (4, 4, 4, 0) => [0.00251189 0.00251189 0.00251189 0.001     ]\n",
      "80. (4, 4, 4, 2) => [0.00251189 0.00251189 0.00251189 0.00158489]\n",
      "81. (4, 4, 4, 4) => [0.00251189 0.00251189 0.00251189 0.00251189]\n"
     ]
    }
   ],
   "source": [
    "import itertools\n",
    "import numpy as np\n",
    "\n",
    "def generate_all_scenarios(powers, no_of_users):\n",
    "    combinations = list(itertools.product(powers, repeat=no_of_users))\n",
    "    return combinations\n",
    "\n",
    "def calculate_linear_trans_power(population):\n",
    "    return pow(10, -3) * np.power(10.0, np.array(population, dtype=\"float\") / 10)\n",
    "\n",
    "def print_linear_power_values(scenarios):\n",
    "    for index, scenario in enumerate(scenarios, start=1):\n",
    "        linear_power_values = calculate_linear_trans_power(scenario)\n",
    "        print(f\"{index}. {scenario} => {linear_power_values}\")\n",
    "\n",
    "# Example usage\n",
    "powers = [0, 2, 4]  #in dbm\n",
    "no_of_users = 4\n",
    "scenarios = generate_all_scenarios(powers, no_of_users)\n",
    "print_linear_power_values(scenarios)\n"
   ]
  },
  {
   "cell_type": "code",
   "execution_count": 50,
   "id": "71f5e95b",
   "metadata": {
    "scrolled": true
   },
   "outputs": [
    {
     "name": "stdout",
     "output_type": "stream",
     "text": [
      "Channel matrix:\n",
      " [[ 1.56883252e-12+1.89430508e-12j -1.12532619e-12-6.14267477e-15j\n",
      "  -7.08702614e-13-1.88268653e-12j  9.30897799e-13-2.45813320e-12j]\n",
      " [ 1.81748906e-11+4.33378180e-12j -1.66230729e-11+1.33865531e-11j\n",
      "   7.14195342e-12-2.52061025e-11j  1.95893562e-12-9.10645442e-12j]\n",
      " [-6.27317478e-12+3.82988980e-12j -5.76788024e-12-6.38299084e-12j\n",
      "  -1.85401113e-12+1.13347531e-11j -8.53924063e-12+2.68030008e-12j]\n",
      " [ 2.37459288e-12+1.54189418e-11j  5.27370590e-12-6.87775516e-12j\n",
      "  -6.76371227e-12-5.92823045e-12j -7.27144062e-12-5.23033934e-13j]]\n",
      "Gain matrix:\n",
      " [[6.04962721e-24 1.26639678e-24 4.04676798e-24 6.90898953e-24]\n",
      " [3.49108313e-22 4.55526357e-22 6.86355102e-22 8.67649408e-23]\n",
      " [5.40207777e-23 7.40110145e-23 1.31913985e-22 8.01026391e-23]\n",
      " [2.43382458e-22 7.51154899e-23 8.08917200e-23 5.31474133e-23]]\n"
     ]
    }
   ],
   "source": [
    "#Creating Gain Matrix\n",
    "def channel_matrix(min_distance, max_distance, loss, num_BS_antenna, num_users):\n",
    "    channel_matrix = np.zeros((num_users, num_BS_antenna), dtype=complex)\n",
    "    \n",
    "    for i in range(num_users):\n",
    "        d = random.randint(min_distance, max_distance)  # random distance\n",
    "        path_loss_factor = d ** (-loss)\n",
    "        \n",
    "        for j in range(num_BS_antenna):\n",
    "            channel_coefficient = path_loss_factor * (np.random.randn() + 1j * np.random.randn()) / np.sqrt(2)\n",
    "            channel_matrix[i][j] = channel_coefficient\n",
    "            \n",
    "    gain_matrix = np.abs(channel_matrix) ** 2\n",
    "    return channel_matrix, gain_matrix\n",
    "\n",
    "# Example usage\n",
    "min_distance = 500\n",
    "max_distance = 1000\n",
    "loss = 4\n",
    "num_BS_antenna = 4\n",
    "num_users = 4\n",
    "\n",
    "channel_mat, gain_matrix = channel_matrix(min_distance, max_distance, loss, num_BS_antenna, num_users)\n",
    "\n",
    "channel_mat_array=np.array(channel_mat)  #Printing chaneel Matrix\n",
    "print(\"Channel matrix:\\n\", channel_mat_array)   #converting the matrix to array\n",
    "\n",
    "gain_matrix_array=np.array(gain_matrix)   #Printing Gain Matrix\n",
    "print(\"Gain matrix:\\n\", gain_matrix_array)     #converting the matrix to array\n"
   ]
  },
  {
   "cell_type": "code",
   "execution_count": null,
   "id": "87223842",
   "metadata": {},
   "outputs": [],
   "source": [
    "# first_row_random_matrix_array = random_matrix_array[0][0]\n",
    "# print (first_row_random_matrix_array)\n"
   ]
  },
  {
   "cell_type": "code",
   "execution_count": null,
   "id": "3246c819",
   "metadata": {},
   "outputs": [],
   "source": [
    "# for j in range(gain_matrix_array.shape[1]):\n",
    "#     column = gain_matrix_array[:,j]\n",
    "#     print(column)\n",
    "\n",
    "\n",
    "# first_column=gain_matrix_array[:, 0]\n",
    "# print (first_column)"
   ]
  },
  {
   "cell_type": "code",
   "execution_count": null,
   "id": "9026ae03",
   "metadata": {
    "scrolled": false
   },
   "outputs": [],
   "source": [
    "# Result=first_row_random_matrix_array*first_column\n",
    "# print(Result)\n"
   ]
  },
  {
   "cell_type": "code",
   "execution_count": null,
   "id": "a1bdada1",
   "metadata": {},
   "outputs": [],
   "source": [
    "# final = 1+((1 / N_linear)*Result)\n",
    "# print(final)\n"
   ]
  },
  {
   "cell_type": "code",
   "execution_count": null,
   "id": "bcc52b57",
   "metadata": {},
   "outputs": [],
   "source": [
    "# Final_ = np.log2(final)\n",
    "# print(D*Final_)"
   ]
  },
  {
   "cell_type": "code",
   "execution_count": 25,
   "id": "02a3c004",
   "metadata": {},
   "outputs": [
    {
     "ename": "NameError",
     "evalue": "name 'random_matrix_array' is not defined",
     "output_type": "error",
     "traceback": [
      "\u001b[1;31m---------------------------------------------------------------------------\u001b[0m",
      "\u001b[1;31mNameError\u001b[0m                                 Traceback (most recent call last)",
      "\u001b[1;32m~\\AppData\\Local\\Temp\\ipykernel_17236\\3323136277.py\u001b[0m in \u001b[0;36m<module>\u001b[1;34m\u001b[0m\n\u001b[0;32m     20\u001b[0m \u001b[1;31m# Multiply each element of the specified rows with the corresponding columns\u001b[0m\u001b[1;33m\u001b[0m\u001b[1;33m\u001b[0m\u001b[0m\n\u001b[0;32m     21\u001b[0m \u001b[1;32mfor\u001b[0m \u001b[0mrow_idx\u001b[0m \u001b[1;32min\u001b[0m \u001b[0mrow_indices\u001b[0m\u001b[1;33m:\u001b[0m\u001b[1;33m\u001b[0m\u001b[1;33m\u001b[0m\u001b[0m\n\u001b[1;32m---> 22\u001b[1;33m     \u001b[0mrow\u001b[0m \u001b[1;33m=\u001b[0m \u001b[0mrandom_matrix_array\u001b[0m\u001b[1;33m[\u001b[0m\u001b[0mrow_idx\u001b[0m\u001b[1;33m]\u001b[0m\u001b[1;33m\u001b[0m\u001b[1;33m\u001b[0m\u001b[0m\n\u001b[0m\u001b[0;32m     23\u001b[0m     \u001b[0mresults\u001b[0m \u001b[1;33m=\u001b[0m \u001b[0mmultiply_row_with_columns\u001b[0m\u001b[1;33m(\u001b[0m\u001b[0mrow\u001b[0m\u001b[1;33m,\u001b[0m \u001b[0mgain_matrix_array\u001b[0m\u001b[1;33m)\u001b[0m\u001b[1;33m\u001b[0m\u001b[1;33m\u001b[0m\u001b[0m\n\u001b[0;32m     24\u001b[0m     \u001b[0mall_results\u001b[0m\u001b[1;33m.\u001b[0m\u001b[0mappend\u001b[0m\u001b[1;33m(\u001b[0m\u001b[0mresults\u001b[0m\u001b[1;33m)\u001b[0m\u001b[1;33m\u001b[0m\u001b[1;33m\u001b[0m\u001b[0m\n",
      "\u001b[1;31mNameError\u001b[0m: name 'random_matrix_array' is not defined"
     ]
    }
   ],
   "source": [
    "# Function to multiply a row with corresponding columns\n",
    "def multiply_row_with_columns(row, matrix):\n",
    "    results = []\n",
    "    for i, element in enumerate(row):\n",
    "        column = [row[i] for row in matrix]\n",
    "        result = [element * col_element for col_element in column]\n",
    "        results.append(result)\n",
    "    return results\n",
    "\n",
    "# Define the row indices you want to use for the multiplication\n",
    "row_indices = [0,1,2,3,4,5,6,7,8,9,10,11,12,13,14,15,16,17,18,19,20,21,22,23,24,25,26,27,28,29,30,31,32,33,34,35,36,37,38,39,\n",
    "               40, 41, 42, 43, 44, 45, 46, 47, 48, 49,\n",
    "               50, 51, 52, 53, 54, 55, 56, 57, 58, 59,\n",
    "               60, 61, 62, 63, 64, 65, 66, 67, 68, 69,\n",
    "               70, 71, 72, 73, 74, 75, 76, 77, 78, 79, 80]  # You can extend this list to include more row indices\n",
    "\n",
    "# Initialize an empty list to store the results\n",
    "all_results = []\n",
    "\n",
    "# Multiply each element of the specified rows with the corresponding columns\n",
    "for row_idx in row_indices:\n",
    "    row = random_matrix_array[row_idx]\n",
    "    results = multiply_row_with_columns(row, gain_matrix_array)\n",
    "    all_results.append(results)\n",
    "\n",
    "# Print the results\n",
    "for idx, results in enumerate(all_results):\n",
    "    row_idx = row_indices[idx]\n",
    "    print(f\"Results for row {row_idx + 1}:\")\n",
    "    for i, result in enumerate(results):\n",
    "        print(f\"  Element {i + 1} of the row multiplied with the corresponding column:\")\n",
    "        print(f\"  {result}\")\n",
    "    print()\n"
   ]
  },
  {
   "cell_type": "code",
   "execution_count": null,
   "id": "77ffb8b8",
   "metadata": {},
   "outputs": [],
   "source": [
    "for idx, results in enumerate(all_results):\n",
    "    row_idx = row_indices[idx]\n",
    "    print(f\"Results for row {row_idx + 1}:\")\n",
    "    for i, result in enumerate(results):\n",
    "        Final_Result= [D*(math.log2((1+(1/N_linear)*value))) for value in result]\n",
    "        print(f\"  Element {i + 1} of the row multiplied with the corresponding column:\")\n",
    "        print(f\"  {Final_Result}\")  # Add 2 to each element when printing\n",
    "    print()"
   ]
  },
  {
   "cell_type": "code",
   "execution_count": null,
   "id": "df82851e",
   "metadata": {},
   "outputs": [],
   "source": [
    "# Function to sum the resulting matrices for a specific row\n",
    "def sum_resulting_matrices(row_idx, all_results):\n",
    "    return np.sum(all_results[row_idx], axis=0)\n",
    "\n",
    "# Perform addition on many resulting matrices\n",
    "for row_idx in row_indices:\n",
    "    sum_result = sum_resulting_matrices(row_idx, all_results)\n",
    "    print(f\"Sum of the resulting matrices for row {row_idx + 1}: {sum_result}\")"
   ]
  },
  {
   "cell_type": "code",
   "execution_count": null,
   "id": "18378e58",
   "metadata": {},
   "outputs": [],
   "source": []
  },
  {
   "cell_type": "code",
   "execution_count": null,
   "id": "81b30a22",
   "metadata": {},
   "outputs": [],
   "source": []
  }
 ],
 "metadata": {
  "kernelspec": {
   "display_name": "Python 3 (ipykernel)",
   "language": "python",
   "name": "python3"
  },
  "language_info": {
   "codemirror_mode": {
    "name": "ipython",
    "version": 3
   },
   "file_extension": ".py",
   "mimetype": "text/x-python",
   "name": "python",
   "nbconvert_exporter": "python",
   "pygments_lexer": "ipython3",
   "version": "3.9.13"
  }
 },
 "nbformat": 4,
 "nbformat_minor": 5
}
