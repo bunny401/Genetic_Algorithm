{
 "cells": [
  {
   "cell_type": "code",
   "execution_count": null,
   "id": "33a120d5",
   "metadata": {},
   "outputs": [],
   "source": [
    "#imports\n",
    "import math\n",
    "import numpy as np\n",
    "import random"
   ]
  },
  {
   "cell_type": "code",
   "execution_count": null,
   "id": "eab6c46f",
   "metadata": {},
   "outputs": [],
   "source": [
    "#constants\n",
    "D=10**6  #Bandwodth\n",
    "N= -174+10*(math.log10(D))  #Noise in DBM\n",
    "N_linear=(N)*(10**(-3))*(10**(N/10))    #Noise in miliwatt\n",
    "N_linear"
   ]
  },
  {
   "cell_type": "code",
   "execution_count": null,
   "id": "21f1f6f2",
   "metadata": {},
   "outputs": [],
   "source": [
    "# Compute the linear power of the population\n",
    "# Takes a list of population values and returns an array of corresponding linear transmission power values IN WATTS.\n",
    "import numpy as np\n",
    "def calculate_linear_trans_power(population):\n",
    "    return pow(10,-3)*np.power(10.0,np.array(population, dtype=\"float\")/10)"
   ]
  },
  {
   "cell_type": "code",
   "execution_count": null,
   "id": "8443144f",
   "metadata": {},
   "outputs": [],
   "source": [
    "calculate_linear_trans_power(4)"
   ]
  },
  {
   "cell_type": "code",
   "execution_count": 6,
   "id": "970024a9",
   "metadata": {},
   "outputs": [
    {
     "data": {
      "text/plain": [
       "array([0.001     , 0.00158489, 0.00251189])"
      ]
     },
     "execution_count": 6,
     "metadata": {},
     "output_type": "execute_result"
    }
   ],
   "source": [
    "population = [0, 2, 4]\n",
    "calculate_linear_trans_power(population)"
   ]
  },
  {
   "cell_type": "code",
   "execution_count": null,
   "id": "c4909d7f",
   "metadata": {},
   "outputs": [],
   "source": [
    "#converting Powers {0,2,4}dbm to watt rounded to 4 decimal palce\n",
    "watt1 =round(10 ** (0 / 10) * 0.001, 4) \n",
    "watt2 = round(10 ** (2 / 10) * 0.001, 4)\n",
    "watt3 = round(10 ** (4 / 10) * 0.001,4)\n",
    "mylist=[watt1,watt2,watt3]\n",
    "print(mylist)\n"
   ]
  },
  {
   "cell_type": "code",
   "execution_count": 1,
   "id": "838d3f83",
   "metadata": {
    "scrolled": true
   },
   "outputs": [
    {
     "ename": "NameError",
     "evalue": "name 'random' is not defined",
     "output_type": "error",
     "traceback": [
      "\u001b[1;31m---------------------------------------------------------------------------\u001b[0m",
      "\u001b[1;31mNameError\u001b[0m                                 Traceback (most recent call last)",
      "\u001b[1;32m~\\AppData\\Local\\Temp\\ipykernel_20688\\955628431.py\u001b[0m in \u001b[0;36m<module>\u001b[1;34m\u001b[0m\n\u001b[0;32m      8\u001b[0m \u001b[0mrows\u001b[0m \u001b[1;33m=\u001b[0m \u001b[1;36m81\u001b[0m\u001b[1;33m\u001b[0m\u001b[1;33m\u001b[0m\u001b[0m\n\u001b[0;32m      9\u001b[0m \u001b[0mcolumns\u001b[0m \u001b[1;33m=\u001b[0m \u001b[1;36m4\u001b[0m\u001b[1;33m\u001b[0m\u001b[1;33m\u001b[0m\u001b[0m\n\u001b[1;32m---> 10\u001b[1;33m \u001b[0mrandom_matrix\u001b[0m \u001b[1;33m=\u001b[0m \u001b[0mcreate_random_matrix\u001b[0m\u001b[1;33m(\u001b[0m\u001b[0mrows\u001b[0m\u001b[1;33m,\u001b[0m \u001b[0mcolumns\u001b[0m\u001b[1;33m)\u001b[0m  \u001b[1;31m#the matrix\u001b[0m\u001b[1;33m\u001b[0m\u001b[1;33m\u001b[0m\u001b[0m\n\u001b[0m\u001b[0;32m     11\u001b[0m \u001b[1;33m\u001b[0m\u001b[0m\n\u001b[0;32m     12\u001b[0m \u001b[0mrandom_matrix_array\u001b[0m\u001b[1;33m=\u001b[0m\u001b[0mnp\u001b[0m\u001b[1;33m.\u001b[0m\u001b[0marray\u001b[0m\u001b[1;33m(\u001b[0m\u001b[0mrandom_matrix\u001b[0m\u001b[1;33m)\u001b[0m  \u001b[1;31m#converting the matrix to array\u001b[0m\u001b[1;33m\u001b[0m\u001b[1;33m\u001b[0m\u001b[0m\n",
      "\u001b[1;32m~\\AppData\\Local\\Temp\\ipykernel_20688\\955628431.py\u001b[0m in \u001b[0;36mcreate_random_matrix\u001b[1;34m(rows, columns)\u001b[0m\n\u001b[0;32m      2\u001b[0m \u001b[0mn\u001b[0m\u001b[1;33m=\u001b[0m\u001b[1;36m1\u001b[0m\u001b[1;33m\u001b[0m\u001b[1;33m\u001b[0m\u001b[0m\n\u001b[0;32m      3\u001b[0m \u001b[1;32mdef\u001b[0m \u001b[0mcreate_random_matrix\u001b[0m\u001b[1;33m(\u001b[0m\u001b[0mrows\u001b[0m\u001b[1;33m,\u001b[0m \u001b[0mcolumns\u001b[0m\u001b[1;33m)\u001b[0m\u001b[1;33m:\u001b[0m\u001b[1;33m\u001b[0m\u001b[1;33m\u001b[0m\u001b[0m\n\u001b[1;32m----> 4\u001b[1;33m     \u001b[0mmatrix\u001b[0m \u001b[1;33m=\u001b[0m \u001b[1;33m[\u001b[0m\u001b[1;33m[\u001b[0m\u001b[0mrandom\u001b[0m\u001b[1;33m.\u001b[0m\u001b[0mchoice\u001b[0m\u001b[1;33m(\u001b[0m\u001b[0mmylist\u001b[0m\u001b[1;33m)\u001b[0m \u001b[1;32mfor\u001b[0m \u001b[0m_\u001b[0m \u001b[1;32min\u001b[0m \u001b[0mrange\u001b[0m\u001b[1;33m(\u001b[0m\u001b[0mcolumns\u001b[0m\u001b[1;33m)\u001b[0m\u001b[1;33m]\u001b[0m \u001b[1;32mfor\u001b[0m \u001b[0m_\u001b[0m \u001b[1;32min\u001b[0m \u001b[0mrange\u001b[0m\u001b[1;33m(\u001b[0m\u001b[0mrows\u001b[0m\u001b[1;33m)\u001b[0m\u001b[1;33m]\u001b[0m\u001b[1;33m\u001b[0m\u001b[1;33m\u001b[0m\u001b[0m\n\u001b[0m\u001b[0;32m      5\u001b[0m     \u001b[1;32mreturn\u001b[0m \u001b[0mmatrix\u001b[0m\u001b[1;33m\u001b[0m\u001b[1;33m\u001b[0m\u001b[0m\n\u001b[0;32m      6\u001b[0m \u001b[1;33m\u001b[0m\u001b[0m\n",
      "\u001b[1;32m~\\AppData\\Local\\Temp\\ipykernel_20688\\955628431.py\u001b[0m in \u001b[0;36m<listcomp>\u001b[1;34m(.0)\u001b[0m\n\u001b[0;32m      2\u001b[0m \u001b[0mn\u001b[0m\u001b[1;33m=\u001b[0m\u001b[1;36m1\u001b[0m\u001b[1;33m\u001b[0m\u001b[1;33m\u001b[0m\u001b[0m\n\u001b[0;32m      3\u001b[0m \u001b[1;32mdef\u001b[0m \u001b[0mcreate_random_matrix\u001b[0m\u001b[1;33m(\u001b[0m\u001b[0mrows\u001b[0m\u001b[1;33m,\u001b[0m \u001b[0mcolumns\u001b[0m\u001b[1;33m)\u001b[0m\u001b[1;33m:\u001b[0m\u001b[1;33m\u001b[0m\u001b[1;33m\u001b[0m\u001b[0m\n\u001b[1;32m----> 4\u001b[1;33m     \u001b[0mmatrix\u001b[0m \u001b[1;33m=\u001b[0m \u001b[1;33m[\u001b[0m\u001b[1;33m[\u001b[0m\u001b[0mrandom\u001b[0m\u001b[1;33m.\u001b[0m\u001b[0mchoice\u001b[0m\u001b[1;33m(\u001b[0m\u001b[0mmylist\u001b[0m\u001b[1;33m)\u001b[0m \u001b[1;32mfor\u001b[0m \u001b[0m_\u001b[0m \u001b[1;32min\u001b[0m \u001b[0mrange\u001b[0m\u001b[1;33m(\u001b[0m\u001b[0mcolumns\u001b[0m\u001b[1;33m)\u001b[0m\u001b[1;33m]\u001b[0m \u001b[1;32mfor\u001b[0m \u001b[0m_\u001b[0m \u001b[1;32min\u001b[0m \u001b[0mrange\u001b[0m\u001b[1;33m(\u001b[0m\u001b[0mrows\u001b[0m\u001b[1;33m)\u001b[0m\u001b[1;33m]\u001b[0m\u001b[1;33m\u001b[0m\u001b[1;33m\u001b[0m\u001b[0m\n\u001b[0m\u001b[0;32m      5\u001b[0m     \u001b[1;32mreturn\u001b[0m \u001b[0mmatrix\u001b[0m\u001b[1;33m\u001b[0m\u001b[1;33m\u001b[0m\u001b[0m\n\u001b[0;32m      6\u001b[0m \u001b[1;33m\u001b[0m\u001b[0m\n",
      "\u001b[1;32m~\\AppData\\Local\\Temp\\ipykernel_20688\\955628431.py\u001b[0m in \u001b[0;36m<listcomp>\u001b[1;34m(.0)\u001b[0m\n\u001b[0;32m      2\u001b[0m \u001b[0mn\u001b[0m\u001b[1;33m=\u001b[0m\u001b[1;36m1\u001b[0m\u001b[1;33m\u001b[0m\u001b[1;33m\u001b[0m\u001b[0m\n\u001b[0;32m      3\u001b[0m \u001b[1;32mdef\u001b[0m \u001b[0mcreate_random_matrix\u001b[0m\u001b[1;33m(\u001b[0m\u001b[0mrows\u001b[0m\u001b[1;33m,\u001b[0m \u001b[0mcolumns\u001b[0m\u001b[1;33m)\u001b[0m\u001b[1;33m:\u001b[0m\u001b[1;33m\u001b[0m\u001b[1;33m\u001b[0m\u001b[0m\n\u001b[1;32m----> 4\u001b[1;33m     \u001b[0mmatrix\u001b[0m \u001b[1;33m=\u001b[0m \u001b[1;33m[\u001b[0m\u001b[1;33m[\u001b[0m\u001b[0mrandom\u001b[0m\u001b[1;33m.\u001b[0m\u001b[0mchoice\u001b[0m\u001b[1;33m(\u001b[0m\u001b[0mmylist\u001b[0m\u001b[1;33m)\u001b[0m \u001b[1;32mfor\u001b[0m \u001b[0m_\u001b[0m \u001b[1;32min\u001b[0m \u001b[0mrange\u001b[0m\u001b[1;33m(\u001b[0m\u001b[0mcolumns\u001b[0m\u001b[1;33m)\u001b[0m\u001b[1;33m]\u001b[0m \u001b[1;32mfor\u001b[0m \u001b[0m_\u001b[0m \u001b[1;32min\u001b[0m \u001b[0mrange\u001b[0m\u001b[1;33m(\u001b[0m\u001b[0mrows\u001b[0m\u001b[1;33m)\u001b[0m\u001b[1;33m]\u001b[0m\u001b[1;33m\u001b[0m\u001b[1;33m\u001b[0m\u001b[0m\n\u001b[0m\u001b[0;32m      5\u001b[0m     \u001b[1;32mreturn\u001b[0m \u001b[0mmatrix\u001b[0m\u001b[1;33m\u001b[0m\u001b[1;33m\u001b[0m\u001b[0m\n\u001b[0;32m      6\u001b[0m \u001b[1;33m\u001b[0m\u001b[0m\n",
      "\u001b[1;31mNameError\u001b[0m: name 'random' is not defined"
     ]
    }
   ],
   "source": [
    "#creating scenarios in watt\n",
    "n=1\n",
    "def create_random_matrix(rows, columns):\n",
    "    matrix = [[random.choice(mylist) for _ in range(columns)] for _ in range(rows)]\n",
    "    return matrix\n",
    "\n",
    "\n",
    "rows = 81\n",
    "columns = 4\n",
    "random_matrix = create_random_matrix(rows, columns)  #the matrix\n",
    "\n",
    "random_matrix_array=np.array(random_matrix)  #converting the matrix to array\n",
    "print(random_matrix_array)\n",
    "\n",
    "\n",
    "\n"
   ]
  },
  {
   "cell_type": "code",
   "execution_count": null,
   "id": "71f5e95b",
   "metadata": {},
   "outputs": [],
   "source": [
    "def channel_matrix(min_distance, max_distance, loss, num_BS_antenna, num_users):\n",
    "    channel_matrix = np.zeros((num_users, num_BS_antenna), dtype=complex)\n",
    "    \n",
    "    for i in range(num_users):\n",
    "        d = random.randint(min_distance, max_distance)  # random distance\n",
    "        path_loss_factor = d ** (-loss)\n",
    "        \n",
    "        for j in range(num_BS_antenna):\n",
    "            channel_coefficient = path_loss_factor * (np.random.randn() + 1j * np.random.randn()) / np.sqrt(2)\n",
    "            channel_matrix[i][j] = channel_coefficient\n",
    "            \n",
    "    gain_matrix = np.abs(channel_matrix) ** 2\n",
    "    return channel_matrix, gain_matrix\n",
    "\n",
    "# Example usage\n",
    "min_distance = 500\n",
    "max_distance = 1000\n",
    "loss = 4\n",
    "num_BS_antenna = 4\n",
    "num_users = 4\n",
    "\n",
    "channel_mat, gain_matrix = channel_matrix(min_distance, max_distance, loss, num_BS_antenna, num_users)\n",
    "\n",
    "channel_mat_array=np.array(channel_mat)  #matrix\n",
    "print(\"Channel matrix:\\n\", channel_mat_array)   #converting the matrix to array\n",
    "\n",
    "gain_matrix_array=np.array(gain_matrix)   #matrix\n",
    "print(\"Gain matrix:\\n\", gain_matrix_array)     #converting the matrix to array\n",
    "\n",
    "\n",
    "\n"
   ]
  },
  {
   "cell_type": "code",
   "execution_count": null,
   "id": "87223842",
   "metadata": {},
   "outputs": [],
   "source": [
    "first_row_random_matrix_array = random_matrix_array[0][0]\n",
    "print (first_row_random_matrix_array)\n"
   ]
  },
  {
   "cell_type": "code",
   "execution_count": null,
   "id": "3246c819",
   "metadata": {},
   "outputs": [],
   "source": [
    "for j in range(gain_matrix_array.shape[1]):\n",
    "    column = gain_matrix_array[:,j]\n",
    "    print(column)\n",
    "\n",
    "\n",
    "first_column=gain_matrix_array[:, 0]\n",
    "print (first_column)"
   ]
  },
  {
   "cell_type": "code",
   "execution_count": null,
   "id": "9026ae03",
   "metadata": {
    "scrolled": false
   },
   "outputs": [],
   "source": [
    "Result=first_row_random_matrix_array*first_column\n",
    "print(Result)\n"
   ]
  },
  {
   "cell_type": "code",
   "execution_count": null,
   "id": "a1bdada1",
   "metadata": {},
   "outputs": [],
   "source": [
    "final = 1+((1 / N_linear)*Result)\n",
    "print(final)\n"
   ]
  },
  {
   "cell_type": "code",
   "execution_count": null,
   "id": "bcc52b57",
   "metadata": {},
   "outputs": [],
   "source": [
    "Final_ = np.log2(final)\n",
    "print(D*Final_)"
   ]
  },
  {
   "cell_type": "code",
   "execution_count": null,
   "id": "02a3c004",
   "metadata": {},
   "outputs": [],
   "source": [
    "# Function to multiply a row with corresponding columns\n",
    "def multiply_row_with_columns(row, matrix):\n",
    "    results = []\n",
    "    for i, element in enumerate(row):\n",
    "        column = [row[i] for row in matrix]\n",
    "        result = [element * col_element for col_element in column]\n",
    "        results.append(result)\n",
    "    return results\n",
    "\n",
    "# Define the row indices you want to use for the multiplication\n",
    "row_indices = [0,1,2,3,4,5,6,7,8,9,10,11,12,13,14,15,16,17,18,19,20,21,22,23,24,25,26,27,28,29,30,31,32,33,34,35,36,37,38,39,\n",
    "               40, 41, 42, 43, 44, 45, 46, 47, 48, 49,\n",
    "               50, 51, 52, 53, 54, 55, 56, 57, 58, 59,\n",
    "               60, 61, 62, 63, 64, 65, 66, 67, 68, 69,\n",
    "               70, 71, 72, 73, 74, 75, 76, 77, 78, 79, 80]  # You can extend this list to include more row indices\n",
    "\n",
    "# Initialize an empty list to store the results\n",
    "all_results = []\n",
    "\n",
    "# Multiply each element of the specified rows with the corresponding columns\n",
    "for row_idx in row_indices:\n",
    "    row = random_matrix_array[row_idx]\n",
    "    results = multiply_row_with_columns(row, gain_matrix_array)\n",
    "    all_results.append(results)\n",
    "\n",
    "# Print the results\n",
    "for idx, results in enumerate(all_results):\n",
    "    row_idx = row_indices[idx]\n",
    "    print(f\"Results for row {row_idx + 1}:\")\n",
    "    for i, result in enumerate(results):\n",
    "        print(f\"  Element {i + 1} of the row multiplied with the corresponding column:\")\n",
    "        print(f\"  {result}\")\n",
    "    print()\n"
   ]
  },
  {
   "cell_type": "code",
   "execution_count": null,
   "id": "77ffb8b8",
   "metadata": {},
   "outputs": [],
   "source": [
    "for idx, results in enumerate(all_results):\n",
    "    row_idx = row_indices[idx]\n",
    "    print(f\"Results for row {row_idx + 1}:\")\n",
    "    for i, result in enumerate(results):\n",
    "        Final_Result= [D*(math.log2((1+(1/N_linear)*value))) for value in result]\n",
    "        print(f\"  Element {i + 1} of the row multiplied with the corresponding column:\")\n",
    "        print(f\"  {Final_Result}\")  # Add 2 to each element when printing\n",
    "    print()"
   ]
  },
  {
   "cell_type": "code",
   "execution_count": null,
   "id": "df82851e",
   "metadata": {},
   "outputs": [],
   "source": [
    "# Function to sum the resulting matrices for a specific row\n",
    "def sum_resulting_matrices(row_idx, all_results):\n",
    "    return np.sum(all_results[row_idx], axis=0)\n",
    "\n",
    "# Perform addition on many resulting matrices\n",
    "for row_idx in row_indices:\n",
    "    sum_result = sum_resulting_matrices(row_idx, all_results)\n",
    "    print(f\"Sum of the resulting matrices for row {row_idx + 1}: {sum_result}\")"
   ]
  },
  {
   "cell_type": "code",
   "execution_count": null,
   "id": "18378e58",
   "metadata": {},
   "outputs": [],
   "source": []
  },
  {
   "cell_type": "code",
   "execution_count": null,
   "id": "81b30a22",
   "metadata": {},
   "outputs": [],
   "source": []
  }
 ],
 "metadata": {
  "kernelspec": {
   "display_name": "Python 3 (ipykernel)",
   "language": "python",
   "name": "python3"
  },
  "language_info": {
   "codemirror_mode": {
    "name": "ipython",
    "version": 3
   },
   "file_extension": ".py",
   "mimetype": "text/x-python",
   "name": "python",
   "nbconvert_exporter": "python",
   "pygments_lexer": "ipython3",
   "version": "3.9.13"
  }
 },
 "nbformat": 4,
 "nbformat_minor": 5
}
